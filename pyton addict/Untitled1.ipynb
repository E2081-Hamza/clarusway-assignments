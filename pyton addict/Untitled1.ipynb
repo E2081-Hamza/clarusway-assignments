{
 "cells": [
  {
   "cell_type": "code",
   "execution_count": 6,
   "metadata": {},
   "outputs": [
    {
     "name": "stdout",
     "output_type": "stream",
     "text": [
      "[[1, 2, 3], [1, 3, 2], [2, 1, 3], [2, 3, 1], [3, 1, 2], [3, 2, 1]]\n"
     ]
    }
   ],
   "source": [
    "lst = [1,2,3]\n",
    "p=[[x for x in range(0)]]\n",
    "for i in range(len(lst)):\n",
    "    p = [[a] + b for a in lst for b in p if (a not in b)]\n",
    "print(p)"
   ]
  },
  {
   "cell_type": "code",
   "execution_count": 3,
   "metadata": {},
   "outputs": [
    {
     "name": "stdout",
     "output_type": "stream",
     "text": [
      "[[]]\n"
     ]
    }
   ],
   "source": [
    "p=[[x for x in range(0)]]\n",
    "print(p)"
   ]
  },
  {
   "cell_type": "code",
   "execution_count": null,
   "metadata": {},
   "outputs": [],
   "source": [
    "lst=list(input(\"enter number array for permutation\"))\n",
    "n=int(input(\"enter times of combination\"))\n",
    "if len(lst)>n:\n",
    "    p=[[x for x in range(0)]]\n",
    "    for i in range(n):\n",
    "        p = [[a] + b for a in lst for b in p if (a not in b)]\n",
    "    print(p)\n",
    "else:\n",
    "    print(\"Please enter a combination number lower than list length\")"
   ]
  },
  {
   "cell_type": "code",
   "execution_count": null,
   "metadata": {},
   "outputs": [],
   "source": []
  },
  {
   "cell_type": "code",
   "execution_count": null,
   "metadata": {},
   "outputs": [],
   "source": [
    "input = [\"eat\", \"tea\", \"tan\", \"ate\", \"nat\", \"bat\"]\n",
    "output = {}\n",
    "for i in input:\n",
    "    key = \"\".join(sorted(i))\n",
    "    if key in output.keys():\n",
    "        output[key].append(i)\n",
    "    else:\n",
    "        output[key] = []\n",
    "        output[key].append(i)\n",
    "print(list(output.values()))"
   ]
  },
  {
   "cell_type": "code",
   "execution_count": null,
   "metadata": {},
   "outputs": [],
   "source": [
    "ls = [\"eat\", \"tea\", \"tan\", \"ate\", \"nat\", \"bat\"]\n",
    "temp_ls, res_with_dups, result = [], [], []\n",
    "for i in ls:\n",
    "    for j in ls:\n",
    "        if sorted(i) == sorted(j):\n",
    "            temp_ls.append(j)\n",
    "    else:\n",
    "        res_with_dups.append(temp_ls)\n",
    "        temp_ls = []\n",
    "for i in res_with_dups:\n",
    "    if i not in result:\n",
    "        result.append(i)\n",
    "print(result)"
   ]
  },
  {
   "cell_type": "code",
   "execution_count": 7,
   "metadata": {},
   "outputs": [
    {
     "data": {
      "text/plain": [
       "[['eat', 'tea', 'ate'], ['tanat'], ['nat'], ['bat']]"
      ]
     },
     "execution_count": 7,
     "metadata": {},
     "output_type": "execute_result"
    }
   ],
   "source": [
    "def anagram(lst:list):\n",
    "    anagram_lst = []\n",
    "    for i in lst:\n",
    "        add_list= [j for j in lst if set(i) == set(j) and len(i)==len(j)]\n",
    "        if not add_list in anagram_lst:\n",
    "            anagram_lst.append(add_list)\n",
    "    return anagram_lst\n",
    "anagram([\"eat\", \"tea\", \"tanat\", \"ate\", \"nat\", \"bat\"])"
   ]
  },
  {
   "cell_type": "code",
   "execution_count": null,
   "metadata": {},
   "outputs": [],
   "source": []
  }
 ],
 "metadata": {
  "kernelspec": {
   "display_name": "Python 3",
   "language": "python",
   "name": "python3"
  },
  "language_info": {
   "codemirror_mode": {
    "name": "ipython",
    "version": 3
   },
   "file_extension": ".py",
   "mimetype": "text/x-python",
   "name": "python",
   "nbconvert_exporter": "python",
   "pygments_lexer": "ipython3",
   "version": "3.7.6"
  }
 },
 "nbformat": 4,
 "nbformat_minor": 4
}
