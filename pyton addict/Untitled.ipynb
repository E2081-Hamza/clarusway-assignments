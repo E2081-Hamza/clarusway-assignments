{
 "cells": [
  {
   "cell_type": "code",
   "execution_count": 46,
   "metadata": {},
   "outputs": [
    {
     "name": "stdout",
     "output_type": "stream",
     "text": [
      "16 1673089424664\n"
     ]
    }
   ],
   "source": [
    "import pandas\n",
    "\n",
    "xx = {'f':2, 'c':4, 's':7, 'm':3}\n",
    "\n",
    "a = sum(xx.values()) \n",
    "\n",
    "print(a, id(xx))\n",
    "\n",
    " \n",
    "    \n"
   ]
  },
  {
   "cell_type": "code",
   "execution_count": null,
   "metadata": {},
   "outputs": [],
   "source": []
  },
  {
   "cell_type": "code",
   "execution_count": null,
   "metadata": {},
   "outputs": [],
   "source": []
  },
  {
   "cell_type": "code",
   "execution_count": null,
   "metadata": {},
   "outputs": [],
   "source": []
  },
  {
   "cell_type": "code",
   "execution_count": null,
   "metadata": {},
   "outputs": [],
   "source": []
  },
  {
   "cell_type": "code",
   "execution_count": null,
   "metadata": {},
   "outputs": [],
   "source": []
  },
  {
   "cell_type": "code",
   "execution_count": 53,
   "metadata": {},
   "outputs": [
    {
     "name": "stdout",
     "output_type": "stream",
     "text": [
      "None\n"
     ]
    }
   ],
   "source": [
    "print([].append('i'))"
   ]
  },
  {
   "cell_type": "code",
   "execution_count": null,
   "metadata": {},
   "outputs": [],
   "source": []
  },
  {
   "cell_type": "code",
   "execution_count": null,
   "metadata": {},
   "outputs": [],
   "source": []
  },
  {
   "cell_type": "code",
   "execution_count": 52,
   "metadata": {},
   "outputs": [
    {
     "name": "stdout",
     "output_type": "stream",
     "text": [
      "u p p e r\n"
     ]
    }
   ],
   "source": [
    "print(*'upper')"
   ]
  },
  {
   "cell_type": "code",
   "execution_count": null,
   "metadata": {},
   "outputs": [],
   "source": [
    "def anagram(x):    \n",
    "    t = []\n",
    "    a = 0\n",
    "    for i in x:       \n",
    "        z = []\n",
    "        y = x.copy()\n",
    "        y.remove(i)\n",
    "        n = list(i)\n",
    "        print(list(i))\n",
    "        print(\"\\n--------\")\n",
    "        for ii in y:    \n",
    "            m = list(ii)\n",
    "            if (n in m) and (len(n) == len (m)):              \n",
    "                z.append(ii)\n",
    "            else: \n",
    "                continue\n",
    "        z.append(i)\n",
    "        print(z)\n",
    "        t[a:len(z)] = z\n",
    "        a+=1\n",
    "    \n",
    "    print(t)\n",
    "     \n",
    "\n",
    "words = [\"eat\", \"tea\", \"tanat\", \"ate\", \"nat\", \"bat\"]\n",
    "\n",
    "\n",
    "\n",
    "anagram(words)  \n"
   ]
  },
  {
   "cell_type": "code",
   "execution_count": null,
   "metadata": {},
   "outputs": [],
   "source": [
    "def anagram(x):\n",
    "    \n",
    "    z = t = []\n",
    "    i,j = 0,1\n",
    "    a = len(x)\n",
    "   \n",
    "    while i < a:         \n",
    "        while j < a:\n",
    "            if x[i] != x[j] and len(x[i]) == len(x[j]) and set(x[i]) == set(x[j]):\n",
    "                z.append(x[j])\n",
    "                x.remove(x[j])\n",
    "                a-=1\n",
    "                print(z, x, a)\n",
    "            else:\n",
    "                j+=1\n",
    "                print(j)\n",
    "                \n",
    "        z.append(x[i])\n",
    "        x.remove(x[i])\n",
    "        a-=1\n",
    "        t.append(z)\n",
    "           \n",
    "    print(t)\n",
    "\n",
    "#words = [\"eat\", \"tea\", \"tanat\",\"anatt\", \"ate\", \"nat\", \"bat\"]\n",
    "words = [\"eat\", \"tea\", \"tan\", \"ate\", \"nat\", \"bat\"]\n",
    "\n",
    "\n",
    "anagram(words)                                    \n",
    "                                   \n",
    "\n",
    "\n",
    "\n",
    "    "
   ]
  },
  {
   "cell_type": "code",
   "execution_count": null,
   "metadata": {},
   "outputs": [],
   "source": [
    "def anagram(x):\n",
    "    \n",
    "    z = t = []\n",
    "    y = x.copy()  \n",
    "    \n",
    "    for i in x:       \n",
    "        \n",
    "        for j in y:            \n",
    "            \n",
    "            if i != j and len(i) == len(j) and set(i) == set(j):\n",
    "                \n",
    "                z.append(j)               \n",
    "                \n",
    "                #print(\"z: \",z, \"\\n \",\" y: \",y)\n",
    "            \n",
    "            else:\n",
    "                \n",
    "                continue                \n",
    "              \n",
    "        t.append(z)\n",
    "            \n",
    "            \n",
    "  \n",
    "        \n",
    "           \n",
    "words = [\"eat\", \"tea\", \"ate\", \"tan\", \"nat\", \"bat\"]\n",
    "\n",
    "anagram(words)                                    "
   ]
  },
  {
   "cell_type": "code",
   "execution_count": null,
   "metadata": {},
   "outputs": [],
   "source": [
    "\n",
    "words = [\"eat\", \"tea\", \"tan\", \"ate\", \"nat\", \"bat\"]\n",
    "\n",
    "z, t = [],[]\n",
    "\n",
    "for i in words:\n",
    "    for j in words:\n",
    "        if i != j and len(i) == len(j) and set(i)==set(j):\n",
    "            print(set(i),set(j))\n",
    "            z.append(j)\n",
    "            words.remove(j)\n",
    "        else:\n",
    "            continue\n",
    "    z.insert(0,i)\n",
    "    words.remove(i)\n",
    "    \n",
    "    t.append(z)\n",
    "           \n",
    "print(t)\n",
    "   \n",
    "\n",
    "anagram(words)                                    \n",
    "                                   \n"
   ]
  },
  {
   "cell_type": "code",
   "execution_count": null,
   "metadata": {},
   "outputs": [],
   "source": [
    "words = [\"eat\", \"tea\", \"tanat\", \"ate\", \"nat\", \"bat\"]\n",
    "anagram = []\n",
    "for i in words:\n",
    "    my_list = [j for j in words if set(i) == set(j)]\n",
    "    if my_list not in anagram:\n",
    "        anagram.append(my_list)\n",
    "print(anagram)"
   ]
  },
  {
   "cell_type": "code",
   "execution_count": null,
   "metadata": {},
   "outputs": [],
   "source": [
    "odd = []\n",
    "\n",
    "m = (1,2,3,4)\n",
    "\n",
    "n = [5,6,7,8]\n",
    "\n",
    "odd.insert(1,m)\n",
    "\n",
    "print(odd)\n"
   ]
  },
  {
   "cell_type": "code",
   "execution_count": null,
   "metadata": {},
   "outputs": [],
   "source": [
    "x = [\"eat\", \"tea\", \"tanat\", \"ate\", \"nat\", \"bat\"]\n",
    "\n",
    "for i in range(len(x)):\n",
    "    \n",
    "    for ii in range (i+1,len(x)):\n",
    "        \n",
    "        if (len(x[i]) == len(x[ii]))\n",
    "                                          \n",
    "                                          \n",
    "                            \n",
    "\n",
    "    for ii in y:\n",
    "\n",
    "        if list(i) in list(ii):\n",
    "\n",
    "            z.append(ii)\n",
    "            \n",
    "        else:\n",
    "            \n",
    "            continue\n",
    "    "
   ]
  },
  {
   "cell_type": "code",
   "execution_count": null,
   "metadata": {},
   "outputs": [],
   "source": [
    "words = [\"eat\", \"tea\", \"tanat\", \"ate\", \"nat\", \"bat\"]\n",
    "a = [\"aet\"]\n",
    "\n",
    "print(list(a[0])) \n",
    "print(list(words[0]))\n",
    "\n",
    "if a[0][0] in words[0]:\n",
    "    print(\"ok\")\n",
    "else:\n",
    "    print(\"no\")"
   ]
  },
  {
   "cell_type": "code",
   "execution_count": null,
   "metadata": {},
   "outputs": [],
   "source": [
    "x = [\"eat\", \"tea\", \"tanat\", \"ate\", \"nat\", \"bat\"]\n",
    "\n",
    "y = x.copy()\n",
    "\n",
    "t = []\n",
    "\n",
    "a = 0\n",
    "\n",
    "for i in range(len(y)):\n",
    "    \n",
    "    z = []\n",
    "    \n",
    "    for ii in range (i+1,len(y)):\n",
    "        \n",
    "        if (len(y[i]) == len(y[ii])) and (set(y[i]) == set(y[ii])):\n",
    "             \n",
    "            z.append(x[ii])\n",
    "            \n",
    "            y.pop(ii)\n",
    "                                \n",
    "        else: \n",
    "            \n",
    "            continue\n",
    "            \n",
    "    z.insert(0,x[i])\n",
    "\n",
    "    print(z)    \n",
    "           \n",
    "    t.insert(a,z)              \n",
    "    \n",
    "    \n",
    "    a+=1\n",
    "\n",
    "print(t)"
   ]
  },
  {
   "cell_type": "code",
   "execution_count": null,
   "metadata": {},
   "outputs": [],
   "source": [
    "x = [\"eat\", \"tea\", \"tanat\", \"ate\", \"nat\", \"bat\"]\n",
    "\n",
    "y = x.copy()\n",
    "\n",
    "t = []\n",
    "\n",
    "a = 0\n",
    "\n",
    "for i in y:\n",
    "    \n",
    "    z = []\n",
    "    \n",
    "    for ii in y.pop(0):\n",
    "        \n",
    "        if (len(y[i]) == len(y[ii])) and (set(y[i]) == set(y[ii])):\n",
    "             \n",
    "            z.append(x[ii])\n",
    "            \n",
    "            y.pop(ii)\n",
    "                                \n",
    "        else: \n",
    "            \n",
    "            continue\n",
    "            \n",
    "    z.insert(0,x[i])\n",
    "\n",
    "    print(z)    \n",
    "           \n",
    "    t.insert(a,z)              \n",
    "    \n",
    "    \n",
    "    a+=1\n",
    "\n",
    "print(t)"
   ]
  },
  {
   "cell_type": "code",
   "execution_count": null,
   "metadata": {},
   "outputs": [],
   "source": [
    "x = [\"eat\", \"tea\", \"tanat\", \"ate\", \"nat\", \"bat\"]\n",
    "\n",
    "a = 0\n",
    "\n",
    "\n",
    "    \n",
    "for i in range(len(x)):\n",
    "    \n",
    "    print (i)\n",
    "    \n",
    "    x.pop(0)\n",
    "    \n",
    "    a +=1       \n",
    "\n",
    "    \n",
    "print(x)\n",
    "    \n",
    "    \n",
    "    "
   ]
  },
  {
   "cell_type": "code",
   "execution_count": null,
   "metadata": {},
   "outputs": [],
   "source": [
    "x = [\"eat\", \"tea\", \"tanat\", \"ate\", \"nat\", \"bat\"]\n",
    "\n",
    "y = x.copy()\n",
    "\n",
    "z= []\n",
    "\n",
    "print (list(x[0])\n",
    "for i in x: \n",
    "   \n",
    "    y.remove(i)\n",
    "    \n",
    "    for ii in y:\n",
    "        \n",
    "        if len(i) == len(ii) and set(i) == set(ii):\n",
    "            \n",
    "            z.append(ii)\n",
    "            \n",
    "            y.remove(ii)     \n",
    "            \n",
    "        \n",
    "        print(i,ii)\n",
    "        \n",
    "    print()\n",
    "        \n"
   ]
  },
  {
   "cell_type": "code",
   "execution_count": null,
   "metadata": {},
   "outputs": [],
   "source": [
    "x = [\"eat\", \"tea\", \"tanat\", \"ate\", \"nat\", \"bat\"]\n",
    "\n",
    "y = x.copy()\n",
    "\n",
    "z= []\n",
    "\n",
    "print(list(x[0]))"
   ]
  },
  {
   "cell_type": "code",
   "execution_count": null,
   "metadata": {},
   "outputs": [],
   "source": [
    "for i in list(x[i]): \n",
    "\n",
    "    if i in list(x[1]):\n",
    "\n",
    "print(True)"
   ]
  },
  {
   "cell_type": "code",
   "execution_count": null,
   "metadata": {},
   "outputs": [],
   "source": [
    "def find_anagram(x)\n",
    "\n",
    "    for i in x:\n",
    "        for j in range(1, len(i))\n",
    "            if i[j-1] in x[j]\n",
    "                continue\n",
    "            else:\n",
    "                \n",
    "    for i in range(len(x)):\n",
    "        for j in range(len(i)):        \n",
    "            if x[i][j] in x[i+1]:               \n",
    "                continue\n",
    "            else:\n",
    "                \n",
    "            \n",
    "            if i in x[1]\n",
    "                continue\n",
    "            else:\n",
    "                \n",
    " x.[0][0] in x[1] \n",
    " \n",
    ".\n",
    ".\n",
    ".\n",
    "\n",
    "z.append(x[1])\n",
    "\n",
    "x.pop(1)\n",
    "\n"
   ]
  },
  {
   "cell_type": "code",
   "execution_count": null,
   "metadata": {},
   "outputs": [],
   "source": [
    "\n",
    "def perm(x)\n",
    "    m=1\n",
    "    for x in range(1,7):\n",
    "        m=m*x\n",
    "    return m\n",
    "    \n",
    "        "
   ]
  },
  {
   "cell_type": "code",
   "execution_count": null,
   "metadata": {},
   "outputs": [],
   "source": [
    "print("
   ]
  },
  {
   "cell_type": "code",
   "execution_count": null,
   "metadata": {},
   "outputs": [],
   "source": [
    "1*2*3*4*5*6*7*8*9*10"
   ]
  },
  {
   "cell_type": "code",
   "execution_count": null,
   "metadata": {},
   "outputs": [],
   "source": [
    "\n",
    "\n",
    "b = lambda x: x*i for i in range(a)(6)\n",
    "\n",
    "print(b)\n",
    "    \n",
    "    \n",
    "\n",
    "    "
   ]
  },
  {
   "cell_type": "code",
   "execution_count": null,
   "metadata": {},
   "outputs": [],
   "source": [
    "\n",
    "a = len(x)\n",
    "\n",
    "b = 0\n",
    "\n",
    "while True:\n",
    "        z = []\n",
    "        for i in range(len(x))\n",
    "            z.append(x[i])\n",
    "             for j in range(len(x)-1)\n",
    "                z= []\n",
    "                for k in range(len(x)-2)\n",
    "                \n",
    "                    z.append(x(k))\n",
    "                    z.append()\n",
    "\n",
    "c = 0\n",
    "\n",
    "while c < len(x):\n",
    "        \n",
    "    for i in range(len(x)):\n",
    "              \n",
    "        x[i],x[i+1] = x[i+1],x[i+2]\n",
    "        \n",
    "        \n",
    "        z.append(x)\n",
    "        \n",
    "    c +=1 "
   ]
  },
  {
   "cell_type": "code",
   "execution_count": null,
   "metadata": {},
   "outputs": [],
   "source": [
    "x = [1,2,3,4]\n",
    "\n",
    "y = x.copy()\n",
    "\n",
    "t,z = []\n",
    "\n",
    "a = 2\n",
    "\n",
    "for i in range(len(x)-a):\n",
    "    \n",
    "    x.pop(i)\n",
    "    \n",
    "    t.append(x[i])\n",
    "    \n",
    "z.append(t)\n",
    "    \n",
    "   \n",
    "    a+=1 \n",
    "    \n",
    "    for j in range(i+1,len(x)):\n",
    "        z.append(x[j])\n",
    "        for k in range(j+1,len(x)):\n",
    "            z.append(x[k])\n",
    "            for l in range(k+1,len(x)):    \n",
    "                z.append(x[l])\n",
    "            \n",
    "\n",
    "print(z)\n",
    "            \n",
    "        \n",
    "        "
   ]
  },
  {
   "cell_type": "code",
   "execution_count": null,
   "metadata": {},
   "outputs": [],
   "source": [
    "x = [1,2,3]\n",
    "\n",
    "z = [] \n",
    "\n",
    "y = x.copy()\n",
    "\n",
    "for i in range(len(x)):\n",
    "    z[i] = x[i]\n",
    "    print(z)\n",
    "    \n",
    "    \n",
    "    for j in range(i+1,len(x)): \n",
    "        for k in range(j+1,len(x)):  \n",
    "            if k == len(x)-1\n",
    "\n",
    "\n",
    "            \n",
    "                z.append(x[i])\n",
    "                z.append(x[j])\n",
    "                z.append(x[k])\n",
    "            \n",
    "                y.append(z)\n",
    "                \n",
    "print(z)"
   ]
  },
  {
   "cell_type": "code",
   "execution_count": null,
   "metadata": {},
   "outputs": [],
   "source": [
    "x = [1,2,3]\n",
    "\n",
    "a = len(x)\n",
    "\n",
    "z = []\n",
    "\n",
    "t = []\n",
    "\n",
    "for i in range(a):\n",
    "    z.append(x[i])\n",
    "    for j in range(i+1,a):\n",
    "        z.append(x[j])\n",
    "        for k in range(j+1,a):\n",
    "            z.append(x[k])       \n",
    "    \n",
    "print(z)\n",
    "        "
   ]
  },
  {
   "cell_type": "code",
   "execution_count": null,
   "metadata": {},
   "outputs": [],
   "source": [
    "for j in range(i+1,a):\n",
    "    t.append(x[j])\n",
    "print(t)"
   ]
  },
  {
   "cell_type": "code",
   "execution_count": null,
   "metadata": {},
   "outputs": [],
   "source": [
    "\n",
    "x = *input(\"pls enter an integer values for list:\") \n",
    "\n",
    "a = len(x)\n",
    "\n",
    "for i in range(a):\n",
    "    \n",
    "    t.append(x[i])\n",
    "    a-=1 \n",
    "    if a>0:\n",
    "    b=a-1\n",
    "        for j in range(i+1,a):\n",
    "            t.append(x[j])\n",
    "            b-=1\n",
    "            if b>0:\n",
    "            c=b-1\n",
    "                for k"
   ]
  },
  {
   "cell_type": "code",
   "execution_count": null,
   "metadata": {},
   "outputs": [],
   "source": [
    "x = [1,2,3,4,5,6]\n",
    "\n",
    "\n",
    "a=i=1\n",
    "\n",
    "for i in range(1,len(x)):\n",
    "    return a*=i\n",
    "print(a)\n",
    "\n",
    "for i in range(len(x)):\n",
    "    while True:\n",
    "        t = x[i]  ,\n",
    "\n"
   ]
  },
  {
   "cell_type": "code",
   "execution_count": null,
   "metadata": {},
   "outputs": [],
   "source": [
    "for i in range(x):\n",
    "    t.append(x[i])\n",
    "    for i in\n",
    "    "
   ]
  },
  {
   "cell_type": "code",
   "execution_count": null,
   "metadata": {},
   "outputs": [],
   "source": [
    "for i in range(x):\n",
    "      \n",
    "    x.remove(x[i])\n",
    "        \n",
    "        \n",
    "\n",
    "        "
   ]
  },
  {
   "cell_type": "code",
   "execution_count": null,
   "metadata": {},
   "outputs": [],
   "source": [
    "x = ['a','b','c']\n",
    "\n",
    "    a   b   c\n",
    "    c   a   b\n",
    "    b   c   a\n",
    "    \n",
    "    c   a   b\n",
    "        b   a\n",
    "        c   a\n",
    "    \n",
    "    a   b   c \n",
    "    a   c   b \n",
    "    b   a   c\n",
    "    c   a   b\n",
    "    b   c   a\n",
    "    c   b   a\n",
    "\n",
    "\n",
    "    a b c d\n",
    "    a b d c\n",
    "    a \n",
    "    a\n",
    "    a\n",
    "    a \n",
    "      a\n",
    "      a\n",
    "      a\n",
    "      a\n",
    "      a\n",
    "      a\n",
    "        \n",
    "        \n",
    "for i in range(len(x)):\n",
    "    for j in range(i+1, len(x)):\n",
    "        \n",
    "\n",
    "        y[i] = x[i]\n",
    "    \n",
    "    \n",
    "        \n",
    "a = len(x)\n",
    "\n",
    "t = []\n",
    "\n",
    "z = []\n",
    "\n",
    "# m = 0\n",
    "\n",
    "for i in range(a):      \n",
    "    for j in range(i,a):\n",
    "        for k in range(j,a):            \n",
    "            t.insert(j,x[j])\n",
    "            t.inser t(k,x[k])\n",
    "        else:\n",
    "            for\n",
    "            \n",
    "            print(t)\n",
    "\n"
   ]
  },
  {
   "cell_type": "code",
   "execution_count": null,
   "metadata": {},
   "outputs": [],
   "source": [
    "x = ['a','b','c']\n",
    "\n",
    "\n",
    "1.döngü\n",
    "---------\n",
    "i = 0 , 3\n",
    "\n",
    "    j = 1 , 3\n",
    "    \n",
    "       k = 2 , 3 \n",
    "        \n",
    "        t.insert (0, x[0])\n",
    "        t.insert (1, x[1])\n",
    "        t.insert (2, x[2])\n",
    "        \n",
    "        a,b,c\n",
    "\n",
    "\n",
    "2. döngü:\n",
    "---------\n",
    "\n",
    "i = 0 , 3\n",
    "\n",
    "    j = 1 , 3\n",
    "    \n",
    "       k = 3 , 3 \n",
    "        \n",
    "        t.insert (0, x[0])\n",
    "        t.insert (1, x[1])\n",
    "        t.insert (3, x[2])\n",
    "                  "
   ]
  },
  {
   "cell_type": "code",
   "execution_count": null,
   "metadata": {},
   "outputs": [],
   "source": [
    "x = ['a','b','c','d']\n",
    "\n",
    "# a = len(x)\n",
    "\n",
    "z = []\n",
    "\n",
    "# m = 0\n",
    "\n",
    "for i in range(lenx):      \n",
    "    x[lenx] =  x[i]\n",
    "    x[i]    =  x[i+1]\n",
    "    x[i+1]  =  x[i+2]\n",
    "    x[i+2]  =  x[i+3]\n",
    "    x\n",
    "    z.append(x)\n",
    "    \n",
    "    a,b = 0,1\n",
    "    a,b = b, a + b\n",
    "    for j in range(1,3):\n",
    "        for k in range(2,3):         \n",
    "            t.insert(i,x[i])\n",
    "            t.insert(j,x[j])\n",
    "            t.insert(k,x[k])\n",
    "            \n",
    "            z.append(t)\n",
    "\n",
    "print(z)\n",
    "                \n"
   ]
  },
  {
   "cell_type": "code",
   "execution_count": null,
   "metadata": {},
   "outputs": [],
   "source": [
    "x = ['a','b','c','d']\n",
    "\n",
    "for i in range(len(x)):\n",
    "    \n",
    "    z.append(x)\n",
    "    \n",
    "    x[len(x)] = x[i]\n",
    "    \n",
    "         x[i] = x[i+1]\n",
    "        \n",
    "        "
   ]
  },
  {
   "cell_type": "code",
   "execution_count": null,
   "metadata": {},
   "outputs": [],
   "source": [
    "x = ['a','b','c']\n",
    "\n",
    "for k in range(3,3): \n",
    "    \n",
    "    print (x[k])"
   ]
  },
  {
   "cell_type": "code",
   "execution_count": null,
   "metadata": {},
   "outputs": [],
   "source": [
    "x = [1,2,3,4]\n",
    "\n",
    "y = x.copy()\n",
    "\n",
    "z = [] \n",
    "\n",
    "\n",
    "\n",
    "for i in range(len(x)):\n",
    "    z.insert(i, x[i)\n",
    "    print(z[i])\n",
    "\n",
    "print(z)"
   ]
  },
  {
   "cell_type": "code",
   "execution_count": null,
   "metadata": {},
   "outputs": [],
   "source": [
    "given = [1,2,3,4]\n",
    "total_list = list()\n",
    "a = 1\n",
    "for i in range(1,len(given)): a *= i\n",
    "for i in range(1,a + 1):\n",
    "    for j in given:\n",
    "        total_list.append([j])\n",
    "for i in  total_list:\n",
    "    for j in given:\n",
    "        if j not in i:\n",
    "            i.append(j)\n",
    "print(total_list)"
   ]
  },
  {
   "cell_type": "code",
   "execution_count": null,
   "metadata": {},
   "outputs": [],
   "source": [
    "xx = [1, 2, 3, 4]\n",
    "result = [[]]\n",
    "for j in xx:\n",
    "    my_perms = []\n",
    "    for p in result:\n",
    "        for i in range(len(p)+1):\n",
    "            my_perms.append(p[:i] + [j] + p[i:])\n",
    "            result = my_perms\n",
    "print(result)"
   ]
  },
  {
   "cell_type": "code",
   "execution_count": null,
   "metadata": {},
   "outputs": [],
   "source": [
    "my_list = [1,2,3]\n",
    "output=[[x, y, z] for x in my_list for y in my_list for z in my_list if not(x==y or x==z or y==z)]\n",
    "print(output)"
   ]
  },
  {
   "cell_type": "code",
   "execution_count": null,
   "metadata": {},
   "outputs": [],
   "source": []
  },
  {
   "cell_type": "code",
   "execution_count": null,
   "metadata": {},
   "outputs": [],
   "source": [
    "my_list = [1,2,3]\n",
    "output=[[x, y, z] for x in my_list for y in my_list for z in my_list if x!=y and x!=z and y!=z]\n",
    "print(output)"
   ]
  },
  {
   "cell_type": "code",
   "execution_count": null,
   "metadata": {},
   "outputs": [],
   "source": [
    "x = [1,2,3,4]\n",
    "\n",
    "z = []\n",
    "\n",
    "a = len(x)\n",
    "\n",
    "y = x.copy()\n",
    "\n",
    "if a == 0:\n",
    "        \n",
    "    z = []\n",
    "    \n",
    "elif a == 1:\n",
    "        \n",
    "    z = x\n",
    "        \n",
    "elif a == 2:\n",
    "    \n",
    "    z.append(x[i])\n",
    "    z.append(x[i+1])\n",
    "    t.\n",
    "    \n",
    "    for i in range(:2):\n",
    "                   \n",
    "        z.append(x[i])\n",
    "        z.append(x[i+1])\n",
    "        \n",
    "        \n",
    "       \n",
    "\n",
    "print(z)\n",
    "        \n",
    "       \n",
    "            \n",
    "    \n",
    "    \n"
   ]
  },
  {
   "cell_type": "code",
   "execution_count": null,
   "metadata": {},
   "outputs": [],
   "source": [
    "x = [1,2,3,4]\n",
    "\n",
    "a = len(x)\n",
    "\n",
    "i = 0\n",
    "\n",
    "y = x.copy()\n",
    "\n",
    "for i in range(1,a-1):\n",
    "    \n",
    "    y.remove(x[:i])\n",
    "    \n",
    "        for j in range(a)\n",
    "        \n",
    "            y.insert(i,x[i])\n",
    "    \n",
    "     \n",
    "    \n",
    "    i += 1"
   ]
  },
  {
   "cell_type": "code",
   "execution_count": 5,
   "metadata": {},
   "outputs": [
    {
     "name": "stdout",
     "output_type": "stream",
     "text": [
      "{'a', 'c', 'b'}\n"
     ]
    }
   ],
   "source": [
    "x = ['a','b','c']\n",
    "\n",
    "x = set(x)\n",
    "\n",
    "m = len(x)\n",
    "\n",
    "t = []\n",
    "\n",
    "z= ['']\n",
    "\n",
    "perm = 1\n",
    "\n",
    "for i in range(1,m+1):\n",
    "\n",
    "    perm += i\n",
    "\n",
    "for j in range(m):\n",
    "    \n",
    "    for i in range(0,perm):\n",
    "        \n",
    "        if  \n",
    "           \n",
    "        z.insert(i,x[j])\n",
    "    \n",
    "    if t not in z:\n",
    "        \n",
    "        z.insert(t)\n",
    "    \n",
    "    else: continue\n",
    "        \n",
    "    \n",
    "    \n",
    "    "
   ]
  },
  {
   "cell_type": "code",
   "execution_count": null,
   "metadata": {},
   "outputs": [],
   "source": [
    "for i in range(a):\n",
    "    \n",
    "    if len(x[i]) == len(y[i+1])"
   ]
  },
  {
   "cell_type": "code",
   "execution_count": 9,
   "metadata": {},
   "outputs": [
    {
     "data": {
      "text/plain": [
       "0"
      ]
     },
     "execution_count": 9,
     "metadata": {},
     "output_type": "execute_result"
    }
   ],
   "source": [
    "0//4"
   ]
  },
  {
   "cell_type": "code",
   "execution_count": null,
   "metadata": {},
   "outputs": [],
   "source": [
    "x = [atm, mta, tanap, tma, esd, dse, sed]"
   ]
  },
  {
   "cell_type": "code",
   "execution_count": 29,
   "metadata": {},
   "outputs": [
    {
     "name": "stdout",
     "output_type": "stream",
     "text": [
      "['mta', 'tma', 'atm'] ['tanap', 'esd', 'dse', 'sed']\n",
      "['dse', 'esd'] ['tanap', 'sed']\n",
      "[]\n"
     ]
    }
   ],
   "source": [
    "t = []\n",
    "\n",
    "z = []\n",
    "\n",
    "x = ['atm', 'mta', 'tanap', 'tma', 'esd', 'dse', 'sed']\n",
    "\n",
    "a = len(x)\n",
    "\n",
    "while a > 0:\n",
    "    \n",
    "nfor i in x: \n",
    "    \n",
    "    for j in x: \n",
    "        \n",
    "        if i!=j and len(i)==len(j) and set(i)==set(j):\n",
    "           \n",
    "            t.append(j)                      \n",
    "            \n",
    "        else:\n",
    "            \n",
    "            continue\n",
    "    \n",
    "    else: \n",
    "            \n",
    "        t.append(i)\n",
    "        x.remove(i)\n",
    "        \n",
    "        print(t,x)\n",
    "                   \n",
    "    z.append(t)\n",
    "    \n",
    "    t =[]\n",
    "    \n",
    "print(t)    "
   ]
  },
  {
   "cell_type": "code",
   "execution_count": 26,
   "metadata": {},
   "outputs": [
    {
     "ename": "TypeError",
     "evalue": "argument of type 'bool' is not iterable",
     "output_type": "error",
     "traceback": [
      "\u001b[1;31m-----------------------------------------------------\u001b[0m",
      "\u001b[1;31mTypeError\u001b[0m           Traceback (most recent call last)",
      "\u001b[1;32m<ipython-input-26-15c82b06d8c9>\u001b[0m in \u001b[0;36m<module>\u001b[1;34m\u001b[0m\n\u001b[1;32m----> 1\u001b[1;33m \u001b[0ma\u001b[0m \u001b[1;33m=\u001b[0m \u001b[0mt\u001b[0m \u001b[1;32min\u001b[0m \u001b[0mx\u001b[0m\u001b[1;33m\u001b[0m\u001b[1;33m\u001b[0m\u001b[0m\n\u001b[0m",
      "\u001b[1;31mTypeError\u001b[0m: argument of type 'bool' is not iterable"
     ]
    }
   ],
   "source": [
    "a = t in x"
   ]
  },
  {
   "cell_type": "code",
   "execution_count": 32,
   "metadata": {},
   "outputs": [
    {
     "data": {
      "text/plain": [
       "[1, 2, 3]"
      ]
     },
     "execution_count": 32,
     "metadata": {},
     "output_type": "execute_result"
    }
   ],
   "source": [
    "a = [100, 1, 10, 2, 3, 5, 8, 13, 21, 34, 55, 98]\n",
    "\n",
    "def new_list(x):\n",
    "    return [item for item in x if 0 < item < 5]\n",
    "\n",
    "new_list(a)"
   ]
  },
  {
   "cell_type": "code",
   "execution_count": 40,
   "metadata": {},
   "outputs": [
    {
     "name": "stdout",
     "output_type": "stream",
     "text": [
      "['abc', 'dfv', 'acb', 'xyz']\n",
      "List after deletion: ['abc', 'dfv', 'acb', 'xyz']\n"
     ]
    }
   ],
   "source": [
    "element_list = ['abc', 'def', 'dfv', 'acb', 'xyz']\n",
    "\n",
    "for i in element_list:\n",
    "\n",
    "# for i in range(len(element_list) - 1, -1, -1):\n",
    "\n",
    "    if i.startswith('d'):\n",
    "\n",
    "        element_list.remove(i)\n",
    "        \n",
    "        print(element_list)\n",
    "    \n",
    "    else: continue\n",
    "        \n",
    "print(\"List after deletion:\", element_list)"
   ]
  },
  {
   "cell_type": "code",
   "execution_count": null,
   "metadata": {},
   "outputs": [],
   "source": [
    "# for i in range(len(element_list) - 1, -1, -1):\n"
   ]
  },
  {
   "cell_type": "code",
   "execution_count": null,
   "metadata": {},
   "outputs": [],
   "source": []
  },
  {
   "cell_type": "code",
   "execution_count": null,
   "metadata": {},
   "outputs": [],
   "source": [
    "element_list = ['abc', 'def', 'dfv', 'acb', 'xyz']\n",
    "print(\"List before deletion:\", element_list)\n",
    "# iterate over the list\n",
    "for i in range(len(element_list) - 1, -1, -1):\n",
    "    # check if element begins with 'd'\n",
    "    if element_list[i].startswith('d'):\n",
    "        # remove it\n",
    "        del(element_list[i])\n",
    "# print list after deletion\n",
    "print(\"List after deletion:\", element_list)"
   ]
  },
  {
   "cell_type": "code",
   "execution_count": null,
   "metadata": {},
   "outputs": [],
   "source": [
    "while True:\n",
    "    \n",
    "    try:\n",
    "        x = input(\"what is your fruit: \")\n",
    "        \n",
    "    except: Exceptions as e\n",
    "        \n",
    "        print(\"index error\")"
   ]
  }
 ],
 "metadata": {
  "kernelspec": {
   "display_name": "Python 3",
   "language": "python",
   "name": "python3"
  },
  "language_info": {
   "codemirror_mode": {
    "name": "ipython",
    "version": 3
   },
   "file_extension": ".py",
   "mimetype": "text/x-python",
   "name": "python",
   "nbconvert_exporter": "python",
   "pygments_lexer": "ipython3",
   "version": "3.7.6"
  }
 },
 "nbformat": 4,
 "nbformat_minor": 4
}
