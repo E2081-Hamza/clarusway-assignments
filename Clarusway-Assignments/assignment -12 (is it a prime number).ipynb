{
 "cells": [
  {
   "cell_type": "markdown",
   "metadata": {},
   "source": [
    "# Finding a prime number"
   ]
  },
  {
   "cell_type": "code",
   "execution_count": null,
   "metadata": {},
   "outputs": [],
   "source": [
    "x = input(\"pls enter a integer number: \")\n",
    "\n",
    "y = {\"0\",\"1\",\"2\",\"3\",\"4\",\"5\",\"6\",\"7\",\"8\",\"9\"}\n",
    "  \n",
    "t = (set(list(x)) - y)\n",
    "\n",
    "while not t and int(x) > 1 : \n",
    "        \n",
    "    for i in range(1,int(x)):\n",
    "        \n",
    "        x = int(x)\n",
    "        \n",
    "        if x != 2 and x % i == 0:   \n",
    "                   \n",
    "            print(x,\"is not a prime number\")\n",
    "            \n",
    "            break\n",
    "            \n",
    "        elif x ==2 and i == x-1:\n",
    "        \n",
    "            print(x,\"is a prime number\")\n",
    "            \n",
    "    break\n",
    "                  \n",
    "else:\n",
    "    \n",
    "    print(\"pls check your entry for float/string\")\n",
    "        \n",
    "            "
   ]
  },
  {
   "cell_type": "markdown",
   "metadata": {},
   "source": [
    "# Finding the slice of prime numbers"
   ]
  },
  {
   "cell_type": "code",
   "execution_count": null,
   "metadata": {},
   "outputs": [],
   "source": [
    "print (\"pls enter a prime number slice\".title())\n",
    "\n",
    "x = input(\"\\npls enter a integer number bigger than '1' for number-1: \".title())\n",
    "\n",
    "y = input(\"\\npls enter a integer number bigger than '2' for number-2: \".title())\n",
    "\n",
    "z = {\"0\",\"1\",\"2\",\"3\",\"4\",\"5\",\"6\",\"7\",\"8\",\"9\"}\n",
    "  \n",
    "m = (set(list(x)) - z)\n",
    "\n",
    "n = (set(list(y)) - z)\n",
    "\n",
    "c = list()\n",
    "\n",
    "while (not (m or n)) and ((int(x) > 1 and int(y) >= 3 and (int (x) < int(y)))):\n",
    "    \n",
    "    for a in range (int(x),int(y)):\n",
    "       \n",
    "        for i in range(2,a):\n",
    "        \n",
    "            if a % i == 0:\n",
    "                \n",
    "                break\n",
    "                         \n",
    "            elif i == a-1:\n",
    "                \n",
    "                c.append(a)\n",
    "            \n",
    "            else:\n",
    "                \n",
    "                continue\n",
    "                \n",
    "        continue\n",
    "                \n",
    "    print(f\"\\nThe prime numbers btwn '{x}' and '{y}' are : \\n\\n{c}\")\n",
    "            \n",
    "    break         \n",
    "                     \n",
    "else:\n",
    "    \n",
    "    print(\"pls check your entry for correct integer\")"
   ]
  },
  {
   "cell_type": "markdown",
   "metadata": {},
   "source": [
    "# zaferin yaptığı (for ile else kullanmış: bravo)"
   ]
  },
  {
   "cell_type": "code",
   "execution_count": null,
   "metadata": {},
   "outputs": [],
   "source": [
    "number = int(input(\"Please enter the number you want to learn if it is a prime number:\"))\n",
    "#this part is for making the program faster.\n",
    "if number%2==0 or number<0:\n",
    "    print(f\"{number} is NOT a prime number\")\n",
    "else:\n",
    "    for i in range(2,number):\n",
    "        if number%i==0:\n",
    "            print(f\"{number} is NOT a prime number\")\n",
    "            break\n",
    "    else:\n",
    "        print(f\"{number} is a prime number\")\n",
    "        "
   ]
  },
  {
   "cell_type": "code",
   "execution_count": null,
   "metadata": {},
   "outputs": [],
   "source": [
    "line = 10\n",
    "print()\n",
    "for i in range(line):\n",
    "    print(' '*16+' '*19+'*'*12+' '*7+'*'*12+' '*7+'*'*(line-1-i)+'*'*(3*i+1))\n",
    "for i in range(line*2-7):\n",
    "    print(' '*(line+5-i)+'*'*(i+1)+'*'*12+' '*7+'*'*12+' '*7+'*'*12+' '*7+'*'*12)\n",
    "for i in range(5):\n",
    "    print(' '*16+'*'*19+'*'*19+'*'*12+' '*7+'*'*12)"
   ]
  },
  {
   "cell_type": "code",
   "execution_count": null,
   "metadata": {},
   "outputs": [],
   "source": [
    "x = input(\"pls enter a integer number: \")\n",
    "\n",
    "y = {\"0\",\"1\",\"2\",\"3\",\"4\",\"5\",\"6\",\"7\",\"8\",\"9\"}\n",
    "  \n",
    "t = (set(list(x)) - y)\n",
    "\n",
    "while not t and int(x) > 1 : \n",
    "        \n",
    "    for i in range(1,int(x)+1):\n",
    "        \n",
    "        x = int(x)\n",
    "        \n",
    "        if x != 2 and x % i == 0:   \n",
    "                   \n",
    "            print(x,\"is not a prime number\")\n",
    "            \n",
    "            break\n",
    "            \n",
    "        elif x == 2 and i == x-1:\n",
    "        \n",
    "            print(x,\"is a prime number\")\n",
    "            \n",
    "        else:\n",
    "            \n",
    "            break\n",
    "    break\n",
    "    \n",
    "else:\n",
    "    \n",
    "    print(\"pls check your entry is '> 1' or not a float/string type\")\n",
    "        "
   ]
  },
  {
   "cell_type": "code",
   "execution_count": null,
   "metadata": {},
   "outputs": [],
   "source": [
    "x = input(\"pls enter a integer number: \")\n",
    "\n",
    "print(type(x))"
   ]
  },
  {
   "cell_type": "code",
   "execution_count": null,
   "metadata": {},
   "outputs": [
    {
     "name": "stdout",
     "output_type": "stream",
     "text": [
      "pls enter an integer number: 2\n",
      "pls enter an integer number: 3\n",
      "pls enter an integer number: 5\n",
      "pls enter an integer number: 8\n",
      "8  is not a prime number\n"
     ]
    }
   ],
   "source": [
    "while True:\n",
    "    \n",
    "    x = int(input(\"pls enter an integer number: \"))\n",
    "    \n",
    "    for i in range(1, int(x/2)):\n",
    "    \n",
    "        if i >= 2 and x % i == 0:\n",
    "        \n",
    "            print(x, \" is not a prime number\")\n",
    "        \n",
    "        elif i == 1 and x == 2 :\n",
    "            \n",
    "            print(x, \"check your entry\")\n",
    "        \n",
    "        else:\n",
    "            \n",
    "            print(x, \" is prime number\")\n",
    "    \n",
    "        break\n",
    "    \n",
    "    "
   ]
  },
  {
   "cell_type": "code",
   "execution_count": null,
   "metadata": {},
   "outputs": [],
   "source": []
  }
 ],
 "metadata": {
  "kernelspec": {
   "display_name": "Python 3",
   "language": "python",
   "name": "python3"
  },
  "language_info": {
   "codemirror_mode": {
    "name": "ipython",
    "version": 3
   },
   "file_extension": ".py",
   "mimetype": "text/x-python",
   "name": "python",
   "nbconvert_exporter": "python",
   "pygments_lexer": "ipython3",
   "version": "3.7.6"
  }
 },
 "nbformat": 4,
 "nbformat_minor": 4
}
