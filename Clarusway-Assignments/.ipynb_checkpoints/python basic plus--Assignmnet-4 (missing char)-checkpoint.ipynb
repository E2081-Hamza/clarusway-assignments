{
 "cells": [
  {
   "cell_type": "code",
   "execution_count": null,
   "metadata": {},
   "outputs": [],
   "source": [
    "def missing_char(word, n):\n",
    "    if n >= 0 and  n <= len(word)-1:\n",
    "        a = list(word)\n",
    "        a.pop(n)\n",
    "        sep = \"\"\n",
    "        return sep.join(a) \n",
    "    else: \n",
    "        return str(\"pls enter valid index num\")\n",
    "    \n",
    "print(missing_char('kitchen', 8))"
   ]
  }
 ],
 "metadata": {
  "kernelspec": {
   "display_name": "Python 3",
   "language": "python",
   "name": "python3"
  },
  "language_info": {
   "codemirror_mode": {
    "name": "ipython",
    "version": 3
   },
   "file_extension": ".py",
   "mimetype": "text/x-python",
   "name": "python",
   "nbconvert_exporter": "python",
   "pygments_lexer": "ipython3",
   "version": "3.7.6"
  }
 },
 "nbformat": 4,
 "nbformat_minor": 4
}
