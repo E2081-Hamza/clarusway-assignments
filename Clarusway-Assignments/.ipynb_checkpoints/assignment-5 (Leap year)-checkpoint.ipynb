{
 "cells": [
  {
   "cell_type": "code",
   "execution_count": 23,
   "metadata": {},
   "outputs": [
    {
     "name": "stdout",
     "output_type": "stream",
     "text": [
      "Pls enter a year: 2020\n",
      "leap year\n"
     ]
    }
   ],
   "source": [
    "x = int(input(\"Pls enter a year: \"))\n",
    "\n",
    "print((((x % 400 == 0) or (x % 4 == 0 and x % 100 != 0)) and \"leap year\") or (\"not a leap year\"))    "
   ]
  },
  {
   "cell_type": "code",
   "execution_count": null,
   "metadata": {},
   "outputs": [],
   "source": [
    "(x % 400 == 0) or (x % 4 == 0 and x % 100 != 0)"
   ]
  },
  {
   "cell_type": "code",
   "execution_count": null,
   "metadata": {},
   "outputs": [],
   "source": []
  }
 ],
 "metadata": {
  "kernelspec": {
   "display_name": "Python 3",
   "language": "python",
   "name": "python3"
  },
  "language_info": {
   "codemirror_mode": {
    "name": "ipython",
    "version": 3
   },
   "file_extension": ".py",
   "mimetype": "text/x-python",
   "name": "python",
   "nbconvert_exporter": "python",
   "pygments_lexer": "ipython3",
   "version": "3.7.6"
  }
 },
 "nbformat": 4,
 "nbformat_minor": 4
}
