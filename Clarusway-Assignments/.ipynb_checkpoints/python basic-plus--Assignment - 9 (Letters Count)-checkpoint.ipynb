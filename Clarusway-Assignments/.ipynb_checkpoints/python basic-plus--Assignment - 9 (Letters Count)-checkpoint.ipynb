{
 "cells": [
  {
   "cell_type": "code",
   "execution_count": 1,
   "metadata": {},
   "outputs": [
    {
     "name": "stdout",
     "output_type": "stream",
     "text": [
      "pls enter a set of letters/words or sentence:  aljsglajsuf UAGSLFJBASF 87686 %/())= ıUIG ?=\n",
      "\n",
      " {'u': 3, 'a': 4, 'j': 3, ' ': 5, 'g': 3, 'b': 1, 'ı': 1, 'l': 3, 'i': 1, 'f': 3, 's': 4}\n"
     ]
    }
   ],
   "source": [
    "x = input(\"pls enter a set of letters/words or sentence:  \").lower()\n",
    "z = {i: x.count(i) for i in set(x) if i.isspace() or i.isalpha()}\n",
    "print('\\n', z)        \n",
    "    \n"
   ]
  },
  {
   "cell_type": "code",
   "execution_count": 2,
   "metadata": {},
   "outputs": [
    {
     "name": "stdout",
     "output_type": "stream",
     "text": [
      "pls enter a set of letters/words or sentence:  aljsglajsuf UAGSLFJBASF 87686 %/())= ıUIG ?=\n",
      "\n",
      " {'u': 3, 'a': 4, '=': 2, ')': 2, '(': 1, '7': 1, 'j': 3, '/': 1, ' ': 5, 'g': 3, '?': 1, 'b': 1, 'ı': 1, 'l': 3, '%': 1, 'i': 1, '6': 2, 'f': 3, '8': 2, 's': 4}\n"
     ]
    }
   ],
   "source": [
    "x = input(\"pls enter a set of letters/words or sentence:  \").lower()\n",
    "z = {i: x.count(i) for i in set(x)}\n",
    "print('\\n', z)   "
   ]
  },
  {
   "cell_type": "code",
   "execution_count": null,
   "metadata": {},
   "outputs": [],
   "source": []
  }
 ],
 "metadata": {
  "kernelspec": {
   "display_name": "Python 3",
   "language": "python",
   "name": "python3"
  },
  "language_info": {
   "codemirror_mode": {
    "name": "ipython",
    "version": 3
   },
   "file_extension": ".py",
   "mimetype": "text/x-python",
   "name": "python",
   "nbconvert_exporter": "python",
   "pygments_lexer": "ipython3",
   "version": "3.7.6"
  }
 },
 "nbformat": 4,
 "nbformat_minor": 4
}
