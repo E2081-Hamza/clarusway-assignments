{
 "cells": [
  {
   "cell_type": "code",
   "execution_count": 11,
   "metadata": {},
   "outputs": [
    {
     "name": "stdout",
     "output_type": "stream",
     "text": [
      "pls enter a number slice\n",
      "1 st number: 1\n",
      "2 nd number: 100000\n",
      "[1, 2, 3, 4, 5, 6, 7, 8, 9, 153, 370, 371, 407, 1634, 8208, 9474, 54748, 92727, 93084]\n"
     ]
    }
   ],
   "source": [
    "print(\"pls enter a number slice\")\n",
    "\n",
    "w = int(input(\"1 st number: \"))\n",
    "\n",
    "z = int(input(\"2 nd number: \"))\n",
    "\n",
    "x = list(range(w,z+1))\n",
    "  \n",
    "arm_list = list()\n",
    "\n",
    "for i in x:\n",
    "    \n",
    "    b, c, d, e, t = len(str(i)), list(str(i)), 0, {\"1\",\"2\",\"3\",\"4\",\"5\",\"6\",\"7\",\"8\",\"9\",\"0\"},i\n",
    "    \n",
    "    fark = set(c)-e\n",
    "      \n",
    "    while not fark:  \n",
    "   \n",
    "        for i in c:\n",
    "\n",
    "            d += int(i)**b\n",
    "    \n",
    "        if t == d:\n",
    "\n",
    "            arm_list.append(d)\n",
    "                       \n",
    "        else:\n",
    "                       \n",
    "            break\n",
    "\n",
    "    else:\n",
    "    \n",
    "        print(\"It is an invalid entry. Don't use non-numeric, float, or negative values!\")\n",
    "        \n",
    "print(arm_list)\n"
   ]
  },
  {
   "cell_type": "code",
   "execution_count": null,
   "metadata": {},
   "outputs": [],
   "source": []
  },
  {
   "cell_type": "code",
   "execution_count": null,
   "metadata": {},
   "outputs": [],
   "source": []
  }
 ],
 "metadata": {
  "kernelspec": {
   "display_name": "Python 3",
   "language": "python",
   "name": "python3"
  },
  "language_info": {
   "codemirror_mode": {
    "name": "ipython",
    "version": 3
   },
   "file_extension": ".py",
   "mimetype": "text/x-python",
   "name": "python",
   "nbconvert_exporter": "python",
   "pygments_lexer": "ipython3",
   "version": "3.7.6"
  }
 },
 "nbformat": 4,
 "nbformat_minor": 4
}
