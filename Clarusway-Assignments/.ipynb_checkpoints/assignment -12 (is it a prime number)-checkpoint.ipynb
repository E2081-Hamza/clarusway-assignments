{
 "cells": [
  {
   "cell_type": "markdown",
   "metadata": {},
   "source": [
    "# Finding a prime number"
   ]
  },
  {
   "cell_type": "code",
   "execution_count": 13,
   "metadata": {},
   "outputs": [
    {
     "name": "stdout",
     "output_type": "stream",
     "text": [
      "pls enter a integer number: 125i\n",
      "pls check your entery for float/string\n"
     ]
    }
   ],
   "source": [
    "x = input(\"pls enter a integer number: \")\n",
    "\n",
    "y = {\"0\",\"1\",\"2\",\"3\",\"4\",\"5\",\"6\",\"7\",\"8\",\"9\"}\n",
    "  \n",
    "t = (set(list(x)) - y)\n",
    "\n",
    "while not t: \n",
    "        \n",
    "    for i in range(2,int(x)):\n",
    "        \n",
    "        x = int(x)\n",
    "        \n",
    "        if x % i == 0:   \n",
    "                   \n",
    "            print(x,\"is not a prime number\")\n",
    "            \n",
    "            break\n",
    "            \n",
    "        elif i == x-1:\n",
    "        \n",
    "            print(x,\"is a prime number\")\n",
    "            \n",
    "    break\n",
    "                  \n",
    "else:\n",
    "    \n",
    "    print(\"pls check your entry for float/string\")\n",
    "        \n",
    "            "
   ]
  },
  {
   "cell_type": "markdown",
   "metadata": {},
   "source": [
    "# Finding the slice of prime numbers"
   ]
  },
  {
   "cell_type": "code",
   "execution_count": 8,
   "metadata": {},
   "outputs": [
    {
     "name": "stdout",
     "output_type": "stream",
     "text": [
      "Pls Enter A Prime Number Slice\n",
      "\n",
      "Pls Enter A Integer Number Bigger Than '1' For Number-1: 2\n",
      "\n",
      "Pls Enter A Integer Number Bigger Than '2' For Number-2: 200\n",
      "\n",
      "The prime numbers btwn '2' and '200' are : \n",
      "\n",
      "[3, 5, 7, 11, 13, 17, 19, 23, 29, 31, 37, 41, 43, 47, 53, 59, 61, 67, 71, 73, 79, 83, 89, 97, 101, 103, 107, 109, 113, 127, 131, 137, 139, 149, 151, 157, 163, 167, 173, 179, 181, 191, 193, 197, 199]\n"
     ]
    }
   ],
   "source": [
    "print (\"pls enter a prime number slice\".title())\n",
    "\n",
    "x = input(\"\\npls enter a integer number bigger than '1' for number-1: \".title())\n",
    "\n",
    "y = input(\"\\npls enter a integer number bigger than '2' for number-2: \".title())\n",
    "\n",
    "z = {\"0\",\"1\",\"2\",\"3\",\"4\",\"5\",\"6\",\"7\",\"8\",\"9\"}\n",
    "  \n",
    "m = (set(list(x)) - z)\n",
    "\n",
    "n = (set(list(y)) - z)\n",
    "\n",
    "c = list()\n",
    "\n",
    "while (not (m or n)) and ((int(x) > 1 and int(y) >= 3 and (int (x) < int(y)))):\n",
    "    \n",
    "    for a in range (int(x),int(y)):\n",
    "       \n",
    "        for i in range(2,a):\n",
    "        \n",
    "            if a % i == 0:\n",
    "                \n",
    "                break\n",
    "                         \n",
    "            elif i == a-1:\n",
    "                \n",
    "                c.append(a)\n",
    "            \n",
    "            else:\n",
    "                \n",
    "                continue\n",
    "                \n",
    "        continue\n",
    "                \n",
    "    print(f\"\\nThe prime numbers btwn '{x}' and '{y}' are : \\n\\n{c}\")\n",
    "            \n",
    "    break         \n",
    "                     \n",
    "else:\n",
    "    \n",
    "    print(\"pls check your entry for correct integer\")"
   ]
  },
  {
   "cell_type": "markdown",
   "metadata": {},
   "source": [
    "# zaferin yaptığı (for ile else kullanmış: bravo)"
   ]
  },
  {
   "cell_type": "code",
   "execution_count": 14,
   "metadata": {},
   "outputs": [
    {
     "name": "stdout",
     "output_type": "stream",
     "text": [
      "Please enter the number you want to learn if it is a prime number:29\n",
      "29 is a prime number\n"
     ]
    }
   ],
   "source": [
    "number = int(input(\"Please enter the number you want to learn if it is a prime number:\"))\n",
    "#this part is for making the program faster.\n",
    "if number%2==0 or number<0:\n",
    "    print(f\"{number} is NOT a prime number\")\n",
    "else:\n",
    "    for i in range(2,number):\n",
    "        if number%i==0:\n",
    "            print(f\"{number} is NOT a prime number\")\n",
    "            break\n",
    "    else:\n",
    "        print(f\"{number} is a prime number\")\n",
    "        "
   ]
  },
  {
   "cell_type": "code",
   "execution_count": 15,
   "metadata": {},
   "outputs": [
    {
     "name": "stdout",
     "output_type": "stream",
     "text": [
      "\n",
      "                                   ************       ************       **********\n",
      "                                   ************       ************       ************\n",
      "                                   ************       ************       **************\n",
      "                                   ************       ************       ****************\n",
      "                                   ************       ************       ******************\n",
      "                                   ************       ************       ********************\n",
      "                                   ************       ************       **********************\n",
      "                                   ************       ************       ************************\n",
      "                                   ************       ************       **************************\n",
      "                                   ************       ************       ****************************\n",
      "               *************       ************       ************       ************\n",
      "              **************       ************       ************       ************\n",
      "             ***************       ************       ************       ************\n",
      "            ****************       ************       ************       ************\n",
      "           *****************       ************       ************       ************\n",
      "          ******************       ************       ************       ************\n",
      "         *******************       ************       ************       ************\n",
      "        ********************       ************       ************       ************\n",
      "       *********************       ************       ************       ************\n",
      "      **********************       ************       ************       ************\n",
      "     ***********************       ************       ************       ************\n",
      "    ************************       ************       ************       ************\n",
      "   *************************       ************       ************       ************\n",
      "                **************************************************       ************\n",
      "                **************************************************       ************\n",
      "                **************************************************       ************\n",
      "                **************************************************       ************\n",
      "                **************************************************       ************\n"
     ]
    }
   ],
   "source": [
    "line = 10\n",
    "print()\n",
    "for i in range(line):\n",
    "    print(' '*16+' '*19+'*'*12+' '*7+'*'*12+' '*7+'*'*(line-1-i)+'*'*(3*i+1))\n",
    "for i in range(line*2-7):\n",
    "    print(' '*(line+5-i)+'*'*(i+1)+'*'*12+' '*7+'*'*12+' '*7+'*'*12+' '*7+'*'*12)\n",
    "for i in range(5):\n",
    "    print(' '*16+'*'*19+'*'*19+'*'*12+' '*7+'*'*12)"
   ]
  },
  {
   "cell_type": "code",
   "execution_count": null,
   "metadata": {},
   "outputs": [],
   "source": []
  }
 ],
 "metadata": {
  "kernelspec": {
   "display_name": "Python 3",
   "language": "python",
   "name": "python3"
  },
  "language_info": {
   "codemirror_mode": {
    "name": "ipython",
    "version": 3
   },
   "file_extension": ".py",
   "mimetype": "text/x-python",
   "name": "python",
   "nbconvert_exporter": "python",
   "pygments_lexer": "ipython3",
   "version": "3.7.6"
  }
 },
 "nbformat": 4,
 "nbformat_minor": 4
}
