{
 "cells": [
  {
   "cell_type": "code",
   "execution_count": 6,
   "metadata": {},
   "outputs": [
    {
     "name": "stdout",
     "output_type": "stream",
     "text": [
      "Pls enter Celsius to convert: 0.7\n",
      "0.7 Celcius = 33.26 Fahrenheit \n",
      "\n",
      "Pls enter Kilometer to convert: 1852.66\n",
      "1852.66 Kilometer = 1000.3563714902808 Nautical Miles\n"
     ]
    }
   ],
   "source": [
    "c = celcius = float(input(\"Pls enter Celsius to convert: \"))\n",
    "f = fahrenheit = float((c * 1.8) + 32)\n",
    "print(c, \"Celcius =\" ,f, \"Fahrenheit\",\"\\n\")\n",
    "\n",
    "k = kilometer = float(input(\"Pls enter Kilometer to convert: \"))\n",
    "nm = Nautıcal_miles = float((k / 1.852))\n",
    "print(k, \"Kilometer =\" ,nm, \"Nautical Miles\")"
   ]
  },
  {
   "cell_type": "code",
   "execution_count": null,
   "metadata": {},
   "outputs": [],
   "source": []
  },
  {
   "cell_type": "code",
   "execution_count": null,
   "metadata": {},
   "outputs": [],
   "source": []
  }
 ],
 "metadata": {
  "kernelspec": {
   "display_name": "Python 3",
   "language": "python",
   "name": "python3"
  },
  "language_info": {
   "codemirror_mode": {
    "name": "ipython",
    "version": 3
   },
   "file_extension": ".py",
   "mimetype": "text/x-python",
   "name": "python",
   "nbconvert_exporter": "python",
   "pygments_lexer": "ipython3",
   "version": "3.7.6"
  }
 },
 "nbformat": 4,
 "nbformat_minor": 4
}
