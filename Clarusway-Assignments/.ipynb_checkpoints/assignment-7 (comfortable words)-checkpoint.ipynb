{
 "cells": [
  {
   "cell_type": "code",
   "execution_count": 2,
   "metadata": {},
   "outputs": [
    {
     "name": "stdout",
     "output_type": "stream",
     "text": [
      "Enter a word/sentence which you want to learn comfortable for your hands or not: \n",
      "kitty\n",
      "\n",
      "word/sentence you enter:  comfortable\n"
     ]
    }
   ],
   "source": [
    "word = set(input(\"Enter a word/sentence which you want to learn comfortable for your hands or not: \\n\"))\n",
    "\n",
    "left_hand = {'q', 'w', 'e', 'r', 't', 'a','s', 'd', 'f', 'g', 'z', 'x', 'c', 'v', 'b'}\n",
    "\n",
    "right_hand = {'y', 'u', 'i', 'o', 'p', 'h','j', 'k', 'l', 'n', 'm'}\n",
    "\n",
    "x = bool(word.difference(left_hand))\n",
    "\n",
    "y = bool(word.difference(right_hand))\n",
    "\n",
    "print(((x and y) and \"\\nword/sentence you enter:  comfortable\") or ((x and y) or \"word/sentence you enter: uncomfortable\"))"
   ]
  },
  {
   "cell_type": "code",
   "execution_count": null,
   "metadata": {},
   "outputs": [],
   "source": []
  },
  {
   "cell_type": "code",
   "execution_count": null,
   "metadata": {},
   "outputs": [],
   "source": []
  }
 ],
 "metadata": {
  "kernelspec": {
   "display_name": "Python 3",
   "language": "python",
   "name": "python3"
  },
  "language_info": {
   "codemirror_mode": {
    "name": "ipython",
    "version": 3
   },
   "file_extension": ".py",
   "mimetype": "text/x-python",
   "name": "python",
   "nbconvert_exporter": "python",
   "pygments_lexer": "ipython3",
   "version": "3.7.6"
  }
 },
 "nbformat": 4,
 "nbformat_minor": 4
}
