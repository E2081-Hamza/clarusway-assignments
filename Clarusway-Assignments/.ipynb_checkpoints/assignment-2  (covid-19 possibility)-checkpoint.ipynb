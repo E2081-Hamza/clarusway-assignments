{
 "cells": [
  {
   "cell_type": "code",
   "execution_count": 1,
   "metadata": {},
   "outputs": [
    {
     "name": "stdout",
     "output_type": "stream",
     "text": [
      "Pls enter your age: 130\n",
      "Enter a valid 'age'\n",
      "Pls enter your age: 129\n",
      "Is your immune system too weak? (Y/N): y\n",
      "Do you have a severe chronic disease(Y/N)?: y\n",
      "Are you a cigarette addict? (Y/N: y\n",
      "Be careful! You are under COVID-19 death risk\n"
     ]
    }
   ],
   "source": [
    "def corona(a,i,c,cig):  \n",
    "        \n",
    "    if a >= 75 and (cig == \"Y\" or cig == \"y\"):\n",
    "        return True \n",
    "    elif a >= 75 and (cig != \"Y\" or cig != \"y\") and ((i == \"Y\" or i == \"y\") or (c == \"Y\" or c == \"y\")):\n",
    "        return True\n",
    "    elif a < 75 and (cig == \"Y\" or cig == \"y\") and ((i == \"Y\" or i == \"y\") or (c == \"Y\" or c == \"y\")):\n",
    "        return True \n",
    "    elif a < 75 and (cig != \"Y\" or cig != \"y\") and (i == \"Y\" or i == \"y\") and (c == \"Y\" or c == \"y\"):\n",
    "        return True\n",
    "    else:\n",
    "        return False   \n",
    "\n",
    "v = True\n",
    "\n",
    "while v == True:\n",
    "\n",
    "    a = int(input(\"Pls enter your age: \"))\n",
    "\n",
    "    if a < 130 and a > 0:\n",
    "        i = input(\"Is your immune system too weak? (Y/N): \")\n",
    "        c = input(\"Do you have a severe chronic disease(Y/N)?: \")\n",
    "        cig = input(\"Are you a cigarette addict? (Y/N: \")\n",
    "    \n",
    "        if corona(a,i,c,cig):\n",
    "        \n",
    "            print(\"Be careful! You are under COVID-19 death risk\")\n",
    "            \n",
    "            break\n",
    "        \n",
    "        else:\n",
    "        \n",
    "            print(\"No risk but don your mask and watch your social distance for your safety\")\n",
    "            \n",
    "            break\n",
    "\n",
    "    else:\n",
    "        print(\"Enter a valid 'age'\")\n",
    "        continue\n",
    "       \n",
    "    \n",
    "    \n",
    "\n",
    "\n",
    "        "
   ]
  },
  {
   "cell_type": "code",
   "execution_count": null,
   "metadata": {},
   "outputs": [],
   "source": []
  },
  {
   "cell_type": "code",
   "execution_count": null,
   "metadata": {},
   "outputs": [],
   "source": []
  }
 ],
 "metadata": {
  "kernelspec": {
   "display_name": "Python 3",
   "language": "python",
   "name": "python3"
  },
  "language_info": {
   "codemirror_mode": {
    "name": "ipython",
    "version": 3
   },
   "file_extension": ".py",
   "mimetype": "text/x-python",
   "name": "python",
   "nbconvert_exporter": "python",
   "pygments_lexer": "ipython3",
   "version": "3.7.6"
  }
 },
 "nbformat": 4,
 "nbformat_minor": 4
}
