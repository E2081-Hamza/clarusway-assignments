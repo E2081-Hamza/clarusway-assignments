{
 "cells": [
  {
   "cell_type": "markdown",
   "metadata": {},
   "source": [
    "# finobanacci number until predermined number 55"
   ]
  },
  {
   "cell_type": "code",
   "execution_count": 10,
   "metadata": {},
   "outputs": [
    {
     "name": "stdout",
     "output_type": "stream",
     "text": [
      "[1, 1, 2, 3, 5, 8, 13, 21, 34, 55]\n"
     ]
    }
   ],
   "source": [
    "i = 1\n",
    "\n",
    "y = 0\n",
    "\n",
    "x = []\n",
    "\n",
    "while i < 55:\n",
    "    \n",
    "    if y <= 1 :\n",
    "        \n",
    "        x.append(i)\n",
    "             \n",
    "        y+=1 \n",
    "                \n",
    "    else:\n",
    "        \n",
    "        i = x[y-1]+x[y-2]\n",
    "    \n",
    "        x.append(i)\n",
    "        \n",
    "        y+=1\n",
    "    \n",
    "print(x)"
   ]
  },
  {
   "cell_type": "markdown",
   "metadata": {},
   "source": [
    "# finobanacci numbers till user input number (interactive code)"
   ]
  },
  {
   "cell_type": "code",
   "execution_count": 20,
   "metadata": {},
   "outputs": [
    {
     "name": "stdout",
     "output_type": "stream",
     "text": [
      "enter the fibonacci finding limit: 1222\n",
      "\n",
      "Fibonacci numbers from 1 to 1222 :  \n",
      "\n",
      " [1, 1, 2, 3, 5, 8, 13, 21, 34, 55, 89, 144, 233, 377, 610, 987]\n"
     ]
    }
   ],
   "source": [
    "a = int(input(\"Enter the fibonacci finding limit number: \"))\n",
    "\n",
    "i = 1\n",
    "\n",
    "y = 0\n",
    "\n",
    "x = []\n",
    "\n",
    "while i < a:\n",
    "    \n",
    "    if y <= 1:\n",
    "        \n",
    "        x.append(i)\n",
    "             \n",
    "        y+=1 \n",
    "                \n",
    "    else:\n",
    "        \n",
    "        i = x[y-1]+x[y-2]\n",
    "        \n",
    "        if i < a:\n",
    "             \n",
    "            x.append(i)\n",
    "        \n",
    "            y+=1\n",
    "    \n",
    "print(f\"\\nFibonacci numbers from 1 to {a} : \",\"\\n\\n\",x)"
   ]
  },
  {
   "cell_type": "code",
   "execution_count": null,
   "metadata": {},
   "outputs": [],
   "source": []
  }
 ],
 "metadata": {
  "kernelspec": {
   "display_name": "Python 3",
   "language": "python",
   "name": "python3"
  },
  "language_info": {
   "codemirror_mode": {
    "name": "ipython",
    "version": 3
   },
   "file_extension": ".py",
   "mimetype": "text/x-python",
   "name": "python",
   "nbconvert_exporter": "python",
   "pygments_lexer": "ipython3",
   "version": "3.7.6"
  }
 },
 "nbformat": 4,
 "nbformat_minor": 4
}
