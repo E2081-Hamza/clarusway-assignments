{
 "cells": [
  {
   "cell_type": "code",
   "execution_count": null,
   "metadata": {},
   "outputs": [],
   "source": [
    "name = input(\"pls enter your name:\") \n",
    "\n",
    "pass_dict = {'ahmet':'12wer', 'selim':34325, 'serkan':'werffd', 'hamza' : 'a3sdg4', 'eric':'32fc'}\n",
    "\n",
    "if name in pass_dict:\n",
    "    \n",
    "    print(f\"Hello, {name.title()},  The password is : {pass_dict[name]}\")\n",
    "\n",
    "else:\n",
    "    \n",
    "    print(f\"Hello, {name}! See you later\")\n"
   ]
  }
 ],
 "metadata": {
  "kernelspec": {
   "display_name": "Python 3",
   "language": "python",
   "name": "python3"
  },
  "language_info": {
   "codemirror_mode": {
    "name": "ipython",
    "version": 3
   },
   "file_extension": ".py",
   "mimetype": "text/x-python",
   "name": "python",
   "nbconvert_exporter": "python",
   "pygments_lexer": "ipython3",
   "version": "3.7.6"
  }
 },
 "nbformat": 4,
 "nbformat_minor": 4
}
