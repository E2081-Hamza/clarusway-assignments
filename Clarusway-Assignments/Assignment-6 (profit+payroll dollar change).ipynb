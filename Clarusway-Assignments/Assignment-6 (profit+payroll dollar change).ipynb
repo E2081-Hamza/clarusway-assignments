{
 "cells": [
  {
   "cell_type": "code",
   "execution_count": null,
   "metadata": {},
   "outputs": [],
   "source": [
    "# assignment-6 task-1\n",
    "\n",
    "\n",
    "\n",
    "sales = {\n",
    "\n",
    "  \"cost_value\": 31.87,\n",
    "\n",
    "  \"sell_value\": 45.00,\n",
    "\n",
    "  \"inventory\": 1000\n",
    "\n",
    "}  \n",
    "\n",
    "\n",
    "\n",
    "x = 0\n",
    "\n",
    "for i in sales.values():    \n",
    "\n",
    "    x+=i\n",
    "\n",
    "    print(round(x))\n",
    "\n",
    "\n",
    "\n",
    "# assignment-6 task-2\n",
    "\n",
    "x = int(input(\"enter the payroll: \"))\n",
    "\n",
    "          \n",
    "\n",
    "print(\"payroll is $ %.2f\" %x)"
   ]
  }
 ],
 "metadata": {
  "kernelspec": {
   "display_name": "Python 3",
   "language": "python",
   "name": "python3"
  },
  "language_info": {
   "codemirror_mode": {
    "name": "ipython",
    "version": 3
   },
   "file_extension": ".py",
   "mimetype": "text/x-python",
   "name": "python",
   "nbconvert_exporter": "python",
   "pygments_lexer": "ipython3",
   "version": "3.7.6"
  }
 },
 "nbformat": 4,
 "nbformat_minor": 4
}
