{
 "cells": [
  {
   "cell_type": "code",
   "execution_count": 1,
   "metadata": {},
   "outputs": [
    {
     "name": "stdout",
     "output_type": "stream",
     "text": [
      "the most frequent number is 0 and it was 6 times repeated\n"
     ]
    }
   ],
   "source": [
    "numbers = [1, 3, 7, 4, 3,0,0,0,0,0,0, 3, 6, 3]\n",
    "\n",
    "num_set = set(numbers)\n",
    "\n",
    "num_list = list(num_set)\n",
    "\n",
    "y = list()\n",
    "\n",
    "for i in num_list:\n",
    "\n",
    "    x = numbers.count(i) \n",
    "\n",
    "    y.append(x)    \n",
    "\n",
    "y.index(max(y))\n",
    "\n",
    "print(f\"the most frequent number is {num_list[y.index(max(y))]} and it was {max(y)} times repeated\")"
   ]
  },
  {
   "cell_type": "code",
   "execution_count": null,
   "metadata": {},
   "outputs": [],
   "source": []
  }
 ],
 "metadata": {
  "kernelspec": {
   "display_name": "Python 3",
   "language": "python",
   "name": "python3"
  },
  "language_info": {
   "codemirror_mode": {
    "name": "ipython",
    "version": 3
   },
   "file_extension": ".py",
   "mimetype": "text/x-python",
   "name": "python",
   "nbconvert_exporter": "python",
   "pygments_lexer": "ipython3",
   "version": "3.7.6"
  }
 },
 "nbformat": 4,
 "nbformat_minor": 4
}
