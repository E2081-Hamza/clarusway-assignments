{
 "cells": [
  {
   "cell_type": "code",
   "execution_count": 1,
   "metadata": {},
   "outputs": [
    {
     "name": "stdout",
     "output_type": "stream",
     "text": [
      "pls enter a number slice\n",
      "1 st number: 123i\n"
     ]
    },
    {
     "ename": "ValueError",
     "evalue": "invalid literal for int() with base 10: '123i'",
     "output_type": "error",
     "traceback": [
      "\u001b[1;31m-----------------------------------------------------\u001b[0m",
      "\u001b[1;31mValueError\u001b[0m          Traceback (most recent call last)",
      "\u001b[1;32m<ipython-input-1-35e969cccf96>\u001b[0m in \u001b[0;36m<module>\u001b[1;34m\u001b[0m\n\u001b[0;32m      1\u001b[0m \u001b[0mprint\u001b[0m\u001b[1;33m(\u001b[0m\u001b[1;34m\"pls enter a number slice\"\u001b[0m\u001b[1;33m)\u001b[0m\u001b[1;33m\u001b[0m\u001b[1;33m\u001b[0m\u001b[0m\n\u001b[0;32m      2\u001b[0m \u001b[1;33m\u001b[0m\u001b[0m\n\u001b[1;32m----> 3\u001b[1;33m \u001b[0mw\u001b[0m \u001b[1;33m=\u001b[0m \u001b[0mint\u001b[0m\u001b[1;33m(\u001b[0m\u001b[0minput\u001b[0m\u001b[1;33m(\u001b[0m\u001b[1;34m\"1 st number: \"\u001b[0m\u001b[1;33m)\u001b[0m\u001b[1;33m)\u001b[0m\u001b[1;33m\u001b[0m\u001b[1;33m\u001b[0m\u001b[0m\n\u001b[0m\u001b[0;32m      4\u001b[0m \u001b[1;33m\u001b[0m\u001b[0m\n\u001b[0;32m      5\u001b[0m \u001b[0mz\u001b[0m \u001b[1;33m=\u001b[0m \u001b[0mint\u001b[0m\u001b[1;33m(\u001b[0m\u001b[0minput\u001b[0m\u001b[1;33m(\u001b[0m\u001b[1;34m\"2 nd number: \"\u001b[0m\u001b[1;33m)\u001b[0m\u001b[1;33m)\u001b[0m\u001b[1;33m\u001b[0m\u001b[1;33m\u001b[0m\u001b[0m\n",
      "\u001b[1;31mValueError\u001b[0m: invalid literal for int() with base 10: '123i'"
     ]
    }
   ],
   "source": [
    "print(\"pls enter a number slice\")\n",
    "\n",
    "w = int(input(\"1 st number: \"))\n",
    "\n",
    "z = int(input(\"2 nd number: \"))\n",
    "\n",
    "x = list(range(w,z+1))\n",
    "  \n",
    "arm_list = list()\n",
    "                              \n",
    "for i in x:\n",
    "    \n",
    "    b, c, d, e, t = len(str(i)), list(str(i)), 0, {\"1\",\"2\",\"3\",\"4\",\"5\",\"6\",\"7\",\"8\",\"9\",\"0\"},i\n",
    "    \n",
    "    fark = set(c)-e\n",
    "      \n",
    "    while not fark:  \n",
    "   \n",
    "        for i in c:\n",
    "\n",
    "            d += int(i)**b\n",
    "    \n",
    "        if t == d:\n",
    "\n",
    "            arm_list.append(d)\n",
    "                       \n",
    "        else:\n",
    "                       \n",
    "            break\n",
    "\n",
    "    else:\n",
    "    \n",
    "        print(\"It is an invalid entry. Don't use non-numeric, float, or negative values!\")\n",
    "        \n",
    "print(arm_list)\n"
   ]
  },
  {
   "cell_type": "code",
   "execution_count": 2,
   "metadata": {},
   "outputs": [
    {
     "name": "stdout",
     "output_type": "stream",
     "text": [
      "pls enter a number slice\n",
      "1 st number: 123i\n",
      "2 nd number: 123ş\n",
      "It is an invalid entry. Don't use non-numeric, float, or negative values!\n"
     ]
    }
   ],
   "source": [
    "print(\"pls enter a number slice\")\n",
    "\n",
    "w = input(\"1 st number: \")\n",
    "\n",
    "z = input(\"2 nd number: \")\n",
    "\n",
    "m = list(w)\n",
    "\n",
    "n = list(z)\n",
    "\n",
    "t = {\"1\",\"2\",\"3\",\"4\",\"5\",\"6\",\"7\",\"8\",\"9\",\"0\"}\n",
    "\n",
    "arm_list = list()\n",
    "\n",
    "if set(m) & t == set(m) and set(n) & t == set(n):     \n",
    "    \n",
    "    x = list(range(int(w),int(z)+1))\n",
    "         \n",
    "    for i in x:\n",
    "        \n",
    "        b, d = len(str(i)), 0\n",
    "      \n",
    "        for c in list(str(i)):\n",
    "            \n",
    "            print(c)\n",
    "            \n",
    "            d += int(c)**b           \n",
    "               \n",
    "        if i == d:\n",
    "\n",
    "            arm_list.append(d)\n",
    "                       \n",
    "        else:\n",
    "                       \n",
    "            break\n",
    "            \n",
    "    print(arm_list)\n",
    "    \n",
    "else:\n",
    "    \n",
    "    print(\"It is an invalid entry. Don't use non-numeric, float, or negative values!\")\n",
    "        \n"
   ]
  },
  {
   "cell_type": "code",
   "execution_count": 10,
   "metadata": {},
   "outputs": [
    {
     "name": "stdout",
     "output_type": "stream",
     "text": [
      "-10 -12 -14 -16 -18\n"
     ]
    }
   ],
   "source": [
    "print(*range(-10,-20,-2))"
   ]
  },
  {
   "cell_type": "code",
   "execution_count": 15,
   "metadata": {},
   "outputs": [
    {
     "name": "stdout",
     "output_type": "stream",
     "text": [
      "('a', 1) ('b', 2) ('c', 3) ('d', 4) "
     ]
    }
   ],
   "source": [
    "letters = [\"a\", \"b\",\"c\",\"d\"]\n",
    "\n",
    "numbers = [1,2,3,4,5]\n",
    "\n",
    "for i in list(zip(letters, numbers)):\n",
    "    print(i,end=\" \")"
   ]
  },
  {
   "cell_type": "code",
   "execution_count": 19,
   "metadata": {},
   "outputs": [
    {
     "name": "stdout",
     "output_type": "stream",
     "text": [
      "evens:  [0, 2, 4, 6, 8] \n",
      " odds:  [1, 3, 5, 7, 9]\n"
     ]
    }
   ],
   "source": [
    "evens =[]\n",
    "odds = []\n",
    "for i in range(10):\n",
    "    if i%2 == 0:\n",
    "        evens.append(i)\n",
    "    else:\n",
    "        odds.append(i)\n",
    "print(\"evens: \",evens,\"\\n\", \"odds: \",odds)"
   ]
  },
  {
   "cell_type": "code",
   "execution_count": 26,
   "metadata": {},
   "outputs": [
    {
     "name": "stdout",
     "output_type": "stream",
     "text": [
      "The number of even numbers : 3, total :24\n",
      "The number of even numbers : 6, total :33\n"
     ]
    }
   ],
   "source": [
    "l = example_list = [11,9,321,55,56,20,87,33,24]\n",
    "evens = 0\n",
    "odds = 0\n",
    "for i in l:\n",
    "    if i%2 == 0:\n",
    "        evens+=1\n",
    "        y = i\n",
    "        y+=0\n",
    "    else:\n",
    "        odds+=1\n",
    "        z = i\n",
    "        z+=0\n",
    "print(f\"The number of even numbers : {evens} and total of evens :{y}\\nThe number of even numbers : {odds}, total :{z}\")\n",
    "    \n",
    "    "
   ]
  },
  {
   "cell_type": "code",
   "execution_count": 24,
   "metadata": {},
   "outputs": [
    {
     "name": "stdout",
     "output_type": "stream",
     "text": [
      "1\n",
      "22\n",
      "333\n",
      "4444\n",
      "55555\n",
      "666666\n",
      "7777777\n",
      "88888888\n",
      "999999999\n"
     ]
    }
   ],
   "source": [
    "for i in range(1,10):\n",
    "    print(\"{}*{y}*{i}\"*i,y=int(10/2),\" \", )"
   ]
  },
  {
   "cell_type": "code",
   "execution_count": 28,
   "metadata": {},
   "outputs": [
    {
     "name": "stdout",
     "output_type": "stream",
     "text": [
      "148\n"
     ]
    }
   ],
   "source": [
    "for i in range(1,75):\n",
    "    +=i\n",
    "print(i)"
   ]
  },
  {
   "cell_type": "code",
   "execution_count": 29,
   "metadata": {},
   "outputs": [
    {
     "name": "stdout",
     "output_type": "stream",
     "text": [
      "0\n"
     ]
    }
   ],
   "source": [
    "print(1 and \"s\" and 0)"
   ]
  },
  {
   "cell_type": "code",
   "execution_count": null,
   "metadata": {},
   "outputs": [],
   "source": []
  }
 ],
 "metadata": {
  "kernelspec": {
   "display_name": "Python 3",
   "language": "python",
   "name": "python3"
  },
  "language_info": {
   "codemirror_mode": {
    "name": "ipython",
    "version": 3
   },
   "file_extension": ".py",
   "mimetype": "text/x-python",
   "name": "python",
   "nbconvert_exporter": "python",
   "pygments_lexer": "ipython3",
   "version": "3.7.6"
  }
 },
 "nbformat": 4,
 "nbformat_minor": 4
}
