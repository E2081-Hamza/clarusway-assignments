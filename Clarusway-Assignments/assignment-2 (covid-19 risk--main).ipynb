{
 "cells": [
  {
   "cell_type": "code",
   "execution_count": 1,
   "metadata": {},
   "outputs": [
    {
     "name": "stdout",
     "output_type": "stream",
     "text": [
      "There is a risk of death\n"
     ]
    }
   ],
   "source": [
    "age = True # older than 75 years old and cigarette addict\n",
    "chronic = True # have a severe chronic disease\n",
    "immune = True # immune system is too weak\n",
    "if age or chronic or immune == True:\n",
    "  print(\"There is a risk of death\")\n",
    "else:\n",
    "  print(\"There is not a risk of death\")"
   ]
  },
  {
   "cell_type": "code",
   "execution_count": null,
   "metadata": {},
   "outputs": [],
   "source": [
    "a = age = input(\"Are you older then 75? (yes/no)\")\n",
    "s = smoke = input('Do you smoke? (yes/no)?')\n",
    "c = chronic = input('Do you have a chronic disease?(yes/no) ')\n",
    "i = immune = input('Do you have a weak immune system?(yes/no) ')\n",
    "risk = (a == \"y\" and s == \"y\" and c == \"y\" and i == \"y\")\n",
    "print(\"covid-19 death risk: \", risk)"
   ]
  }
 ],
 "metadata": {
  "kernelspec": {
   "display_name": "Python 3",
   "language": "python",
   "name": "python3"
  },
  "language_info": {
   "codemirror_mode": {
    "name": "ipython",
    "version": 3
   },
   "file_extension": ".py",
   "mimetype": "text/x-python",
   "name": "python",
   "nbconvert_exporter": "python",
   "pygments_lexer": "ipython3",
   "version": "3.7.6"
  }
 },
 "nbformat": 4,
 "nbformat_minor": 4
}
