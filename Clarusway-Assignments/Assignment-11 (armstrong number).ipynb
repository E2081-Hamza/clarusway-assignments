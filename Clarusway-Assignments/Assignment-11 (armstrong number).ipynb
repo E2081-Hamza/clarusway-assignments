{
 "cells": [
  {
   "cell_type": "code",
   "execution_count": 5,
   "metadata": {},
   "outputs": [
    {
     "name": "stdout",
     "output_type": "stream",
     "text": [
      "pls enter a number: 3\n",
      "3 is a Armstrong Number\n"
     ]
    }
   ],
   "source": [
    "\n",
    "x = input(\"pls enter a number: \")\n",
    "\n",
    "b, c, d, e = len(x), list(x), 0, {\"1\",\"2\",\"3\",\"4\",\"5\",\"6\",\"7\",\"8\",\"9\",\"0\"}\n",
    "\n",
    "fark = set(c)-e\n",
    "\n",
    "while not fark:  \n",
    "   \n",
    "    for i in c:\n",
    "\n",
    "        d += int(i)**b\n",
    "    \n",
    "    if int(x) == d:\n",
    "\n",
    "        print(f\"{x} is a Armstrong Number\")\n",
    "        \n",
    "        break\n",
    "    \n",
    "    else:\n",
    "    \n",
    "        print(f\"{x} is NOT a Armstrong Number\")\n",
    "        \n",
    "        break\n",
    "\n",
    "else:\n",
    "    \n",
    "    print(\"It is an invalid entry. Don't use non-numeric, float, or negative values!\")\n",
    "       "
   ]
  },
  {
   "cell_type": "code",
   "execution_count": null,
   "metadata": {},
   "outputs": [],
   "source": []
  },
  {
   "cell_type": "code",
   "execution_count": null,
   "metadata": {},
   "outputs": [],
   "source": []
  }
 ],
 "metadata": {
  "kernelspec": {
   "display_name": "Python 3",
   "language": "python",
   "name": "python3"
  },
  "language_info": {
   "codemirror_mode": {
    "name": "ipython",
    "version": 3
   },
   "file_extension": ".py",
   "mimetype": "text/x-python",
   "name": "python",
   "nbconvert_exporter": "python",
   "pygments_lexer": "ipython3",
   "version": "3.7.6"
  }
 },
 "nbformat": 4,
 "nbformat_minor": 4
}
