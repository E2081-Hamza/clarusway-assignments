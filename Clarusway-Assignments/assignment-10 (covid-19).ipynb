{
 "cells": [
  {
   "cell_type": "code",
   "execution_count": 4,
   "metadata": {},
   "outputs": [
    {
     "ename": "SyntaxError",
     "evalue": "'break' outside loop (<ipython-input-4-d705094b12ba>, line 30)",
     "output_type": "error",
     "traceback": [
      "\u001b[1;36m  File \u001b[1;32m\"<ipython-input-4-d705094b12ba>\"\u001b[1;36m, line \u001b[1;32m30\u001b[0m\n\u001b[1;33m    \u001b[0m\n\u001b[1;37m    ^\u001b[0m\n\u001b[1;31mSyntaxError\u001b[0m\u001b[1;31m:\u001b[0m 'break' outside loop\n"
     ]
    }
   ],
   "source": [
    "def corona(a,i,c,cig):  \n",
    "        \n",
    "    if a >= 75 and (cig == \"Y\" or cig == \"y\"):\n",
    "        return True \n",
    "    elif a >= 75 and (cig != \"Y\" or cig != \"y\") and ((i == \"Y\" or i == \"y\") or (c == \"Y\" or c == \"y\")):\n",
    "        return True\n",
    "    elif a < 75 and (cig == \"Y\" or cig == \"y\") and ((i == \"Y\" or i == \"y\") or (c == \"Y\" or c == \"y\")):\n",
    "        return True \n",
    "    elif a < 75 and (cig != \"Y\" or cig != \"y\") and (i == \"Y\" or i == \"y\") and (c == \"Y\" or c == \"y\"):\n",
    "        return True\n",
    "    else:\n",
    "        return False   \n",
    "\n",
    "\n",
    "\n",
    "a = int(input(\"Pls enter your age: \"))\n",
    "\n",
    "if a < 130 and a > 0:\n",
    "    i = input(\"Is your immune system too weak? (Y/N): \")\n",
    "    c = input(\"Do you have a severe chronic disease(Y/N)?: \")\n",
    "    cig = input(\"Are you a cigarette addict? (Y/N: \")\n",
    "    \n",
    "    if corona(a,i,c,cig):\n",
    "        \n",
    "        print(\"You are in risky group\")\n",
    "            \n",
    "        break\n",
    "        \n",
    "    else:\n",
    "        \n",
    "        print(\"You are not in risky group\")\n",
    "            \n",
    "        break\n",
    "\n",
    "else:  \n",
    "    print(\"Enter a valid 'age'\")\n",
    "    continue"
   ]
  },
  {
   "cell_type": "code",
   "execution_count": null,
   "metadata": {},
   "outputs": [],
   "source": []
  }
 ],
 "metadata": {
  "kernelspec": {
   "display_name": "Python 3",
   "language": "python",
   "name": "python3"
  },
  "language_info": {
   "codemirror_mode": {
    "name": "ipython",
    "version": 3
   },
   "file_extension": ".py",
   "mimetype": "text/x-python",
   "name": "python",
   "nbconvert_exporter": "python",
   "pygments_lexer": "ipython3",
   "version": "3.7.6"
  }
 },
 "nbformat": 4,
 "nbformat_minor": 4
}
