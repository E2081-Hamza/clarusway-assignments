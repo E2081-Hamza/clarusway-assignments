{
 "cells": [
  {
   "cell_type": "code",
   "execution_count": 2,
   "metadata": {},
   "outputs": [
    {
     "name": "stdout",
     "output_type": "stream",
     "text": [
      "  Key  :  selim \n",
      " Value :  9\n"
     ]
    }
   ],
   "source": [
    "old = {'emma':75, 'ahmet':19, 'selim':9, 'jack':99, 'sema':111, 'serdar':41}\n",
    "\n",
    "def dic_val(dic,maxORmin):                      \n",
    "\n",
    "    dicTolist = list(dic.items())                # convert dict-to-list.   \n",
    "\n",
    "    if maxORmin == \"max\":                        # to find MAX value in dict\n",
    "      \n",
    "        dicMaxVal = max(list(dic.values()))      \n",
    "    \n",
    "        x = 0\n",
    "    \n",
    "        for i in dicTolist:        # which one in list has the max value via for loop.\n",
    "            \n",
    "            if dicMaxVal in i:\n",
    "                \n",
    "                print(\"  Key  : \",i[0],\"\\n Value : \",i[1])\n",
    "                \n",
    "            else:\n",
    "                \n",
    "                x+=1\n",
    "                \n",
    "                continue\n",
    "                \n",
    "    elif maxORmin == \"min\":                     # to find MIN value in dict\n",
    "    \n",
    "        dicMinVal = min(list(dic.values()))     \n",
    "    \n",
    "        x = 0\n",
    "    \n",
    "        for i in dicTolist:\n",
    "            \n",
    "            if dicMinVal in i:\n",
    "                \n",
    "                print(\"  Key  : \",i[0],\"\\n Value : \",i[1])\n",
    "                \n",
    "            else:\n",
    "                \n",
    "                x+=1\n",
    "                \n",
    "                continue                \n",
    "                \n",
    "    else: \n",
    "        \n",
    "        print(\"lütfen 'dic_val(dic,maxORmin)' içerisinde 'dict' yanında 'max' veya 'min' değerlerinden birini girdiğinize emin olunuz.\")\n",
    "\n",
    "dic_val(old,\"min\")                    # calling function with \"old\" and \"min\" attributes\n",
    "            \n"
   ]
  }
 ],
 "metadata": {
  "kernelspec": {
   "display_name": "Python 3",
   "language": "python",
   "name": "python3"
  },
  "language_info": {
   "codemirror_mode": {
    "name": "ipython",
    "version": 3
   },
   "file_extension": ".py",
   "mimetype": "text/x-python",
   "name": "python",
   "nbconvert_exporter": "python",
   "pygments_lexer": "ipython3",
   "version": "3.7.6"
  }
 },
 "nbformat": 4,
 "nbformat_minor": 4
}
