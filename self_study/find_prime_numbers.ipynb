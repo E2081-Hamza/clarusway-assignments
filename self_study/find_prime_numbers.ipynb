{
 "cells": [
  {
   "cell_type": "code",
   "execution_count": null,
   "metadata": {},
   "outputs": [],
   "source": [
    "print(\"lutfen asal sayilarin bulunacagi '2-99999999' arasında istediğiniz bir sayi araligi giriniz\")\n",
    "a = int(input(\"1.sayı : \"))\n",
    "b = int(input(\"2.sayı : \"))\n",
    "\n",
    "if a,b >= 2 and <= 99999999:\n",
    "    asal_sayi(a,b)\n",
    "else:\n",
    "    print(\"lütfen girdiğiniz sayıyı kontrol ediniz.!\")\n",
    "\n",
    "def asal_sayi(a,b):\n",
    "\n",
    "    while a >= 2 and a <= 99999999:\n",
    "        for i in range(a,b):\n",
    "            x = 2\n",
    "            if i % x == 0:\n",
    "                x+=1 \n",
    "                continue\n",
    "            else: \n",
    "                continue\n",
    "    else\n",
    "        print(\"lütfen girdiğiniz sayıyı kontrol ediniz.!\")"
   ]
  }
 ],
 "metadata": {
  "kernelspec": {
   "display_name": "Python 3",
   "language": "python",
   "name": "python3"
  },
  "language_info": {
   "codemirror_mode": {
    "name": "ipython",
    "version": 3
   },
   "file_extension": ".py",
   "mimetype": "text/x-python",
   "name": "python",
   "nbconvert_exporter": "python",
   "pygments_lexer": "ipython3",
   "version": "3.7.6"
  }
 },
 "nbformat": 4,
 "nbformat_minor": 4
}
