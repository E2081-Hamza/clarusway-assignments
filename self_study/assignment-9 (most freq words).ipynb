{
 "cells": [
  {
   "cell_type": "code",
   "execution_count": null,
   "metadata": {},
   "outputs": [],
   "source": [
    "numbers = [1, 3, 7, 4, 3,0,0,0,0,0,0, 3, 6, 3]\n",
    "\n",
    "num_set = set(numbers)\n",
    "\n",
    "num_list = list(num_set)\n",
    "\n",
    "y = list()\n",
    "\n",
    "for i in num_list:\n",
    "    \n",
    "    x = numbers.count(i)\n",
    "    \n",
    "    y.append(x)\n",
    "    \n",
    "y.index(max(y))\n",
    "\n",
    "print(f\"the most frequent number is {num_list[y.index(max(y))]} and it was {max(y)} times repeated\")\n",
    "    "
   ]
  },
  {
   "cell_type": "code",
   "execution_count": null,
   "metadata": {},
   "outputs": [],
   "source": [
    "sehir = [\"addis ababa\", \"tokyo\", \"istanbul\", \"mert\",\"tokyo\",\"ankara\",\"istanbul\"]\n",
    "x = list(set(sehir))\n",
    "m = list()\n",
    "for i in x:\n",
    "    m.append(sehir.count(i))\n",
    "for i in m\n",
    "    \n",
    "    "
   ]
  },
  {
   "cell_type": "code",
   "execution_count": null,
   "metadata": {},
   "outputs": [],
   "source": [
    "tt = (1,2,[1,3,5])\n",
    "tt[2].append(3)"
   ]
  },
  {
   "cell_type": "code",
   "execution_count": null,
   "metadata": {},
   "outputs": [],
   "source": [
    "print(tt)"
   ]
  },
  {
   "cell_type": "code",
   "execution_count": null,
   "metadata": {},
   "outputs": [],
   "source": [
    "x,y,*z,t = (11,22,33,44,55,66)"
   ]
  },
  {
   "cell_type": "code",
   "execution_count": null,
   "metadata": {},
   "outputs": [],
   "source": [
    "print(z)"
   ]
  },
  {
   "cell_type": "code",
   "execution_count": null,
   "metadata": {},
   "outputs": [],
   "source": [
    "left_hand_letters = {'q','w','e','r','t','a','s','d','f','g','z','x','c','v','b'}\n",
    "right_hand_letters = {'y','u','i','o','p','h','j','k','l','n','m'}"
   ]
  },
  {
   "cell_type": "code",
   "execution_count": null,
   "metadata": {},
   "outputs": [],
   "source": [
    "left_hand_letters = {'q','w','e','r','t','a','s','d','f','g','z','x','c','v','b'}\n",
    "right_hand_letters = {'y','u','i','o','p','h','j','k','l','n','m'}\n",
    "read =  str(input('please enter the word that you want to learn : '))\n",
    "read_set =set(read)\n",
    "x=(read_set&left_hand_letters)\n",
    "y=(read_set&right_hand_letters)\n",
    "print((len(x)!=0 and len(y)!=0))"
   ]
  },
  {
   "cell_type": "code",
   "execution_count": 12,
   "metadata": {},
   "outputs": [
    {
     "name": "stdout",
     "output_type": "stream",
     "text": [
      "comfortable olup olmadığını öğrenmek istediğiniz kelime\\ cümleyi giriniz: \n",
      "pop\n",
      "girdiğiniz kelime/cümle: uncomfortable\n"
     ]
    }
   ],
   "source": [
    "word = set(input(\"comfortable olup olmadığını öğrenmek istediğiniz kelime\\ cümleyi giriniz: \\n\"))\n",
    "left_hand = {'q', 'w', 'e', 'r', 't', 'a','s', 'd', 'f', 'g', 'z', 'x', 'c', 'v', 'b'}\n",
    "right_hand = {'y', 'u', 'i', 'o', 'p', 'h','j', 'k', 'l', 'n', 'm'}\n",
    "x = bool(word.difference(left_hand))\n",
    "y = bool(word.difference(right_hand))\n",
    "print(((x and y) and \"\\ngirdiğiniz kelime/cümle:  comfortable\") or ((x and y) or \"girdiğiniz kelime/cümle: uncomfortable\"))"
   ]
  },
  {
   "cell_type": "code",
   "execution_count": null,
   "metadata": {},
   "outputs": [],
   "source": []
  },
  {
   "cell_type": "code",
   "execution_count": null,
   "metadata": {},
   "outputs": [],
   "source": []
  }
 ],
 "metadata": {
  "kernelspec": {
   "display_name": "Python 3",
   "language": "python",
   "name": "python3"
  },
  "language_info": {
   "codemirror_mode": {
    "name": "ipython",
    "version": 3
   },
   "file_extension": ".py",
   "mimetype": "text/x-python",
   "name": "python",
   "nbconvert_exporter": "python",
   "pygments_lexer": "ipython3",
   "version": "3.7.6"
  }
 },
 "nbformat": 4,
 "nbformat_minor": 4
}
