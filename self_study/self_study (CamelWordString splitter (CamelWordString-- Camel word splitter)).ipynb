{
 "cells": [
  {
   "cell_type": "markdown",
   "metadata": {},
   "source": [
    "## CameWordString splitter code (\"CameWordString\" >> \"Camel word string\")"
   ]
  },
  {
   "cell_type": "code",
   "execution_count": null,
   "metadata": {},
   "outputs": [],
   "source": [
    "x = input(\"pls enter your concatated words: \")\n",
    "\n",
    "lis_x = list(x)\n",
    "\n",
    "y = {\"A\",\"B\",\"C\",\"D\",\"E\",\"F\",\"G\",\"H\",\"I\",\"J\",\"K\",\"L\",\"M\",\"N\",\"O\",\"P\",\"Q\",\"R\",\"S\",\"T\",\"U\",\"V\",\"W\",\"X\",\"Y\",\"Z\"}\n",
    "\n",
    "sep = \"\"\n",
    "\n",
    "for i in x:\n",
    "    \n",
    "    if i in y and x.index(i) == 0:\n",
    "        \n",
    "        continue\n",
    "    \n",
    "    elif i in y and x.index(i) > 0:\n",
    "   \n",
    "        lis_x.insert(lis_x.index(i),\" \")\n",
    "        \n",
    "        lis_x[lis_x.index(i)] = i.swapcase()\n",
    "        \n",
    "print(sep.join(lis_x))"
   ]
  },
  {
   "cell_type": "markdown",
   "metadata": {},
   "source": [
    "# NEW FORM (MORE STABLE) "
   ]
  },
  {
   "cell_type": "code",
   "execution_count": null,
   "metadata": {},
   "outputs": [],
   "source": [
    "x = input(\"pls enter your concatated words: \")\n",
    "\n",
    "lis_x = list(x)\n",
    " \n",
    "w = len(lis_x)\n",
    "\n",
    "y = {\"A\",\"B\",\"C\",\"Ç\",\"D\",\"E\",\"F\",\"G\",\"Ğ\",\"H\",\"I\",\"İ\",\"J\",\"K\",\"L\",\"M\",\"N\",\"O\",\"Ö\",\"P\",\"Q\",\"R\",\"S\",\"Ş\",\"T\",\"U\",\"Ü\",\"V\",\"W\",\"X\",\"Y\",\"Z\"}\n",
    "\n",
    "sep =\"\"\n",
    "\n",
    "i = 0\n",
    "\n",
    "while i < w:\n",
    "           \n",
    "    if lis_x[i] in y and i != 0 and i != \" \":\n",
    "        lis_x[i] = lis_x[i].lower()\n",
    "        lis_x.insert(i,\" \")\n",
    "        w+=1\n",
    "        i+=1\n",
    "    \n",
    "    else:\n",
    "        i+=1       \n",
    "        \n",
    "print(\"\\n\",sep.join(lis_x))\n",
    "print(lis_x.count(\" \"))"
   ]
  }
 ],
 "metadata": {
  "kernelspec": {
   "display_name": "Python 3",
   "language": "python",
   "name": "python3"
  },
  "language_info": {
   "codemirror_mode": {
    "name": "ipython",
    "version": 3
   },
   "file_extension": ".py",
   "mimetype": "text/x-python",
   "name": "python",
   "nbconvert_exporter": "python",
   "pygments_lexer": "ipython3",
   "version": "3.7.6"
  }
 },
 "nbformat": 4,
 "nbformat_minor": 4
}
