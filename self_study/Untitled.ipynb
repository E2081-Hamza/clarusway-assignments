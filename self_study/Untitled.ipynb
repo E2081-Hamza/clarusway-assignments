{
 "cells": [
  {
   "cell_type": "code",
   "execution_count": null,
   "metadata": {},
   "outputs": [],
   "source": [
    "from random import randint\n",
    "\n",
    "x,y = [randint(1, 70) for i in range(5)], [randint(1, 27)]"
   ]
  },
  {
   "cell_type": "code",
   "execution_count": null,
   "metadata": {},
   "outputs": [],
   "source": [
    "print(f'whiteball numbers are {x} and powerball number is: {y}')"
   ]
  },
  {
   "cell_type": "code",
   "execution_count": null,
   "metadata": {},
   "outputs": [],
   "source": [
    "from random import randint\n",
    "x = [] \n",
    "while len (x)<=5:\n",
    "    y = randint(1, 70)\n",
    "    if y not in x:\n",
    "        x.append(y)\n",
    "print(x + randint(1,27))\n",
    "    \n",
    "set([randint(1, 70) for i in range(5)]\n",
    "if len\n",
    "print(set([randint(1, 70) for i in range(5)]), [randint(1, 27)])"
   ]
  },
  {
   "cell_type": "code",
   "execution_count": null,
   "metadata": {},
   "outputs": [],
   "source": [
    "from random import randint\n",
    "x = [] \n",
    "while len(x)<=4:\n",
    "    y = randint(1, 69)\n",
    "    if y not in x:\n",
    "        x.append(y)\n",
    "print(*x, '-',randint(1,26))"
   ]
  },
  {
   "cell_type": "code",
   "execution_count": null,
   "metadata": {},
   "outputs": [],
   "source": [
    "from random import randint\n",
    "print([randint(1, 69) for i in range(5)], [randint(1, 26)]) (edited) \n",
    "\n",
    "\n",
    "\n",
    "\n",
    "E2081 - Hamza  5 minutes ago\n",
    "yukarıdaki kodun aynı sayıyı listeye ekleme problemi olabilir.\n",
    "bu sebeple aşağıdaki kod daha uygun olacaktır.\n",
    "--------------------------------------------------------\n",
    "from random import randint\n",
    "x = []\n",
    "while len (x)<=4:\n",
    "    y = randint(1, 69)\n",
    "    if y not in x:\n",
    "        x.append(y)\n",
    "print(x , [randint(1,26)]) (edited) "
   ]
  },
  {
   "cell_type": "code",
   "execution_count": 4,
   "metadata": {},
   "outputs": [
    {
     "name": "stdout",
     "output_type": "stream",
     "text": [
      "47 48 2 51 20 - 8\n"
     ]
    }
   ],
   "source": [
    "from random import randint\n",
    "print(*[randint(1, 69) for i in range(5)],'-', randint(1, 26)) "
   ]
  },
  {
   "cell_type": "code",
   "execution_count": null,
   "metadata": {},
   "outputs": [],
   "source": []
  },
  {
   "cell_type": "code",
   "execution_count": null,
   "metadata": {},
   "outputs": [],
   "source": []
  },
  {
   "cell_type": "code",
   "execution_count": null,
   "metadata": {},
   "outputs": [],
   "source": []
  },
  {
   "cell_type": "code",
   "execution_count": null,
   "metadata": {},
   "outputs": [],
   "source": []
  },
  {
   "cell_type": "code",
   "execution_count": null,
   "metadata": {},
   "outputs": [],
   "source": []
  },
  {
   "cell_type": "code",
   "execution_count": null,
   "metadata": {},
   "outputs": [],
   "source": []
  },
  {
   "cell_type": "code",
   "execution_count": null,
   "metadata": {},
   "outputs": [],
   "source": [
    "print(randint(69,70))"
   ]
  },
  {
   "cell_type": "code",
   "execution_count": null,
   "metadata": {},
   "outputs": [],
   "source": [
    "a = 10\n",
    "\n",
    "a%2"
   ]
  },
  {
   "cell_type": "code",
   "execution_count": null,
   "metadata": {},
   "outputs": [],
   "source": [
    "def abc():\n",
    "    True = False\n",
    "    return True\n",
    "\n",
    "abc()"
   ]
  },
  {
   "cell_type": "raw",
   "metadata": {},
   "source": [
    "str(1)"
   ]
  },
  {
   "cell_type": "raw",
   "metadata": {},
   "source": [
    "dir (str)"
   ]
  },
  {
   "cell_type": "code",
   "execution_count": null,
   "metadata": {},
   "outputs": [],
   "source": [
    "help(str)"
   ]
  },
  {
   "cell_type": "code",
   "execution_count": null,
   "metadata": {},
   "outputs": [],
   "source": [
    "def functioner(x,y,x,y):\n",
    "    return lambda x: print(x,x+x,y)\n",
    "\n",
    "myPrint_smile = functioner(\":)\")\n",
    "myPrint_sad = functioner(\":(\")\n",
    "myPrint_neutral = functioner(\":|\")\n",
    "\n",
    "myPrint_smile(\"hello\")\n",
    "myPrint_sad(\"hello\")\n",
    "myPrint_neutral(\"hello\")\n"
   ]
  },
  {
   "cell_type": "code",
   "execution_count": null,
   "metadata": {},
   "outputs": [],
   "source": [
    "def func_gen(x):\n",
    "    return lambda y: x(y)  \n",
    "\n",
    "my_print = func_gen(print)\n",
    "my_max = func_gen(max)\n",
    "\n",
    "my_print(\"hello world\")"
   ]
  },
  {
   "cell_type": "code",
   "execution_count": null,
   "metadata": {},
   "outputs": [],
   "source": [
    "def equal (x,y,z):\n",
    "    numbers = [a,b,c]\n",
    "    return lambda x,y,z : res if res>1 else 0, res = numbers.count(max(numbers, key=numbers.count))\n",
    "\n",
    "equall(1,2,3)"
   ]
  },
  {
   "cell_type": "code",
   "execution_count": null,
   "metadata": {},
   "outputs": [],
   "source": []
  }
 ],
 "metadata": {
  "kernelspec": {
   "display_name": "Python 3",
   "language": "python",
   "name": "python3"
  },
  "language_info": {
   "codemirror_mode": {
    "name": "ipython",
    "version": 3
   },
   "file_extension": ".py",
   "mimetype": "text/x-python",
   "name": "python",
   "nbconvert_exporter": "python",
   "pygments_lexer": "ipython3",
   "version": "3.7.6"
  }
 },
 "nbformat": 4,
 "nbformat_minor": 4
}
