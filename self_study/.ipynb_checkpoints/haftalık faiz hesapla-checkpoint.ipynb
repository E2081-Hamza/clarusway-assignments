{
 "cells": [
  {
   "cell_type": "code",
   "execution_count": null,
   "metadata": {},
   "outputs": [],
   "source": [
    "x = float(input(\"yatırılacak para miktarını giriniz:  \"))\n",
    "y = int(input(\"faiz de kalacağı gün sayısını giriniz: \"))\n",
    "z = float(input(\"günlük faiz oranını giriniz (0.07 ile 0.08 arası olmalıdır.):  \"))\n",
    "\n",
    "def faiz_hesap(x,y,z):\n",
    "    for i in range(y):\n",
    "        if z>0.02 and z<0.08:\n",
    "            x+=x*z\n",
    "        else:\n",
    "            print(\"Hatalı faiz oranı girdiniz. Kontrol ediniz.\")\n",
    "    return(x)\n",
    "\n",
    "print(\"toplam elinize geçen/ geçecek para\", faiz_hesap(x,y,z))"
   ]
  },
  {
   "cell_type": "code",
   "execution_count": null,
   "metadata": {},
   "outputs": [],
   "source": []
  },
  {
   "cell_type": "code",
   "execution_count": null,
   "metadata": {},
   "outputs": [],
   "source": []
  }
 ],
 "metadata": {
  "kernelspec": {
   "display_name": "Python 3",
   "language": "python",
   "name": "python3"
  },
  "language_info": {
   "codemirror_mode": {
    "name": "ipython",
    "version": 3
   },
   "file_extension": ".py",
   "mimetype": "text/x-python",
   "name": "python",
   "nbconvert_exporter": "python",
   "pygments_lexer": "ipython3",
   "version": "3.7.6"
  }
 },
 "nbformat": 4,
 "nbformat_minor": 4
}
