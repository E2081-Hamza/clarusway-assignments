{
 "cells": [
  {
   "cell_type": "code",
   "execution_count": 29,
   "metadata": {},
   "outputs": [
    {
     "name": "stdout",
     "output_type": "stream",
     "text": [
      "lütfen asal sayıların bulunacağı sayı aralığını giriniz.\n",
      "1.sayı: 2\n",
      "2.sayı: 15\n",
      "[2]\n",
      "[2, 3]\n"
     ]
    },
    {
     "ename": "UnboundLocalError",
     "evalue": "local variable 'x' referenced before assignment",
     "output_type": "error",
     "traceback": [
      "\u001b[1;31m---------------------------------------------------------------------------\u001b[0m",
      "\u001b[1;31mUnboundLocalError\u001b[0m                         Traceback (most recent call last)",
      "\u001b[1;32m<ipython-input-29-b56fc3432dc3>\u001b[0m in \u001b[0;36m<module>\u001b[1;34m\u001b[0m\n\u001b[0;32m     28\u001b[0m         \u001b[0mprint\u001b[0m\u001b[1;33m(\u001b[0m\u001b[0mc\u001b[0m\u001b[1;33m)\u001b[0m\u001b[1;33m\u001b[0m\u001b[1;33m\u001b[0m\u001b[0m\n\u001b[0;32m     29\u001b[0m \u001b[1;33m\u001b[0m\u001b[0m\n\u001b[1;32m---> 30\u001b[1;33m \u001b[0masal_bul\u001b[0m\u001b[1;33m(\u001b[0m\u001b[0ma\u001b[0m\u001b[1;33m,\u001b[0m\u001b[0mb\u001b[0m\u001b[1;33m)\u001b[0m\u001b[1;33m\u001b[0m\u001b[1;33m\u001b[0m\u001b[0m\n\u001b[0m\u001b[0;32m     31\u001b[0m \u001b[1;33m\u001b[0m\u001b[0m\n\u001b[0;32m     32\u001b[0m \u001b[1;33m\u001b[0m\u001b[0m\n",
      "\u001b[1;32m<ipython-input-29-b56fc3432dc3>\u001b[0m in \u001b[0;36masal_bul\u001b[1;34m(a, b)\u001b[0m\n\u001b[0;32m     20\u001b[0m \u001b[1;33m\u001b[0m\u001b[0m\n\u001b[0;32m     21\u001b[0m \u001b[1;33m\u001b[0m\u001b[0m\n\u001b[1;32m---> 22\u001b[1;33m             \u001b[1;32melif\u001b[0m \u001b[0mi\u001b[0m \u001b[1;33m%\u001b[0m \u001b[0mx\u001b[0m \u001b[1;33m==\u001b[0m \u001b[1;36m0\u001b[0m\u001b[1;33m:\u001b[0m\u001b[1;33m\u001b[0m\u001b[1;33m\u001b[0m\u001b[0m\n\u001b[0m\u001b[0;32m     23\u001b[0m \u001b[1;33m\u001b[0m\u001b[0m\n\u001b[0;32m     24\u001b[0m                 \u001b[1;32mcontinue\u001b[0m\u001b[1;33m\u001b[0m\u001b[1;33m\u001b[0m\u001b[0m\n",
      "\u001b[1;31mUnboundLocalError\u001b[0m: local variable 'x' referenced before assignment"
     ]
    }
   ],
   "source": [
    "print(\"lütfen asal sayıların bulunacağı sayı aralığını giriniz.\")\n",
    "\n",
    "a = int(input(\"1.sayı: \"))\n",
    "\n",
    "b = int(input(\"2.sayı: \"))\n",
    "\n",
    "c = list()\n",
    "\n",
    "x = 2\n",
    "    \n",
    "def asal_bul(a,b):\n",
    "    \n",
    "    for i in range(a,b):   \n",
    "                 \n",
    "        for m in range(2,i-1):\n",
    "                   \n",
    "            if i % m != 0:   \n",
    "        \n",
    "                x+=1 \n",
    "            \n",
    "                       \n",
    "            elif i % x == 0:\n",
    "            \n",
    "                continue\n",
    "            \n",
    "        c.append(i)\n",
    "            \n",
    "        print(c)\n",
    "    \n",
    "asal_bul(a,b)\n",
    "            \n",
    "            \n",
    "    \n"
   ]
  },
  {
   "cell_type": "code",
   "execution_count": 10,
   "metadata": {},
   "outputs": [
    {
     "name": "stdout",
     "output_type": "stream",
     "text": [
      "lütfen asal sayıların bulunacağı sayı aralığını giriniz.\n",
      "bir sayı giriniz: 9\n",
      "9  asal sayıdır.\n"
     ]
    }
   ],
   "source": [
    "print(\"lütfen asal sayıların bulunacağı sayı aralığını giriniz.\")\n",
    "\n",
    "a = int(input(\"bir sayı giriniz: \"))\n",
    "\n",
    "#b = int(input(\"2.sayı: \"))\n",
    "\n",
    "#c = list()\n",
    "\n",
    "#x = 2\n",
    "    \n",
    "def asal_bul(a):\n",
    "    \n",
    "    i = 2\n",
    "      \n",
    "    for i in range(2:a):\n",
    "        \n",
    "        if i < a and a % i != 0:\n",
    "        \n",
    "            continue\n",
    "            \n",
    "    \n",
    "        \n",
    "        print(a,\" asal sayıdır.\")\n",
    "        \n",
    "    elif i == a or a % i == 0:\n",
    "            \n",
    "        print(a, \" asal sayı DEĞİLdir.\")\n",
    "\n",
    "    \n",
    "        \n",
    "    \n",
    "asal_bul(a)\n",
    "            "
   ]
  },
  {
   "cell_type": "code",
   "execution_count": null,
   "metadata": {},
   "outputs": [],
   "source": []
  },
  {
   "cell_type": "code",
   "execution_count": null,
   "metadata": {},
   "outputs": [],
   "source": []
  }
 ],
 "metadata": {
  "kernelspec": {
   "display_name": "Python 3",
   "language": "python",
   "name": "python3"
  },
  "language_info": {
   "codemirror_mode": {
    "name": "ipython",
    "version": 3
   },
   "file_extension": ".py",
   "mimetype": "text/x-python",
   "name": "python",
   "nbconvert_exporter": "python",
   "pygments_lexer": "ipython3",
   "version": "3.7.6"
  }
 },
 "nbformat": 4,
 "nbformat_minor": 4
}
