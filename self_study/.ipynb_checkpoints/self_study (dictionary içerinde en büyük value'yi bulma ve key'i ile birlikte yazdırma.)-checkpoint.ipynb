{
 "cells": [
  {
   "cell_type": "code",
   "execution_count": null,
   "metadata": {},
   "outputs": [],
   "source": [
    "mylist = (list(range(1,11)))\n",
    "print(mylist)"
   ]
  },
  {
   "cell_type": "code",
   "execution_count": null,
   "metadata": {},
   "outputs": [],
   "source": [
    "mylist = list(range(1,11))\n",
    "mylist.sort(reverse=True)\n",
    "print(mylist)"
   ]
  },
  {
   "cell_type": "code",
   "execution_count": null,
   "metadata": {},
   "outputs": [],
   "source": [
    "mylist.sort()\n"
   ]
  },
  {
   "cell_type": "code",
   "execution_count": null,
   "metadata": {},
   "outputs": [],
   "source": [
    "grocer = [\"banana\", [\"orange\", [\"apple\", \"eggplant\", \"melon\", \"spinach\", \"cheese\", \"leek\" ], \"water\"], \"mandarin\"]\n",
    "\n",
    "print(list(grocer[1][1][1])+ grocer[1][1][3:])"
   ]
  },
  {
   "cell_type": "code",
   "execution_count": null,
   "metadata": {},
   "outputs": [],
   "source": [
    "text = \"My two favorite flowers are tulip and rose, two favorite colors are blue and green.\"\n",
    "\n",
    "\n",
    "flowers = [[\"jasmine\", [\"lavender\", \"rose\"], \"tulip\"]]\n",
    "colors = [\"red\", (\"blue\", [\"yellow\", \"green\"]), \"pink\"]\n",
    "\n",
    "\n",
    "text = \"My two favorite flowers are {} and {}, two favorite colors are {} and {}.\".format(flowers[0][2],flowers[0][1][1],\\\n",
    "        colors[1][0],colors[1][1][1]) \n",
    "print(text)"
   ]
  },
  {
   "cell_type": "code",
   "execution_count": null,
   "metadata": {},
   "outputs": [],
   "source": [
    "I am 40 years old.\n",
    "    I have two children.\n",
    "        Data Science is my IT domain."
   ]
  },
  {
   "cell_type": "code",
   "execution_count": null,
   "metadata": {},
   "outputs": [],
   "source": [
    "sentence = \"I am 40 years old. I have two children. Data Science is my IT domain.\""
   ]
  },
  {
   "cell_type": "code",
   "execution_count": null,
   "metadata": {},
   "outputs": [],
   "source": [
    "escapes = [\"\\n\\t\", (\"\\t\", \"\\t\\t\"), [\"\\n\", \"\\n\\t\\t\"]]\n",
    "\n",
    "sentence = \"I am 40 years old.{}I have two children.{}Data Science is my IT domain.\".format(escapes[0],escapes[2][1])\n",
    "\n",
    "print(sentence)\n"
   ]
  },
  {
   "cell_type": "code",
   "execution_count": 2,
   "metadata": {},
   "outputs": [
    {
     "name": "stdout",
     "output_type": "stream",
     "text": [
      "  Key  :  selim \n",
      " Value :  9\n"
     ]
    }
   ],
   "source": [
    "old = {'emma':75, 'ahmet':19, 'selim':9, 'jack':99, 'sema':111, 'serdar':41}\n",
    "\n",
    "def dic_val(dic,maxORmin):                      \n",
    "\n",
    "    dicTolist = list(dic.items())                # convert dict-to-list.   \n",
    "\n",
    "    if maxORmin == \"max\":                        # to find MAX value in dict\n",
    "      \n",
    "        dicMaxVal = max(list(dic.values()))      \n",
    "    \n",
    "        x = 0\n",
    "    \n",
    "        for i in dicTolist:        # which one in list has the max value via for loop.\n",
    "            \n",
    "            if dicMaxVal in i:\n",
    "                \n",
    "                print(\"  Key  : \",i[0],\"\\n Value : \",i[1])\n",
    "                \n",
    "            else:\n",
    "                \n",
    "                x+=1\n",
    "                \n",
    "                continue\n",
    "                \n",
    "    elif maxORmin == \"min\":                     # to find MIN value in dict\n",
    "    \n",
    "        dicMinVal = min(list(dic.values()))     \n",
    "    \n",
    "        x = 0\n",
    "    \n",
    "        for i in dicTolist:\n",
    "            \n",
    "            if dicMinVal in i:\n",
    "                \n",
    "                print(\"  Key  : \",i[0],\"\\n Value : \",i[1])\n",
    "                \n",
    "            else:\n",
    "                \n",
    "                x+=1\n",
    "                \n",
    "                continue                \n",
    "                \n",
    "    else: \n",
    "        \n",
    "        print(\"lütfen 'dic_val(dic,maxORmin)' içerisinde 'dict' yanında 'max' veya 'min' değerlerinden birini girdiğinize emin olunuz.\")\n",
    "\n",
    "dic_val(old,\"min\")                    # calling function with \"old\" and \"min\" attributes\n",
    "            \n"
   ]
  },
  {
   "cell_type": "code",
   "execution_count": 45,
   "metadata": {},
   "outputs": [
    {
     "name": "stdout",
     "output_type": "stream",
     "text": [
      "listedeki varlığı kontrol edilecek sayıyı giriniz: 75\n"
     ]
    },
    {
     "ename": "NameError",
     "evalue": "name 'true' is not defined",
     "output_type": "error",
     "traceback": [
      "\u001b[1;31m---------------------------------------------------------------------------\u001b[0m",
      "\u001b[1;31mNameError\u001b[0m                                 Traceback (most recent call last)",
      "\u001b[1;32m<ipython-input-45-dfb626b4c40e>\u001b[0m in \u001b[0;36m<module>\u001b[1;34m\u001b[0m\n\u001b[0;32m      3\u001b[0m \u001b[0mx\u001b[0m \u001b[1;33m=\u001b[0m \u001b[0mint\u001b[0m\u001b[1;33m(\u001b[0m\u001b[0minput\u001b[0m\u001b[1;33m(\u001b[0m\u001b[1;34m\"listedeki varlığı kontrol edilecek sayıyı giriniz: \"\u001b[0m\u001b[1;33m)\u001b[0m\u001b[1;33m)\u001b[0m\u001b[1;33m\u001b[0m\u001b[1;33m\u001b[0m\u001b[0m\n\u001b[0;32m      4\u001b[0m \u001b[1;33m\u001b[0m\u001b[0m\n\u001b[1;32m----> 5\u001b[1;33m \u001b[1;32mwhile\u001b[0m \u001b[0mtrue\u001b[0m\u001b[1;33m:\u001b[0m\u001b[1;33m\u001b[0m\u001b[1;33m\u001b[0m\u001b[0m\n\u001b[0m\u001b[0;32m      6\u001b[0m     \u001b[1;32mif\u001b[0m \u001b[0mx\u001b[0m \u001b[1;32min\u001b[0m \u001b[0myas\u001b[0m\u001b[1;33m.\u001b[0m\u001b[0mvalues\u001b[0m\u001b[1;33m(\u001b[0m\u001b[1;33m)\u001b[0m\u001b[1;33m:\u001b[0m\u001b[1;33m\u001b[0m\u001b[1;33m\u001b[0m\u001b[0m\n\u001b[0;32m      7\u001b[0m         \u001b[0mprint\u001b[0m\u001b[1;33m(\u001b[0m\u001b[1;32mTrue\u001b[0m\u001b[1;33m)\u001b[0m\u001b[1;33m\u001b[0m\u001b[1;33m\u001b[0m\u001b[0m\n",
      "\u001b[1;31mNameError\u001b[0m: name 'true' is not defined"
     ]
    }
   ],
   "source": [
    "yas = {'emma':75, 'ahmet':19, 'selim':9, 'jack':99, 'sema':111, 'serdar':41}\n",
    "\n",
    "x = int(input(\"listedeki varlığı kontrol edilecek sayıyı giriniz: \"))\n",
    "\n",
    "while true:\n",
    "    if x in yas.values():\n",
    "        print(True)\n",
    "        print(\"devam etmek için enter'a basın\")\n",
    "        continue\n",
    "    else:\n",
    "        print(\"\\n'girdiğiniz sayıya listede rastlanılmadı.'\".title())\n",
    "        print"
   ]
  },
  {
   "cell_type": "code",
   "execution_count": null,
   "metadata": {},
   "outputs": [],
   "source": []
  },
  {
   "cell_type": "code",
   "execution_count": null,
   "metadata": {},
   "outputs": [],
   "source": []
  }
 ],
 "metadata": {
  "kernelspec": {
   "display_name": "Python 3",
   "language": "python",
   "name": "python3"
  },
  "language_info": {
   "codemirror_mode": {
    "name": "ipython",
    "version": 3
   },
   "file_extension": ".py",
   "mimetype": "text/x-python",
   "name": "python",
   "nbconvert_exporter": "python",
   "pygments_lexer": "ipython3",
   "version": "3.7.6"
  }
 },
 "nbformat": 4,
 "nbformat_minor": 4
}
