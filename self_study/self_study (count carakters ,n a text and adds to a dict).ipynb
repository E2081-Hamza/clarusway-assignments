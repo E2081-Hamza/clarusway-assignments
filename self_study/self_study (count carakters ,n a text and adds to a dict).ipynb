{
 "cells": [
  {
   "cell_type": "code",
   "execution_count": null,
   "metadata": {
    "scrolled": true
   },
   "outputs": [],
   "source": [
    "x = input(\"pls enter a word/sentence: \")\n",
    "\n",
    "b = set(x)\n",
    "\n",
    "b.remove(\" \")\n",
    "\n",
    "c = {}\n",
    "\n",
    "for i in b:\n",
    "    \n",
    "    c[i]=(x.count(i))\n",
    "\n",
    "print(c)   "
   ]
  },
  {
   "cell_type": "code",
   "execution_count": null,
   "metadata": {},
   "outputs": [],
   "source": [
    "yazi = str(input('please enter word'))\n",
    "\n",
    "yazi = list(yazi)\n",
    "\n",
    "yazi_1 = {}\n",
    "\n",
    "for i in range(len(yazi)):\n",
    "\n",
    "    yazi_1[yazi[i]] =yazi.count(yazi[i])\n",
    "\n",
    "print(yazi_1)"
   ]
  },
  {
   "cell_type": "code",
   "execution_count": null,
   "metadata": {},
   "outputs": [],
   "source": []
  }
 ],
 "metadata": {
  "kernelspec": {
   "display_name": "Python 3",
   "language": "python",
   "name": "python3"
  },
  "language_info": {
   "codemirror_mode": {
    "name": "ipython",
    "version": 3
   },
   "file_extension": ".py",
   "mimetype": "text/x-python",
   "name": "python",
   "nbconvert_exporter": "python",
   "pygments_lexer": "ipython3",
   "version": "3.7.6"
  }
 },
 "nbformat": 4,
 "nbformat_minor": 4
}
