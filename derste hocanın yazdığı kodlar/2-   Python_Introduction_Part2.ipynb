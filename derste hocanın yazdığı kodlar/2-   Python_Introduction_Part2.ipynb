{
 "cells": [
  {
   "cell_type": "markdown",
   "metadata": {},
   "source": [
    "# Indexing String"
   ]
  },
  {
   "cell_type": "code",
   "execution_count": 1,
   "metadata": {},
   "outputs": [
    {
     "name": "stdout",
     "output_type": "stream",
     "text": [
      "hoenix\n",
      "phoeni\n",
      "ponx\n",
      "hei\n",
      "nix\n",
      "xineohp\n"
     ]
    }
   ],
   "source": [
    "city = \"phoenix\"\n",
    "\n",
    "print(city[1:])\n",
    "print(city[:6])\n",
    "print(city[::2])\n",
    "print(city[1::2])\n",
    "print(city[-3:])\n",
    "print(city[::-1])"
   ]
  },
  {
   "cell_type": "code",
   "execution_count": 2,
   "metadata": {},
   "outputs": [
    {
     "name": "stdout",
     "output_type": "stream",
     "text": [
      "length of the word Tomato is: 6\n"
     ]
    }
   ],
   "source": [
    "vegetable = \"Tomato\"\n",
    "print(\"length of the word\", vegetable, \"is:\", len(vegetable))"
   ]
  },
  {
   "cell_type": "code",
   "execution_count": 2,
   "metadata": {},
   "outputs": [
    {
     "name": "stdout",
     "output_type": "stream",
     "text": [
      "upperupperupper\n",
      "u p p e r \n",
      "\n",
      "A D A N A\n"
     ]
    }
   ],
   "source": [
    "str_one = \"upper\"\n",
    "str_two = 3 * str_one\n",
    "\n",
    "print(str_two)\n",
    "print(* str_one, \"\\n\")  # * separates the string into its elements\n",
    "\n",
    "print(* \"ADANA\")"
   ]
  },
  {
   "cell_type": "markdown",
   "metadata": {},
   "source": [
    "   # String Formatting with % Operator"
   ]
  },
  {
   "cell_type": "code",
   "execution_count": 9,
   "metadata": {},
   "outputs": [
    {
     "name": "stdout",
     "output_type": "stream",
     "text": [
      "There are 3 children in the game room\n",
      "There is only a child here \n",
      "\n",
      "There is only a child here \n",
      "\n",
      "1 one 2 two 6 six\n"
     ]
    }
   ],
   "source": [
    "phrase1 = \"There are 3 %s in the game room\"\n",
    "print(phrase1 % \"children\")\n",
    "\n",
    "phrase2 = \"There is only a %.5s here\"\n",
    "print(phrase2 % \"children\", \"\\n\")\n",
    "\n",
    "print(\"There is only a %.5s here\" % \"children\", \"\\n\")\n",
    "\n",
    "print(\"1 %s 2 %s 6 %s\" % (\"one\", \"two\", \"six\"))"
   ]
  },
  {
   "cell_type": "code",
   "execution_count": 12,
   "metadata": {},
   "outputs": [
    {
     "name": "stdout",
     "output_type": "stream",
     "text": [
      "There are 1 child and 3 cats here \n",
      "\n",
      "There are 1 child and 3 cats here\n"
     ]
    }
   ],
   "source": [
    "phrase1 = \"There are %d child and %d cats here\"\n",
    "phrase2 = (1, 3)\n",
    "print(phrase1 % phrase2, \"\\n\") # or\n",
    "\n",
    "print(phrase1 % (1,3))"
   ]
  },
  {
   "cell_type": "code",
   "execution_count": 16,
   "metadata": {},
   "outputs": [
    {
     "name": "stdout",
     "output_type": "stream",
     "text": [
      "I have 22 $ and I bought milk for my cat.\n"
     ]
    }
   ],
   "source": [
    "my_text = \"I have %d $ and I bought %s for my %s.\" % (22, \"milk\", \"cat\")\n",
    "print(my_text)"
   ]
  },
  {
   "cell_type": "code",
   "execution_count": 19,
   "metadata": {},
   "outputs": [
    {
     "name": "stdout",
     "output_type": "stream",
     "text": [
      "The pi constant is 3.14\n",
      "The pi constant is 3.1416\n",
      "More accurate value of pi is 3.14159\n"
     ]
    }
   ],
   "source": [
    "phrase1 = \"The pi constant is %.2f\"\n",
    "phrase2 = \"The pi constant is %.4f\"\n",
    "number = 3.14159\n",
    "print(phrase1 % number)\n",
    "print(phrase2 % number)\n",
    "print(\"More accurate value of pi is %.5f\" % 3.14159)"
   ]
  },
  {
   "cell_type": "code",
   "execution_count": 21,
   "metadata": {},
   "outputs": [
    {
     "name": "stdout",
     "output_type": "stream",
     "text": [
      "I have 2 cats and it weight 1.50 kg each\n"
     ]
    }
   ],
   "source": [
    "phrase = \"I have %d %s and it weight %.2f kg each\" % (2, \"cats\", 1.5)\n",
    "print(phrase)"
   ]
  },
  {
   "cell_type": "markdown",
   "metadata": {},
   "source": [
    "   # String Formatting with string.format() Method"
   ]
  },
  {
   "cell_type": "code",
   "execution_count": 22,
   "metadata": {},
   "outputs": [],
   "source": [
    "# \"string {} string {} string\".format(data1, data2)"
   ]
  },
  {
   "cell_type": "code",
   "execution_count": 24,
   "metadata": {},
   "outputs": [
    {
     "name": "stdout",
     "output_type": "stream",
     "text": [
      "The amount of fruit we bought is amount pounds\n"
     ]
    }
   ],
   "source": [
    "fruit = \"Orange\"\n",
    "vegetable = \"Tomato\"\n",
    "amount = 4\n",
    "print(\"The amount of {} we bought is {} pounds\".format(fruit, amount))"
   ]
  },
  {
   "cell_type": "code",
   "execution_count": 25,
   "metadata": {},
   "outputs": [
    {
     "name": "stdout",
     "output_type": "stream",
     "text": [
      "California is the most crowded state of the USA\n"
     ]
    }
   ],
   "source": [
    "print(\"{state} is the most {adjective} state of the {country}\".format(state=\"California\", country=\"USA\", adjective=\"crowded\"))"
   ]
  },
  {
   "cell_type": "code",
   "execution_count": 27,
   "metadata": {},
   "outputs": [
    {
     "name": "stdout",
     "output_type": "stream",
     "text": [
      "California is the most crowded state of the USA\n"
     ]
    }
   ],
   "source": [
    "print(\"{0} is the most {adjective} state of the {country}\".format(\"California\", country=\"USA\", adjective=\"crowded\"))"
   ]
  },
  {
   "cell_type": "code",
   "execution_count": 28,
   "metadata": {},
   "outputs": [
    {
     "name": "stdout",
     "output_type": "stream",
     "text": [
      "I will have found a job in 6 months\n"
     ]
    }
   ],
   "source": [
    "print(\"{6} {0} {5} {3} {4} {1} {2}\".format (\"have\", 6, \"months\", \"a job\", \"in\", \"found\", \"I will\"))"
   ]
  },
  {
   "cell_type": "code",
   "execution_count": 41,
   "metadata": {},
   "outputs": [
    {
     "name": "stdout",
     "output_type": "stream",
     "text": [
      "generosity wins in all circumstances\n",
      "generosity wins in all circumstances\n"
     ]
    }
   ],
   "source": [
    "# ▹ To print the statement of \"generosity wins in all circumstances\" \n",
    "\n",
    "condition = \"circumstances\"\n",
    "morality = \"generosity\"\n",
    "\n",
    "phrase = \"{morality} {1} {0} {condition}\".format(\"in all\", \"wins\", condition = \"circumstances\", morality = \"generosity\")\n",
    "print(phrase)  # or\n",
    "\n",
    "phrase = \"{morality} {} {} {condition}\".format(\"wins\", \"in all\", condition = \"circumstances\", morality = \"generosity\")\n",
    "print(phrase)"
   ]
  },
  {
   "cell_type": "markdown",
   "metadata": {},
   "source": [
    "   # String Formatting with f-string"
   ]
  },
  {
   "cell_type": "code",
   "execution_count": 42,
   "metadata": {},
   "outputs": [],
   "source": [
    "# f\"string {variable1} string {variable2} string\""
   ]
  },
  {
   "cell_type": "code",
   "execution_count": 45,
   "metadata": {},
   "outputs": [
    {
     "name": "stdout",
     "output_type": "stream",
     "text": [
      "The amount of Orange and Tomato we bought are totaly 6 pounds\n"
     ]
    }
   ],
   "source": [
    "fruit = \"Orange\"\n",
    "vegetable = \"Tomato\"\n",
    "amount = 6\n",
    "output = f\"The amount of {fruit} and {vegetable} we bought are totaly {amount} pounds\"\n",
    "\n",
    "print(output)"
   ]
  },
  {
   "cell_type": "code",
   "execution_count": 48,
   "metadata": {},
   "outputs": [
    {
     "name": "stdout",
     "output_type": "stream",
     "text": [
      "8\n"
     ]
    }
   ],
   "source": [
    "sample = f\"{2 ** 3}\"\n",
    "print(sample)  # ▸ You can use all valid expressions, variables, and even methods in curly braces."
   ]
  },
  {
   "cell_type": "code",
   "execution_count": 61,
   "metadata": {},
   "outputs": [
    {
     "name": "stdout",
     "output_type": "stream",
     "text": [
      "My name is MARIAM\n",
      "My name is Mariam\n"
     ]
    }
   ],
   "source": [
    "# Task : ▹ Type aPython code to get the output of “ My name is Mariam ”,using .capitalize() and f-string methods \n",
    "# with the namevariable as next -  name = \"MARIAM\"\n",
    "\n",
    "name = \"MARIAM\"\n",
    "print(f\"My name is {name}\")\n",
    "\n",
    "output = f\"My name is {name.capitalize()}\"\n",
    "print(output)"
   ]
  },
  {
   "cell_type": "code",
   "execution_count": 65,
   "metadata": {},
   "outputs": [
    {
     "name": "stdout",
     "output_type": "stream",
     "text": [
      "Hi Joseph. You are one of the teacher in the Data Science section.\n"
     ]
    }
   ],
   "source": [
    "name = \"Joseph\"\n",
    "job = \"teacher\"\n",
    "domain = \"Data Science\"\n",
    "message = (\n",
    "    f\"Hi {name}. \"\n",
    "    f\"You are one of the {job} \"\n",
    "    f\"in the {domain} section.\"\n",
    ")\n",
    "print(message)"
   ]
  },
  {
   "cell_type": "code",
   "execution_count": 70,
   "metadata": {},
   "outputs": [
    {
     "name": "stdout",
     "output_type": "stream",
     "text": [
      "Hi Joseph. You are one of the teacher in the Data Science section.\n"
     ]
    }
   ],
   "source": [
    "name = \"Joseph\"\n",
    "job = \"teacher\"\n",
    "domain = \"Data Science\"\n",
    "message = f\"Hi {name}. \" \\\n",
    "    f\"You are one of the {job} \" \\\n",
    "    f\"in the {domain} section.\"\n",
    "\n",
    "print(message)"
   ]
  },
  {
   "cell_type": "markdown",
   "metadata": {},
   "source": [
    "# Main Sring Operations"
   ]
  },
  {
   "cell_type": "code",
   "execution_count": 79,
   "metadata": {},
   "outputs": [
    {
     "name": "stdout",
     "output_type": "stream",
     "text": [
      "True\n",
      "False\n"
     ]
    }
   ],
   "source": [
    "# Searching a String\n",
    "\n",
    "text = \"www.clarusway.com\"\n",
    "print(text.endswith(\"com\"))\n",
    "print(text.startswith(\"http:\"))"
   ]
  },
  {
   "cell_type": "code",
   "execution_count": 83,
   "metadata": {},
   "outputs": [
    {
     "name": "stdout",
     "output_type": "stream",
     "text": [
      "True\n",
      "True\n"
     ]
    }
   ],
   "source": [
    "# The formula syntaxes are:  startswith(prefix[,start[,end]]) >>  endswith(suffix[,start[,end]])\n",
    "\n",
    "email = \"clarusway@clarusway.com is my e-mail address\"\n",
    "print(email.startswith(\"@\",9))\n",
    "print(email.endswith(\"-\", 10, 32))\n"
   ]
  },
  {
   "cell_type": "code",
   "execution_count": null,
   "metadata": {},
   "outputs": [],
   "source": [
    "#  str.replace(old, new[, count])  >>  str.swapcase()  >>  str.capitalize()  >>  str.upper()  >>  str.lower  >>  str.title()\n"
   ]
  },
  {
   "cell_type": "code",
   "execution_count": 91,
   "metadata": {},
   "outputs": [
    {
     "name": "stdout",
     "output_type": "stream",
     "text": [
      "I LIVE AND WORK IN VIRGINIA\n",
      "i live and work in virginia\n",
      "i LIVE AND WORK IN vIRGINIA\n",
      "I live and work in virginia\n",
      "I Live And Work In Virginia\n",
      "I l*ve and work *n V*rg*n*a\n"
     ]
    }
   ],
   "source": [
    "sentence = \"I live and work in Virginia\"\n",
    "print(sentence.upper())\n",
    "print(sentence.lower())\n",
    "print(sentence.swapcase())\n",
    "print(sentence.capitalize())\n",
    "print(sentence.title())\n",
    "print(sentence.replace(\"i\", \"*\"))"
   ]
  },
  {
   "cell_type": "code",
   "execution_count": null,
   "metadata": {},
   "outputs": [],
   "source": [
    "# string.method1().method2().method3()"
   ]
  },
  {
   "cell_type": "code",
   "execution_count": 99,
   "metadata": {},
   "outputs": [
    {
     "name": "stdout",
     "output_type": "stream",
     "text": [
      "listen first\n",
      "nteroperabilit\n",
      "teroperability\n",
      "teroperability\n",
      "   listen first\n",
      "interoperabili\n"
     ]
    }
   ],
   "source": [
    "# Editing a String\n",
    "\n",
    "space_string = \"   listen first   \"\n",
    "print(space_string.strip())  # removes all spaces from both sides\n",
    "\n",
    "source_string = \"interoperability\"\n",
    "print(source_string.strip(\"yi\"))  # removes trailing \"y\" or \"i\" or \"iy\" or \"yi\" from both sides\n",
    "print(source_string.strip(\"in\"))  # removes trailing \"n\" or \"i\" or \"in\" or \"ni\" from both sides\n",
    "\n",
    "print(source_string.lstrip(\"in\"))  # removes trailing \"n\" or \"i\" or \"in\" or \"ni\" from left side\n",
    "\n",
    "print(space_string.rstrip())  # removes spaces from right side\n",
    "\n",
    "print(source_string.rstrip(\"yt\"))  # removes trailing \"y\" or \"t\" or \"yt\" or \"ty\" from right side\n"
   ]
  },
  {
   "cell_type": "code",
   "execution_count": 110,
   "metadata": {},
   "outputs": [
    {
     "name": "stdout",
     "output_type": "stream",
     "text": [
      "46\n",
      "YOU CAN LEARN ALMOST EVERYTHING IN PRE-CLASS\n",
      "YOU CAN LEARN ALMOST EVERYTHING IN PRE-CLASS\n"
     ]
    }
   ],
   "source": [
    "text = \"tyou can learn almost everything in pre-classz\"  # sonucu böyle olsun: YOU CAN LEARN ALMOST EVERYTHING IN PRE-CLASS \n",
    "\n",
    "print(len(text))\n",
    "print(text[1:45].upper())  # benim yolum :)\n",
    "\n",
    "print(text.lstrip(\"t\").rstrip(\"z\").upper())"
   ]
  },
  {
   "cell_type": "markdown",
   "metadata": {},
   "source": [
    "# Interesting Formating"
   ]
  },
  {
   "cell_type": "code",
   "execution_count": 33,
   "metadata": {},
   "outputs": [
    {
     "name": "stdout",
     "output_type": "stream",
     "text": [
      "formatlama                    Hakan-Hilal pythoncu\n"
     ]
    }
   ],
   "source": [
    "text = \"formatlama {:>30} pythoncu\".format(\"Hakan-Hilal\")\n",
    "print(text)"
   ]
  },
  {
   "cell_type": "code",
   "execution_count": 34,
   "metadata": {},
   "outputs": [
    {
     "name": "stdout",
     "output_type": "stream",
     "text": [
      "formatlama Hakan-Hilal                    pythoncu\n"
     ]
    }
   ],
   "source": [
    "text = \"formatlama {:<30} pythoncu\".format(\"Hakan-Hilal\")\n",
    "print(text)"
   ]
  },
  {
   "cell_type": "code",
   "execution_count": 35,
   "metadata": {},
   "outputs": [
    {
     "name": "stdout",
     "output_type": "stream",
     "text": [
      "         Hakan-Hilal          \n"
     ]
    }
   ],
   "source": [
    "text = \"{:^30}\".format(\"Hakan-Hilal\")\n",
    "print(text)"
   ]
  },
  {
   "cell_type": "code",
   "execution_count": 36,
   "metadata": {},
   "outputs": [
    {
     "name": "stdout",
     "output_type": "stream",
     "text": [
      "3.14 4.56 6.9\n"
     ]
    }
   ],
   "source": [
    "text = \"{:.2f} {:.2f} {:.1f}\".format(3.14, 4.56, 6.90)\n",
    "print(text)"
   ]
  }
 ],
 "metadata": {
  "kernelspec": {
   "display_name": "Python 3",
   "language": "python",
   "name": "python3"
  },
  "language_info": {
   "codemirror_mode": {
    "name": "ipython",
    "version": 3
   },
   "file_extension": ".py",
   "mimetype": "text/x-python",
   "name": "python",
   "nbconvert_exporter": "python",
   "pygments_lexer": "ipython3",
   "version": "3.7.6"
  }
 },
 "nbformat": 4,
 "nbformat_minor": 4
}
