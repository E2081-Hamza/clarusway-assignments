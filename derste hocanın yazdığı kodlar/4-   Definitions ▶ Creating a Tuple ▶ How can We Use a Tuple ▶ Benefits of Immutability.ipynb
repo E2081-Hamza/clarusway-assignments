{
 "cells": [
  {
   "cell_type": "code",
   "execution_count": null,
   "metadata": {},
   "outputs": [],
   "source": [
    "# tuple -> very similar to the list > most important difference: tuple-> immutable\n",
    "# some methods like .append() or  .remove()  do not exist in the operations of this type\n",
    "# (# tuple'lar çoğunlukla değiştirilemez data lar için kullanılır, örneğin IP adres ve port'lar. list lerden daha hızlıdır)"
   ]
  },
  {
   "cell_type": "code",
   "execution_count": 3,
   "metadata": {},
   "outputs": [
    {
     "name": "stdout",
     "output_type": "stream",
     "text": [
      "('s', 'w', 'e', 'e', 't')\n",
      "('s', 'w', 'e', 'e', 't') \n",
      "\n",
      "<class 'tuple'>\n"
     ]
    }
   ],
   "source": [
    "#  () or tuple() \n",
    "\n",
    "tuple_1 = (\"s\", \"w\", \"e\", \"e\", \"t\")\n",
    "word = \"sweet\"\n",
    "tuple_2 = tuple(word)\n",
    "print(tuple_1)\n",
    "print(tuple_2, \"\\n\")\n",
    "\n",
    "empty_tuple = ()\n",
    "print(type(empty_tuple))\n"
   ]
  },
  {
   "cell_type": "code",
   "execution_count": 5,
   "metadata": {},
   "outputs": [
    {
     "name": "stdout",
     "output_type": "stream",
     "text": [
      "masa\n",
      "<class 'str'>\n"
     ]
    }
   ],
   "source": [
    "salon = (\"masa\")\n",
    "print(salon, type(salon), sep=\"\\n\")   # string verir, tuple olması için tek eleman olsa bile sonuna virgül koymalısın"
   ]
  },
  {
   "cell_type": "code",
   "execution_count": 23,
   "metadata": {},
   "outputs": [
    {
     "name": "stdout",
     "output_type": "stream",
     "text": [
      "('masa',)\n",
      "<class 'tuple'>\n",
      "\n",
      "\n",
      "('sandalye', 'koltuk')\n",
      "<class 'tuple'>\n",
      "\n",
      "\n",
      "(1, 3, 5)\n",
      "<class 'tuple'>\n"
     ]
    }
   ],
   "source": [
    "salon = (\"masa\",)\n",
    "print(salon, type(salon), \"\\n\", sep=\"\\n\")\n",
    "\n",
    "salon = \"sandalye\", \"koltuk\"                  # parantezle kapatman şart değil     \n",
    "print(salon, type(salon), \"\\n\", sep=\"\\n\")\n",
    "\n",
    "küme_a = 1, 3, 5\n",
    "print(küme_a, type(küme_a), sep=\"\\n\")"
   ]
  },
  {
   "cell_type": "code",
   "execution_count": 20,
   "metadata": {},
   "outputs": [
    {
     "name": "stdout",
     "output_type": "stream",
     "text": [
      "[1, 5, 3, 7, 4, 8, 0] <class 'list'> \n",
      "\n",
      "(1, 5, 3, 7, 4, 8, 0) <class 'tuple'>\n"
     ]
    }
   ],
   "source": [
    "# list ve tuple -> birbirine çevirmek çok kolaydır, misal mi istersin nefsimle beraber dinle öyleyse\n",
    "\n",
    "my_tuple = (1, 5, 3, 7, 4, 8, 0)\n",
    "my_list = list(my_tuple)\n",
    "print(my_list, type(my_list), \"\\n\")\n",
    "\n",
    "mylistt = [1, 5, 3, 7, 4, 8, 0]\n",
    "mytuple = tuple(mylistt)\n",
    "print(mytuple, type(mytuple))\n",
    "\n"
   ]
  },
  {
   "cell_type": "code",
   "execution_count": 21,
   "metadata": {},
   "outputs": [
    {
     "name": "stdout",
     "output_type": "stream",
     "text": [
      "('A', 'ğ', 'r', 'ı')\n"
     ]
    }
   ],
   "source": [
    "mountain = tuple(\"Ağrı\")\n",
    "print(mountain)"
   ]
  },
  {
   "cell_type": "code",
   "execution_count": 34,
   "metadata": {},
   "outputs": [
    {
     "name": "stdout",
     "output_type": "stream",
     "text": [
      "<class 'tuple'> (1, 2, 3, 4, 5, 6, 7, 8, 9, 10) \n",
      "\n",
      "range(1, 11) <class 'range'>\n"
     ]
    }
   ],
   "source": [
    "# 1 den 10 a kadar sayıları range() methoduyla tuple lerini çıkartalım, aileni ihmal etme!\n",
    "\n",
    "adana_kebap = tuple(range(1,11))\n",
    "print(type(adana_kebap), adana_kebap, \"\\n\")  # yemesi sevap\n",
    "\n",
    "adana_kebap = range(1,11)\n",
    "print(adana_kebap, type(adana_kebap))  # tuple yapmasaydık range aralığını yazdırır, type ise <class range()> olur"
   ]
  },
  {
   "cell_type": "code",
   "execution_count": 42,
   "metadata": {},
   "outputs": [
    {
     "name": "stdout",
     "output_type": "stream",
     "text": [
      "0\n",
      "2\n",
      "4  -->  <class 'int'>\n"
     ]
    }
   ],
   "source": [
    "# tuple'lerde list'ler gibi indexlenebilir\n",
    "\n",
    "ali_nazik = (0, 2, 4)\n",
    "print(ali_nazik[0])\n",
    "print(ali_nazik[1])\n",
    "print(ali_nazik[2], type(ali_nazik[2]), sep=\"  -->  \")"
   ]
  },
  {
   "cell_type": "code",
   "execution_count": 43,
   "metadata": {},
   "outputs": [
    {
     "ename": "SyntaxError",
     "evalue": "invalid syntax (<ipython-input-43-d56d7399f88b>, line 1)",
     "output_type": "error",
     "traceback": [
      "\u001b[1;36m  File \u001b[1;32m\"<ipython-input-43-d56d7399f88b>\"\u001b[1;36m, line \u001b[1;32m1\u001b[0m\n\u001b[1;33m    gezdiğim_şehirler = [\"Antep\", \"Urfa\", \"Diyarbakır\", [Listeyi uzatmayım ayıp olmasın]]\u001b[0m\n\u001b[1;37m                                                                         ^\u001b[0m\n\u001b[1;31mSyntaxError\u001b[0m\u001b[1;31m:\u001b[0m invalid syntax\n"
     ]
    }
   ],
   "source": [
    "gezdiğim_şehirler = [\"Antep\", \"Urfa\", \"Diyarbakır\", [Listeyi uzatmayım ayıp olmasın]]\n",
    "hadi_tuple_yapalm = tuple(gezdiğim_şehirler)\n",
    "hadi_tuple_yapalım[0] = \"Oxford\"  # tuple de değişiklik yapamazsın hacı, ruhsat versinler list() e alalım seni öyle gidersin"
   ]
  },
  {
   "cell_type": "code",
   "execution_count": 56,
   "metadata": {},
   "outputs": [
    {
     "name": "stdout",
     "output_type": "stream",
     "text": [
      "nirvana\n",
      "<class 'str'>\n"
     ]
    }
   ],
   "source": [
    "mix_tuple = (\"11\", 11, [2, \"two\", (\"nirvana\", 6)], (5, \"fair\"))\n",
    "nirvanaya_çık = mix_tuple[2][2][0]\n",
    "\n",
    "print(nirvanaya_çık, type(nirvanaya_çık), sep=\"\\n\")"
   ]
  },
  {
   "cell_type": "code",
   "execution_count": 61,
   "metadata": {},
   "outputs": [
    {
     "name": "stdout",
     "output_type": "stream",
     "text": [
      "['sifir', ('6', 'adana yolları')]\n",
      "<class 'list'>\n"
     ]
    }
   ],
   "source": [
    "mix_tuple = (\"11\", 11, [2, \"sifir\", (\"6\", \"adana yolları\")], (5, \"fair\"))\n",
    "adanalı = mix_tuple[2][1:3]\n",
    "\n",
    "print(adanalı, type(adanalı), sep=\"\\n\")  # cayı dikkat: indeklediği yer list olduğu için type ni list çıkardı"
   ]
  },
  {
   "cell_type": "code",
   "execution_count": 62,
   "metadata": {},
   "outputs": [
    {
     "name": "stdout",
     "output_type": "stream",
     "text": [
      "('sifir', ('6', 'adana yolları'))\n",
      "<class 'tuple'>\n"
     ]
    }
   ],
   "source": [
    "mix_tuple = (\"11\", 11, (2, \"sifir\", (\"6\", \"adana yolları\")), (5, \"fair\"))\n",
    "adanalı = mix_tuple[2][1:3]\n",
    "\n",
    "print(adanalı, type(adanalı), sep=\"\\n\")  # aynı örnek > indeklediği konumun type ni değiştirdim sadece, yukarı bak [] - > ()"
   ]
  },
  {
   "cell_type": "code",
   "execution_count": 67,
   "metadata": {},
   "outputs": [
    {
     "name": "stdout",
     "output_type": "stream",
     "text": [
      "(5, 'fair') <class 'tuple'>\n"
     ]
    }
   ],
   "source": [
    "# evvelki konuda negatif indeksle son item a ulaşıyoruz, atlayın hadi geçelim karşı_yakaya..\n",
    "canım_adanalı = mix_tuple[-1]\n",
    "print(canım_adanalı, type(canım_adanalı))   # cayı dikkat indekslenen yer tuple "
   ]
  }
 ],
 "metadata": {
  "kernelspec": {
   "display_name": "Python 3",
   "language": "python",
   "name": "python3"
  },
  "language_info": {
   "codemirror_mode": {
    "name": "ipython",
    "version": 3
   },
   "file_extension": ".py",
   "mimetype": "text/x-python",
   "name": "python",
   "nbconvert_exporter": "python",
   "pygments_lexer": "ipython3",
   "version": "3.7.6"
  }
 },
 "nbformat": 4,
 "nbformat_minor": 4
}
