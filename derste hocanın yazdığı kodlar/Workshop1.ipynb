{
 "cells": [
  {
   "cell_type": "markdown",
   "metadata": {},
   "source": [
    "### Problem 1\n",
    "\n",
    "Kullanıcıdan aldığınız 3 tane sayıyı çarparak ekrana yazdırın. Ekrana yazdırma işlemini ***format*** metoduyla yapmaya çalışın."
   ]
  },
  {
   "cell_type": "code",
   "execution_count": null,
   "metadata": {
    "tags": []
   },
   "outputs": [],
   "source": [
    "a=int(input(\"a sayısını girin:\"))\n",
    "b=int(input(\"b sayısını girin:\"))\n",
    "c=int(input(\"c sayısını girin:\"))\n",
    "\n",
    "çarpım = a * b * c\n",
    "print(\"a*b*c\", çarpım)\n",
    "print(a,\"*\",b,\"*\",c,\"=\", çarpım)\n",
    "print(\"{}*{}*{} = {}'dir.\".format(a, b, c, çarpım))\n",
    "print(f\"{a}*{b}*{c} = {çarpım}'dir.\") "
   ]
  },
  {
   "cell_type": "markdown",
   "metadata": {},
   "source": [
    "### Problem 2\n",
    "\n",
    "Kullanıcıdan aldığınız **boy** ve **kilo** değerlerine göre kullanıcının beden kitle indeksini bulun.\n",
    "\n",
    "*Beden Kitle İndeksi :  Kilo / Boy(m) * Boy(m)"
   ]
  },
  {
   "cell_type": "code",
   "execution_count": null,
   "metadata": {
    "tags": []
   },
   "outputs": [],
   "source": [
    "boy=float(input(\"boyunuzu giriniz:\"))\n",
    "kilo=float(input(\"kilonuzu giriniz:\"))\n",
    "print(\"Beden Kitle İndeksi:\",kilo/(boy ** 2))"
   ]
  },
  {
   "cell_type": "markdown",
   "metadata": {},
   "source": [
    "### Problem 3\n",
    "\n",
    "Elinizde 200 dolarla değeri 11 dolar olan malzemeden max kaç adet alabilirsiniz? Geriye ne kadar paranız kalır?"
   ]
  },
  {
   "cell_type": "code",
   "execution_count": null,
   "metadata": {
    "tags": []
   },
   "outputs": [],
   "source": [
    "top_para = 200\n",
    "malz_tut = 11\n",
    "max_ = top_para // malz_tut\n",
    "kalan_para = top_para % malz_tut\n",
    "print(\"{} dolar ile {} adet malzeme alabilirsin. Geriye {} dolar para kalır\".format(top_para, max_, kalan_para))\n"
   ]
  },
  {
   "cell_type": "markdown",
   "metadata": {},
   "source": [
    "### Problem 4\n",
    "\n",
    "Kullanıcıdan iki tane sayı isteyin ve bu sayıların değerlerini birbirleriyle değiştirin.."
   ]
  },
  {
   "cell_type": "code",
   "execution_count": null,
   "metadata": {
    "tags": []
   },
   "outputs": [],
   "source": [
    "a = 2\n",
    "b = 5\n",
    "\n",
    "print(\"Değiştirilmeden Önceki Değerler\\na= {} b= {}\".format(a, b))\n",
    "\n",
    "a, b = b, a\n",
    "\n",
    "print(\"Değiştirilmeden Sonraki Değerler\\na= {} b= {}\".format(a, b))"
   ]
  },
  {
   "cell_type": "markdown",
   "metadata": {},
   "source": [
    "### Problem 5\n",
    "\n",
    "Kullanıcıdan ad,soyad ve numara bilgisini alarak bunları alt alta ekrana yazdırın."
   ]
  },
  {
   "cell_type": "code",
   "execution_count": null,
   "metadata": {
    "tags": []
   },
   "outputs": [],
   "source": [
    "Ad=input(\"Adınız: \")\n",
    "Soyad=input(\"Soyadınız: \")\n",
    "Telefon=input(\"Telofonunuz: \")\n",
    "\n",
    "print(\"Adı\\t:{}\\nSoyadı\\t:{}\\nTelefon\\t:\\t{}\".format(Ad,Soyad,Telefon))"
   ]
  },
  {
   "cell_type": "markdown",
   "metadata": {},
   "source": [
    "### Problem 6\n",
    "\n",
    "Kullanıcıdan word, seperator ve repetition değerleri alıp, verilen değerlere göre kelimeyi ekrana yazdırın. Örn: word = ali sep = / repetition = 3 ----> ali/ali/ali"
   ]
  },
  {
   "cell_type": "code",
   "execution_count": null,
   "metadata": {
    "tags": []
   },
   "outputs": [],
   "source": [
    "word = input(\"Word: \")\n",
    "seperator = input(\"Seperator: \")\n",
    "repetitions = int(input(\"repetitions: \"))\n",
    "a = (word + seperator) * (repetitions-1) + word # ali/ * 2 + ali = ali/ali/ali\n",
    "print(a)\n"
   ]
  },
  {
   "cell_type": "markdown",
   "metadata": {},
   "source": [
    "### Problem 7\n",
    "\n",
    "Kullanıcıdan kelime ve sayı girdisi alın ve örnekteki çıktıyı elde edin.\n",
    "\n",
    "Örn:\n",
    "word = Clarusway\n",
    "n = 3\n",
    "OUTPUT = waywayway "
   ]
  },
  {
   "cell_type": "code",
   "execution_count": null,
   "metadata": {
    "tags": []
   },
   "outputs": [],
   "source": [
    "word=input(\"Word:\") \n",
    "n=int(input(\"Repetitions of the 'last' n character:\"))\n",
    "\n",
    "b=word[len(word)-n:] # word[6:]\n",
    "print(b*n) # way*3\n",
    " \n",
    "#b=word[-n:-10:-1]  \n",
    "#print(b)\n",
    "\n",
    "#print(b*n) "
   ]
  },
  {
   "cell_type": "markdown",
   "metadata": {},
   "source": [
    "### Problem 8\n",
    "Kullanıcıdan bir sayı alın, eğer sayı 3 e bölünüyorsa Clarus, 5 e bölünüyorsa way, her ikisine bölünüyorsa Clarusway, bölünmüyorsa sayının kendisini yazdırın"
   ]
  },
  {
   "cell_type": "code",
   "execution_count": 55,
   "metadata": {
    "tags": []
   },
   "outputs": [
    {
     "output_type": "stream",
     "name": "stdout",
     "text": "Clarusway\n"
    }
   ],
   "source": [
    "num = int(input(\"Birsayı girin: \")) # \n",
    "   \n",
    "#print(num % 3 == 0) # False = 0 True = 1 \n",
    "#print(num % 5 == 0)\n",
    "#print(num % 3 == 0 or num)\n",
    "\n",
    "print(((num % 3 == 0 and num % 5 == 0) and \"Clarusway\") or (num % 3 == 0 and \"Clarus\") or (num % 5 == 0 and \"way\") or num)                                     \n",
    "\n",
    "print((num % 15 == 0 and \"Clarusway\") or (num % 3 == 0 and \"Clarus\") or (num % 5 == 0 and \"way\") or num)\n",
    "\n",
    "\n",
    "# T a T a T--------en sondaki True\n",
    "#   diğer durmalrda --ilk False\n",
    "\n",
    "# F o F o F--------en sondaki False\n",
    "#  diğer durumlarda-- ilk True"
   ]
  },
  {
   "cell_type": "markdown",
   "metadata": {},
   "source": [
    "### Problem 9\n",
    "letters = \"abclarusxyz\" \n",
    "- yığındaki clarus kelimesini elde edin\n",
    "- cba yı elde edin\n",
    "- son sekiz karakteri ters sırayla yazdırın"
   ]
  },
  {
   "cell_type": "code",
   "execution_count": 56,
   "metadata": {
    "tags": []
   },
   "outputs": [
    {
     "output_type": "stream",
     "name": "stdout",
     "text": "clarus\n"
    }
   ],
   "source": [
    "letters = \"abclarusxyz\" \n",
    "print(letters[2:8])"
   ]
  },
  {
   "cell_type": "code",
   "execution_count": 57,
   "metadata": {
    "tags": []
   },
   "outputs": [
    {
     "output_type": "stream",
     "name": "stdout",
     "text": "cba\n"
    }
   ],
   "source": [
    "letters = \"abclarusxyz\" \n",
    "print(letters[2::-1]) "
   ]
  },
  {
   "cell_type": "code",
   "execution_count": 61,
   "metadata": {
    "tags": []
   },
   "outputs": [
    {
     "output_type": "stream",
     "name": "stdout",
     "text": "zyxsural\n"
    }
   ],
   "source": [
    "letters = \"abclarusxyz\"\n",
    "a = int(len(letters))\n",
    "print(letters[:-9:-1])"
   ]
  },
  {
   "cell_type": "code",
   "execution_count": null,
   "metadata": {
    "tags": []
   },
   "outputs": [],
   "source": [
    "# letters = \"abclarusxyz\"\n",
    "# letters = \"abclarusxyz\"\n",
    "# kelime = \"FCLAR\"\n",
    "\n",
    "\n",
    "#letters = \"abcasdsafsvxyzdssdgSGDF<scxsdasfddfksdbc sçdjfjbsÖmffc.aFNcmn hbsşlkdmAclarusSDFÖMXÇJN sçNMBFNL.KNFÇKJSDHİŞSDMFÖM <KXKVJDMCÖMÖM Çdflsfsdnfsödvnçnf.sMÖMD.sömdtubamns.dfsçfmsçdfmçsmfsöbhWH VNNCJHnöm  .NDSfMSDÖMDFBÇsbv.özn.ömsvsl.smdf.clarusöMMSNDF.nSmçösmndvçkjsn. lmöc çömmds vkjjSND.LFKMsö.JSİJs.fm.SÇNFcömn ö.AKSFşljf.lN.FCLARUSÖMS  S.dnSFM.södv .nsçmdasf.sfçamsd.ömabfiLVŞJkÖÇS CÇÖnskcSMCSöçncçönsd.ldöc.wÖSÇKNSKJBCCSM CÖZMNKJNSDLFN<ÖMZNCKJSDNC\" \n",
    "\n",
    "# kelime = \"clarus\" \n",
    "# x = letters.index(\"clarus\") \n",
    "# a = len(\"clarus\")\n",
    "# b = x + a\n",
    "# istenen = letters[x:b]\n",
    "# print(a,b,x,istenen)\n",
    "# yeni_yazı = letters.replace(\"clarus\", \".....................\")\n",
    "# print(yeni_yazı, '\\n\\n\\t', letters.count(\"clarus\"))"
   ]
  },
  {
   "cell_type": "markdown",
   "metadata": {},
   "source": [
    "### Problem 10\n",
    "rand_list listesinin elemanlarından\n",
    "Clarusway is the best yazdırın"
   ]
  },
  {
   "cell_type": "code",
   "execution_count": null,
   "metadata": {
    "tags": []
   },
   "outputs": [],
   "source": [
    "rand_list = [1,[1, 2, \"Clarus\", [2, \"way\"]], \" is the best\"]\n",
    "print(rand_list[1][2] + rand_list[1][3][1] + rand_list[2])"
   ]
  },
  {
   "cell_type": "markdown",
   "metadata": {},
   "source": [
    "### Problem 11  \n",
    "Aşağıda verilen listeyi küçükten büyüğe sıralayın. 1 den 10 a kadar eksik olan sayıyı bulun?"
   ]
  },
  {
   "cell_type": "code",
   "execution_count": 62,
   "metadata": {
    "tags": []
   },
   "outputs": [
    {
     "output_type": "stream",
     "name": "stdout",
     "text": "[1, 2, 3, 4, 5, 6, 8, 9, 10]\n{7}\n"
    }
   ],
   "source": [
    "num_list = [2, 3, 1, 5, 6, 4, 9, 8, 10]\n",
    "a = sorted(num_list)\n",
    "print(a)\n",
    "list1 = set(range(1, 11))\n",
    "list2 = set(num_list)\n",
    "mis_num = list1.difference(list2)\n",
    "print(mis_num)"
   ]
  },
  {
   "cell_type": "markdown",
   "metadata": {},
   "source": [
    "### Problem 12\n",
    "en yaşlı kişinin ismini yazdırın?"
   ]
  },
  {
   "cell_type": "code",
   "execution_count": 9,
   "metadata": {
    "tags": []
   },
   "outputs": [
    {
     "output_type": "stream",
     "name": "stdout",
     "text": "Emma\n"
    }
   ],
   "source": [
    "old ={\n",
    "  \"Emma\": 71,\n",
    "  \"Jack\": 45,\n",
    "  \"Amy\": 15,\n",
    "  \"Ben\": 29\n",
    "}\n",
    "\n",
    "print(max(old, key=old.get))"
   ]
  },
  {
   "cell_type": "code",
   "execution_count": null,
   "metadata": {},
   "outputs": [],
   "source": []
  }
 ],
 "metadata": {
  "language_info": {
   "codemirror_mode": {
    "name": "ipython",
    "version": 3
   },
   "file_extension": ".py",
   "mimetype": "text/x-python",
   "name": "python",
   "nbconvert_exporter": "python",
   "pygments_lexer": "ipython3",
   "version": "3.7.6-final"
  },
  "orig_nbformat": 2,
  "kernelspec": {
   "name": "python3",
   "display_name": "Python 3"
  }
 },
 "nbformat": 4,
 "nbformat_minor": 2
}