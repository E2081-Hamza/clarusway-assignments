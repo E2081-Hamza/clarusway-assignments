{
 "cells": [
  {
   "cell_type": "markdown",
   "metadata": {},
   "source": [
    "   ********************* INTRODUCTION & GENERAL INFORMATION ******************"
   ]
  },
  {
   "cell_type": "code",
   "execution_count": 2,
   "metadata": {
    "scrolled": true
   },
   "outputs": [
    {
     "name": "stdout",
     "output_type": "stream",
     "text": [
      "print(value, ..., sep=' ', end='\\n', file=sys.stdout, flush=False)\n",
      "\n",
      "Prints the values to a stream, or to sys.stdout by default.\n",
      "Optional keyword arguments:\n",
      "file:  a file-like object (stream); defaults to the current sys.stdout.\n",
      "sep:   string inserted between values, default a space.\n",
      "end:   string appended after the last value, default a newline.\n",
      "flush: whether to forcibly flush the stream.\n"
     ]
    }
   ],
   "source": [
    "# Docstrings ▸ Displaying the docstring of a function : \n",
    "# print (function_name.__doc__)\n",
    "\n",
    "print(print.__doc__)"
   ]
  },
  {
   "cell_type": "code",
   "execution_count": 3,
   "metadata": {},
   "outputs": [
    {
     "name": "stdout",
     "output_type": "stream",
     "text": [
      "map(func, *iterables) --> map object\n",
      "\n",
      "Make an iterator that computes the function using arguments from\n",
      "each of the iterables.  Stops when the shortest iterable is exhausted.\n"
     ]
    }
   ],
   "source": [
    "print(map.__doc__)"
   ]
  },
  {
   "cell_type": "code",
   "execution_count": null,
   "metadata": {},
   "outputs": [],
   "source": []
  },
  {
   "cell_type": "code",
   "execution_count": 4,
   "metadata": {},
   "outputs": [
    {
     "name": "stdout",
     "output_type": "stream",
     "text": [
      "blue 100 winter\n",
      "blue, 100, winter\n"
     ]
    }
   ],
   "source": [
    "color = \"blue\"\n",
    "price = 100\n",
    "season = \"winter\"\n",
    "print(color, price, season)\n",
    "print(color, price, season, sep=\", \")"
   ]
  },
  {
   "cell_type": "code",
   "execution_count": null,
   "metadata": {},
   "outputs": [],
   "source": []
  },
  {
   "cell_type": "code",
   "execution_count": 5,
   "metadata": {},
   "outputs": [
    {
     "name": "stdout",
     "output_type": "stream",
     "text": [
      "1923\n",
      "%(#&*?-\n",
      "<class 'str'> <class 'str'>\n"
     ]
    }
   ],
   "source": [
    "str_number = \"1923\"\n",
    "str_sign = \"%(#&*?-\"\n",
    "\n",
    "print(str_number)\n",
    "print(str_sign)\n",
    "\n",
    "print(type(str_number), type(str_sign))"
   ]
  },
  {
   "cell_type": "code",
   "execution_count": null,
   "metadata": {},
   "outputs": [],
   "source": []
  },
  {
   "cell_type": "code",
   "execution_count": 6,
   "metadata": {},
   "outputs": [
    {
     "name": "stdout",
     "output_type": "stream",
     "text": [
      "3.14\n",
      "<class 'str'>\n"
     ]
    }
   ],
   "source": [
    "# str() converts to string type, int() converts to signed integer type, float() converts to floating point type\n",
    "\n",
    "pi = 3.14\n",
    "converted_pi = str(pi)\n",
    "\n",
    "print(converted_pi)\n",
    "print(type(converted_pi))"
   ]
  },
  {
   "cell_type": "code",
   "execution_count": 7,
   "metadata": {},
   "outputs": [
    {
     "name": "stdout",
     "output_type": "stream",
     "text": [
      "3.0\n",
      "<class 'float'>\n"
     ]
    }
   ],
   "source": [
    "no = 3\n",
    "converted_no = float(no)\n",
    "\n",
    "print(converted_no)\n",
    "print(type(converted_no))"
   ]
  },
  {
   "cell_type": "code",
   "execution_count": 8,
   "metadata": {},
   "outputs": [
    {
     "name": "stdout",
     "output_type": "stream",
     "text": [
      "28\n",
      "36.5\n",
      "I am at_39\n"
     ]
    }
   ],
   "source": [
    "x = 39\n",
    "v = \"11\"\n",
    "y = \"2.5\"\n",
    "z = \"I am at_\"\n",
    "\n",
    "print(x-int(v))\n",
    "print(x-float(y))\n",
    "print(z+str(x))"
   ]
  },
  {
   "cell_type": "markdown",
   "metadata": {},
   "source": [
    "   ****** ▶ Arithmetic Operations ▶ Operationswith print() Function ▶ Escape Sequences  *************"
   ]
  },
  {
   "cell_type": "code",
   "execution_count": 36,
   "metadata": {},
   "outputs": [
    {
     "name": "stdout",
     "output_type": "stream",
     "text": [
      "51\n",
      "51\n",
      "51\n"
     ]
    }
   ],
   "source": [
    "print(int(\"5\" + \"1\"))\n",
    "print(str(\"5\" + \"1\"))\n",
    "print(\"5\" + \"1\")"
   ]
  },
  {
   "cell_type": "code",
   "execution_count": 9,
   "metadata": {},
   "outputs": [
    {
     "name": "stdout",
     "output_type": "stream",
     "text": [
      "4\n",
      "15.0\n",
      "11 - 7\n"
     ]
    },
    {
     "ename": "TypeError",
     "evalue": "can only concatenate str (not \"int\") to str",
     "output_type": "error",
     "traceback": [
      "\u001b[1;31m---------------------------------------------------------------------------\u001b[0m",
      "\u001b[1;31mTypeError\u001b[0m                                 Traceback (most recent call last)",
      "\u001b[1;32m<ipython-input-9-af270124f9e1>\u001b[0m in \u001b[0;36m<module>\u001b[1;34m\u001b[0m\n\u001b[0;32m      2\u001b[0m \u001b[0mprint\u001b[0m\u001b[1;33m(\u001b[0m\u001b[1;36m4\u001b[0m \u001b[1;33m+\u001b[0m \u001b[1;36m11.0\u001b[0m\u001b[1;33m)\u001b[0m\u001b[1;33m\u001b[0m\u001b[1;33m\u001b[0m\u001b[0m\n\u001b[0;32m      3\u001b[0m \u001b[0mprint\u001b[0m\u001b[1;33m(\u001b[0m\u001b[1;34m\"11 - 7\"\u001b[0m\u001b[1;33m)\u001b[0m\u001b[1;33m\u001b[0m\u001b[1;33m\u001b[0m\u001b[0m\n\u001b[1;32m----> 4\u001b[1;33m \u001b[0mprint\u001b[0m\u001b[1;33m(\u001b[0m\u001b[1;34m\"4\"\u001b[0m \u001b[1;33m+\u001b[0m \u001b[1;36m4\u001b[0m\u001b[1;33m)\u001b[0m\u001b[1;33m\u001b[0m\u001b[1;33m\u001b[0m\u001b[0m\n\u001b[0m",
      "\u001b[1;31mTypeError\u001b[0m: can only concatenate str (not \"int\") to str"
     ]
    }
   ],
   "source": [
    "print(11 - 7)\n",
    "print(4 + 11.0)\n",
    "print(\"11 - 7\")\n",
    "print(\"4\" + 4)"
   ]
  },
  {
   "cell_type": "code",
   "execution_count": 10,
   "metadata": {},
   "outputs": [
    {
     "name": "stdout",
     "output_type": "stream",
     "text": [
      "26\n"
     ]
    }
   ],
   "source": [
    "num1, num2 = 81, 55\n",
    "num3 = num1 - num2\n",
    "print(num3)"
   ]
  },
  {
   "cell_type": "code",
   "execution_count": 11,
   "metadata": {},
   "outputs": [
    {
     "name": "stdout",
     "output_type": "stream",
     "text": [
      "78.5\n"
     ]
    }
   ],
   "source": [
    "# Let's calculate the area of a circle:\n",
    "\n",
    "pi = 3.14\n",
    "r = 5\n",
    "area = pi * r ** 2\n",
    "\n",
    "print(area)"
   ]
  },
  {
   "cell_type": "code",
   "execution_count": 4,
   "metadata": {},
   "outputs": [
    {
     "name": "stdout",
     "output_type": "stream",
     "text": [
      "1\n",
      "2\n",
      "9\n",
      "10.0\n",
      "8\n",
      "9\n",
      "4.0\n"
     ]
    }
   ],
   "source": [
    "# What is the output?\n",
    "\n",
    "print(11 % 2)   # remainder of this division is 1, it means 11 is an odd number  \n",
    "\n",
    "print(27 % 5)\n",
    "\n",
    "print(19 // 2)\n",
    "\n",
    "print(4 * 5 / 2)\n",
    "\n",
    "print(2 ** 3)  # 2 to the power of 3\n",
    "print(3 ** 2)  # square of 3\n",
    "\n",
    "a = 2\n",
    "b = 8\n",
    "print((a * b) ** 0.5)  # square root"
   ]
  },
  {
   "cell_type": "code",
   "execution_count": 15,
   "metadata": {},
   "outputs": [
    {
     "name": "stdout",
     "output_type": "stream",
     "text": [
      "4.0\n"
     ]
    }
   ],
   "source": [
    "# x += 3  >>>  x = x + 3      x *= 3   >>>  x = x * 3    x **= 3 >>>>> x = x ** 3   first 'operator' after '='  herzaman\n",
    "\n",
    "# priorities :    ()   >>  **  >>  unary -  >>  *, /    >>   +, -\n",
    "\n",
    "a = (1 + 3 ) ** (2 ** (1 *2 / 2) / 2)\n",
    "print(a)"
   ]
  },
  {
   "cell_type": "code",
   "execution_count": 24,
   "metadata": {},
   "outputs": [
    {
     "name": "stdout",
     "output_type": "stream",
     "text": [
      "I bought 6 kg. of apple this morning\n",
      "I bought&&&&6&&&&kg. of apple this morning\n",
      "I bought 6 kg. of apple this morning\n",
      "I bought 6 kg. of apple this morning\n",
      "and came to home\n",
      "I bought 6 kg. of apple this morning and came to home \n",
      "\n",
      "I bought 6 kg. of apple this morning \n",
      "\n",
      "and came to home\n"
     ]
    }
   ],
   "source": [
    "#  print(value,.., sep=\" \", end=\"\\n\")  sep & end aksi belirtilmedikçe default değerleri atar, ister yaz ister yazma\n",
    "\n",
    "text1 = \"I bought\"\n",
    "text2 = \"kg. of apple this morning\"\n",
    "amount = 6\n",
    "text3 = text1 + \" \" + str(amount) + \" \" + text2\n",
    "\n",
    "print(text1, amount, text2)\n",
    "print(text1, amount, text2, sep=\"&&&&\")\n",
    "\n",
    "\n",
    "print(text3)\n",
    "\n",
    "print(text3, end=\"\\n\")\n",
    "print(\"and came to home\")\n",
    "\n",
    "print(text3, end=\" \")\n",
    "print(\"and came to home\", \"\\n\")\n",
    "                                  # using string expression \"\\n\", we produce extra line, so that we had empty line.\n",
    "print(text3, \"\\n\")                # görünmeyen default değeri üstüne \"\\n\" extra line üretiyor\n",
    "print(\"and came to home\")\n",
    "\n"
   ]
  },
  {
   "cell_type": "code",
   "execution_count": 34,
   "metadata": {},
   "outputs": [
    {
     "name": "stdout",
     "output_type": "stream",
     "text": [
      "C:\\north pole\n",
      "osie_penguins.txt\n",
      "--------\n",
      "first\tsecond\tthird\t\n",
      "\n",
      "We are \boosting our \brotherhood \n",
      "\n",
      "it'is essential to learn Python's libraries in IT World\n"
     ]
    }
   ],
   "source": [
    "#   \"\\n\"  : means new line,  \"\\t\" : means tab mark,    \"\\b\" : means backspace. It moves the cursor one charactr to the left\n",
    "\n",
    "#    \"\\\"  önündeki \"özel karakter\" i görmezden gelir. \n",
    "\n",
    "print(\"C:\\\\north pole\\nosie_penguins.txt\")\n",
    "print(\"--------\")\n",
    "print(\"first\", \"second\", \"third\", \"\\n\", sep=\"\\t\")\n",
    "\n",
    "print(\"We are\", \"\\boosting\", \"our\", \"\\brotherhood\", \"\\n\")\n",
    "\n",
    "print('it\\'is essential to learn Python\\'s libraries in IT World')"
   ]
  },
  {
   "cell_type": "code",
   "execution_count": 35,
   "metadata": {},
   "outputs": [
    {
     "name": "stdout",
     "output_type": "stream",
     "text": [
      "Clarusway, Clarusway, Clarusway, \n",
      "\tClarusway, Clarusway, Clarusway, \n",
      "\t\tClarusway, Clarusway, Clarusway\n"
     ]
    }
   ],
   "source": [
    "text = \"Clarusway, Clarusway, Clarusway, \\n\\tClarusway, Clarusway, Clarusway, \\n\\t\\tClarusway, Clarusway, Clarusway\"\n",
    "\n",
    "print(text)"
   ]
  },
  {
   "cell_type": "markdown",
   "metadata": {},
   "source": [
    "*********** Boolean Operations ************"
   ]
  },
  {
   "cell_type": "code",
   "execution_count": 8,
   "metadata": {},
   "outputs": [
    {
     "name": "stdout",
     "output_type": "stream",
     "text": [
      "0\n",
      "True \n",
      "\n"
     ]
    },
    {
     "data": {
      "text/plain": [
       "False"
      ]
     },
     "execution_count": 8,
     "metadata": {},
     "output_type": "execute_result"
    }
   ],
   "source": [
    "# order of prioritiy       not > and > or\n",
    "\n",
    "print(1 and 0)\n",
    "print(not 0,\"\\n\")\n",
    "\n",
    "bool(0)"
   ]
  },
  {
   "cell_type": "code",
   "execution_count": 9,
   "metadata": {},
   "outputs": [
    {
     "name": "stdout",
     "output_type": "stream",
     "text": [
      "3\n",
      "0\n",
      "hello world\n",
      "[]\n",
      "None \n",
      "\n",
      "2\n",
      "1 \n",
      "\n",
      "2\n",
      "be happy\n",
      "() \n",
      "\n",
      "0\n",
      "{0}\n"
     ]
    },
    {
     "data": {
      "text/plain": [
       "True"
      ]
     },
     "execution_count": 9,
     "metadata": {},
     "output_type": "execute_result"
    }
   ],
   "source": [
    "# Next values are considered falsy; None > 0, 0.0, 0j > '', [], {} >  Any remaining value: True\n",
    "\n",
    "print(2 and 3)\n",
    "print(1 and 0)\n",
    "print(2 and \"hello world\")\n",
    "print([] and \"be happy\")\n",
    "print(None and (), \"\\n\")\n",
    "print(2 or 3)\n",
    "print(None or 1, \"\\n\")\n",
    "print(2 or \"hello world\")\n",
    "print([] or \"be happy\")\n",
    "print(None or (), \"\\n\")\n",
    "print({} or 0)\n",
    "print({0} or False)\n",
    "bool(-1)"
   ]
  },
  {
   "cell_type": "code",
   "execution_count": null,
   "metadata": {},
   "outputs": [],
   "source": []
  }
 ],
 "metadata": {
  "kernelspec": {
   "display_name": "Python 3",
   "language": "python",
   "name": "python3"
  },
  "language_info": {
   "codemirror_mode": {
    "name": "ipython",
    "version": 3
   },
   "file_extension": ".py",
   "mimetype": "text/x-python",
   "name": "python",
   "nbconvert_exporter": "python",
   "pygments_lexer": "ipython3",
   "version": "3.7.6"
  }
 },
 "nbformat": 4,
 "nbformat_minor": 4
}
