{
 "cells": [
  {
   "cell_type": "markdown",
   "metadata": {},
   "source": [
    "# Creating a List"
   ]
  },
  {
   "cell_type": "code",
   "execution_count": 1,
   "metadata": {},
   "outputs": [
    {
     "name": "stdout",
     "output_type": "stream",
     "text": [
      "['h', 'a', 'p', 'p', 'y']\n",
      "['h', 'a', 'p', 'p', 'y']\n"
     ]
    }
   ],
   "source": [
    "# [] & list()   >>> to create list\n",
    "\n",
    "list_1 = [\"h\", \"a\", \"p\", \"p\", \"y\"]\n",
    "\n",
    "word = \"happy\"\n",
    "list_2 = list(word)\n",
    "\n",
    "print(list_1)\n",
    "print(list_2)"
   ]
  },
  {
   "cell_type": "code",
   "execution_count": 4,
   "metadata": {},
   "outputs": [
    {
     "name": "stdout",
     "output_type": "stream",
     "text": [
      "['Hakan', 'Hilal', 'Zülal', 'Umut']\n"
     ]
    }
   ],
   "source": [
    "ailem = [\"Hakan\", \"Hilal\", \"Zülal\", \"Umut\"] \n",
    "print(ailem)"
   ]
  },
  {
   "cell_type": "code",
   "execution_count": 16,
   "metadata": {},
   "outputs": [
    {
     "name": "stdout",
     "output_type": "stream",
     "text": [
      "zulal\n",
      "['z', 'u', 'l', 'a', 'l']\n",
      "['zulal']\n"
     ]
    }
   ],
   "source": [
    "kızım = \"zulal\"\n",
    "print(kızım)\n",
    "\n",
    "kızım = list(\"zulal\")\n",
    "print(kızım)\n",
    "\n",
    "kızım = [\"zulal\"]\n",
    "print(kızım)"
   ]
  },
  {
   "cell_type": "code",
   "execution_count": 28,
   "metadata": {},
   "outputs": [
    {
     "name": "stdout",
     "output_type": "stream",
     "text": [
      "['I', ' ', 'q', 'u', 'i', 't', ' ', 's', 'm', 'o', 'k', 'i', 'n', 'g']\n",
      "['I quit smoking']\n",
      "['I quit smoking']\n",
      "[['I quit smoking']]\n"
     ]
    }
   ],
   "source": [
    "muzaffer = \"I quit smoking\"\n",
    "\n",
    "murtaza = list(muzaffer)  # this is a multi element list\n",
    "print(murtaza)\n",
    "\n",
    "muharrem = [muzaffer]  # this is a single element list\n",
    "print(muharrem)\n",
    "\n",
    "muhyeddin = list(muharrem)\n",
    "print(muhyeddin)\n",
    "\n",
    "muammer = [muharrem]\n",
    "print(muammer)"
   ]
  },
  {
   "cell_type": "code",
   "execution_count": 22,
   "metadata": {},
   "outputs": [
    {
     "name": "stdout",
     "output_type": "stream",
     "text": [
      "[11, 'Hakan', False, 3.14, None, [1, 2, 3]]\n"
     ]
    }
   ],
   "source": [
    "mixed_list = [11, \"Hakan\", False, 3.14, None, [1, 2, 3]]\n",
    "print(mixed_list)"
   ]
  },
  {
   "cell_type": "code",
   "execution_count": 23,
   "metadata": {},
   "outputs": [
    {
     "name": "stdout",
     "output_type": "stream",
     "text": [
      "['josep', 'Clarusway', 2020]\n"
     ]
    }
   ],
   "source": [
    "my_list = [\"josep\", \"Clarusway\", 2020]\n",
    "new_list1 = list(my_list)\n",
    "print(new_list1)"
   ]
  },
  {
   "cell_type": "code",
   "execution_count": 37,
   "metadata": {},
   "outputs": [
    {
     "name": "stdout",
     "output_type": "stream",
     "text": [
      "['Joseph', 'John', 'David']\n",
      "3\n",
      "[['Joseph', 'John', 'David']]\n",
      "1\n"
     ]
    }
   ],
   "source": [
    "aslanlar = [\"Joseph\", \"John\", \"David\"]\n",
    "print(list(aslanlar))\n",
    "print(len(list(aslanlar)))\n",
    "\n",
    "print([aslanlar])\n",
    "print(len([aslanlar]))"
   ]
  },
  {
   "cell_type": "code",
   "execution_count": 40,
   "metadata": {},
   "outputs": [
    {
     "name": "stdout",
     "output_type": "stream",
     "text": [
      "[\"2020's easy\"]\n",
      "['2', '0', '2', '0', \"'\", 's', ' ', 'e', 'a', 's', 'y']\n"
     ]
    }
   ],
   "source": [
    "a = [\"2020's easy\"]\n",
    "b = list(\"2020's easy\")\n",
    "print(a)\n",
    "print(b)\n"
   ]
  },
  {
   "cell_type": "markdown",
   "metadata": {},
   "source": [
    "# Basic Operations with Lists"
   ]
  },
  {
   "cell_type": "code",
   "execution_count": 43,
   "metadata": {},
   "outputs": [
    {
     "name": "stdout",
     "output_type": "stream",
     "text": [
      "[1, 4, 7, 9, '9']\n"
     ]
    }
   ],
   "source": [
    "# We can add an element into a list using .append() or .insert() methods\n",
    "\n",
    "numbers = [1, 4, 7]\n",
    "numbers.append(9)\n",
    "numbers.append(\"9\")\n",
    "print(numbers)\n"
   ]
  },
  {
   "cell_type": "code",
   "execution_count": 49,
   "metadata": {},
   "outputs": [
    {
     "name": "stdout",
     "output_type": "stream",
     "text": [
      "[6666, 'Multiverse', [0]] \n",
      "\n",
      "['Newyork', 'London', 'Istanbul', 'Seoul', 'Sydney', 'Addis Ababa'] \n",
      "\n",
      "[1, 4, 9, 7]\n",
      "[1, 4, 6, 9, 7] \n",
      "\n",
      "['Newyork', 'London', 'Stockholm', 'Istanbul', 'Seoul', 'Sydney', 'Addis Ababa']\n"
     ]
    }
   ],
   "source": [
    "empty_list = []\n",
    "empty_list.append(6666)\n",
    "empty_list.append(\"Multiverse\")\n",
    "empty_list.append([0])          \n",
    "print(empty_list, \"\\n\")\n",
    "\n",
    "city = [\"Newyork\", \"London\", \"Istanbul\", \"Seoul\", \"Sydney\"]\n",
    "city.append(\"Addis Ababa\")\n",
    "print(city,\"\\n\")\n",
    "\n",
    "numbers = [1, 4, 7]\n",
    "numbers.insert(2,9)\n",
    "print(numbers)\n",
    "numbers.insert(2,6)\n",
    "print(numbers,\"\\n\")\n",
    "\n",
    "city = [\"Newyork\", \"London\", \"Istanbul\", \"Seoul\", \"Sydney\", \"Addis Ababa\"]\n",
    "city.insert(2,\"Stockholm\")\n",
    "print(city)"
   ]
  },
  {
   "cell_type": "code",
   "execution_count": 50,
   "metadata": {},
   "outputs": [
    {
     "name": "stdout",
     "output_type": "stream",
     "text": [
      "['Newyork', 'Stockholm', 'Istanbul', 'Seoul', 'Sydney', 'Addis Ababa']\n"
     ]
    }
   ],
   "source": [
    "city = ['Newyork', 'London', 'Stockholm', 'Istanbul', 'Seoul', 'Sydney', 'Addis Ababa']\n",
    "city.remove(\"London\")\n",
    "print(city)  # we have deleted \"london\""
   ]
  },
  {
   "cell_type": "code",
   "execution_count": 54,
   "metadata": {},
   "outputs": [
    {
     "name": "stdout",
     "output_type": "stream",
     "text": [
      "[1, 4, 7, 9] \n",
      "\n",
      "['Addis Ababa', 'Istanbul', 'Newyork', 'Seoul', 'Stockholm', 'Sydney']\n"
     ]
    }
   ],
   "source": [
    "numbers = [4, 1, 9, 7]\n",
    "numbers.sort()\n",
    "print(numbers,\"\\n\")\n",
    "\n",
    "city = ['Newyork', 'Stockholm', 'Istanbul', 'Seoul', 'Sydney', 'Addis Ababa']\n",
    "city.sort()\n",
    "print(city)  # lists the items in alphabetical order"
   ]
  },
  {
   "cell_type": "code",
   "execution_count": 55,
   "metadata": {},
   "outputs": [
    {
     "ename": "TypeError",
     "evalue": "'<' not supported between instances of 'int' and 'str'",
     "output_type": "error",
     "traceback": [
      "\u001b[1;31m---------------------------------------------------------------------------\u001b[0m",
      "\u001b[1;31mTypeError\u001b[0m                                 Traceback (most recent call last)",
      "\u001b[1;32m<ipython-input-55-fb1139e74494>\u001b[0m in \u001b[0;36m<module>\u001b[1;34m\u001b[0m\n\u001b[0;32m      1\u001b[0m \u001b[0mmix_list\u001b[0m \u001b[1;33m=\u001b[0m \u001b[1;33m[\u001b[0m\u001b[1;34m\"d\"\u001b[0m\u001b[1;33m,\u001b[0m \u001b[1;36m1\u001b[0m\u001b[1;33m,\u001b[0m \u001b[1;34m\"a\"\u001b[0m\u001b[1;33m,\u001b[0m \u001b[1;36m7\u001b[0m\u001b[1;33m]\u001b[0m\u001b[1;33m\u001b[0m\u001b[1;33m\u001b[0m\u001b[0m\n\u001b[1;32m----> 2\u001b[1;33m \u001b[0mmix_list\u001b[0m\u001b[1;33m.\u001b[0m\u001b[0msort\u001b[0m\u001b[1;33m(\u001b[0m\u001b[1;33m)\u001b[0m\u001b[1;33m\u001b[0m\u001b[1;33m\u001b[0m\u001b[0m\n\u001b[0m\u001b[0;32m      3\u001b[0m \u001b[0mprint\u001b[0m\u001b[1;33m(\u001b[0m\u001b[0mmix_list\u001b[0m\u001b[1;33m)\u001b[0m\u001b[1;33m\u001b[0m\u001b[1;33m\u001b[0m\u001b[0m\n",
      "\u001b[1;31mTypeError\u001b[0m: '<' not supported between instances of 'int' and 'str'"
     ]
    }
   ],
   "source": [
    "mix_list = [\"d\", 1, \"a\", 7]\n",
    "mix_list.sort()\n",
    "print(mix_list)  # The items to be sorted in the list should be the same type"
   ]
  },
  {
   "cell_type": "code",
   "execution_count": 71,
   "metadata": {},
   "outputs": [
    {
     "name": "stdout",
     "output_type": "stream",
     "text": [
      "3\n",
      "['four', 'nine', 'one'] \n",
      "\n",
      "[False, True] \n",
      "\n",
      "[[3], [44], [-12]] \n",
      "\n",
      "[[-12, 1, 0, 0], [-1, 0, 9], [44, 3]]\n"
     ]
    }
   ],
   "source": [
    "list_1 = [\"one\", \"four\", \"nine\"]\n",
    "list_1.sort()\n",
    "print(len(list_1))\n",
    "print(list_1,\"\\n\")\n",
    "\n",
    "list_2 = [True, False]\n",
    "list_2.sort()\n",
    "print(list_2,\"\\n\")\n",
    "\n",
    "list_3 = [[3], [44], [-12]]\n",
    "print(list_3,\"\\n\")\n",
    "\n",
    "list_4 = [[44, 3], [-1, 0, 9], [-12, 1, 0, 0]]\n",
    "list_4.sort()\n",
    "print(list_4)"
   ]
  },
  {
   "cell_type": "code",
   "execution_count": 72,
   "metadata": {},
   "outputs": [
    {
     "name": "stdout",
     "output_type": "stream",
     "text": [
      "4\n"
     ]
    }
   ],
   "source": [
    "list_2 = [\"*-\", \"4\", \"False\", 0]\n",
    "print(len(list_2))"
   ]
  },
  {
   "cell_type": "markdown",
   "metadata": {},
   "source": [
    "# ▶ Indexing a List ▶ Slicing a List ▶ Negative Indexing & Slicing"
   ]
  },
  {
   "cell_type": "code",
   "execution_count": 76,
   "metadata": {},
   "outputs": [
    {
     "name": "stdout",
     "output_type": "stream",
     "text": [
      "a\n",
      "purple\n"
     ]
    }
   ],
   "source": [
    "# list_name = [Index no]\n",
    "\n",
    "word = [\"h\", \"a\", \"p\", \"p\", \"y\"]\n",
    "print(word[1])\n",
    "\n",
    "colors = [\"red\", \"purple\", \"blue\", \"orange\", \"pink\"]\n",
    "print(colors[1])"
   ]
  },
  {
   "cell_type": "code",
   "execution_count": 77,
   "metadata": {},
   "outputs": [
    {
     "name": "stdout",
     "output_type": "stream",
     "text": [
      "[['Newyork', 'Seoul', 'Stockholm', 'Sydney']]\n"
     ]
    }
   ],
   "source": [
    "city = ['Newyork', 'Seoul', 'Stockholm', 'Sydney']\n",
    "\n",
    "city_list = []\n",
    "city_list.append(city)  # we have created a nested list\n",
    "\n",
    "print(city_list)"
   ]
  },
  {
   "cell_type": "code",
   "execution_count": 78,
   "metadata": {},
   "outputs": [
    {
     "name": "stdout",
     "output_type": "stream",
     "text": [
      "['Newyork', 'Seoul', 'Stockholm', 'Sydney']\n"
     ]
    }
   ],
   "source": [
    "city_list = [['Newyork', 'Seoul', 'Stockholm', 'Sydney']]\n",
    "print(city_list[0])  # access to first and only element"
   ]
  },
  {
   "cell_type": "code",
   "execution_count": 79,
   "metadata": {},
   "outputs": [
    {
     "name": "stdout",
     "output_type": "stream",
     "text": [
      "Stockholm\n"
     ]
    }
   ],
   "source": [
    "city_list = [['Newyork', 'Seoul', 'Stockholm', 'Sydney']]\n",
    "print(city_list[0][2])  # The output of the syntax city_list[0] is a list type. So we can still access its elements."
   ]
  },
  {
   "cell_type": "code",
   "execution_count": 80,
   "metadata": {},
   "outputs": [
    {
     "name": "stdout",
     "output_type": "stream",
     "text": [
      "c\n"
     ]
    }
   ],
   "source": [
    "city_list = [['Newyork', 'Seoul', 'Stockholm', 'Sydney']]\n",
    "print(city_list[0][2][3])  # The output of the syntax city_list[0][2] is a str type. So we can still accelss its elements."
   ]
  },
  {
   "cell_type": "code",
   "execution_count": 81,
   "metadata": {},
   "outputs": [
    {
     "name": "stdout",
     "output_type": "stream",
     "text": [
      "[6, 8, 10]\n"
     ]
    }
   ],
   "source": [
    "# Slicing a List >>>>>   list_name = [start:stop:step] >>>> from \"start\" to \"stop-1\", by \"step\"\n",
    "\n",
    "even_numbers = [2, 4, 6, 8, 10, 12, 14]\n",
    "print(even_numbers[2:5])"
   ]
  },
  {
   "cell_type": "code",
   "execution_count": 85,
   "metadata": {},
   "outputs": [
    {
     "name": "stdout",
     "output_type": "stream",
     "text": [
      "[0, 1, 2, 3, 4, 5, 6, 7, 8, 9, 10]\n",
      "[1, 3, 5, 7, 9]\n"
     ]
    }
   ],
   "source": [
    "# range(start, stop, step) function returns an object thet produces a sequence of integers from start to stop by step\n",
    "\n",
    "# Create a list of numbers from 1to 10 using range () fnction and select odd ones by slicingmeth and then print the result. \n",
    "\n",
    "odd_numbs = list(range(11))\n",
    "\n",
    "print(odd_numbs)\n",
    "print(odd_numbs[1:11:2])\n"
   ]
  },
  {
   "cell_type": "code",
   "execution_count": 88,
   "metadata": {},
   "outputs": [
    {
     "name": "stdout",
     "output_type": "stream",
     "text": [
      "['dana', 'öküz', 'koyun', 'keçi'] \n",
      "\n",
      "['eşek', 'it', 'dana', 'öküz', 'koyun'] \n",
      "\n",
      "['eşek', 'dana', 'koyun']\n"
     ]
    }
   ],
   "source": [
    "animals = [\"eşek\", \"it\", \"dana\", \"öküz\", \"koyun\", \"keçi\"]\n",
    "print(animals[2:], \"\\n\")\n",
    "\n",
    "print(animals[:5], \"\\n\")\n",
    "\n",
    "print(animals[::2])"
   ]
  },
  {
   "cell_type": "code",
   "execution_count": 90,
   "metadata": {},
   "outputs": [
    {
     "name": "stdout",
     "output_type": "stream",
     "text": [
      "['one', 'two', 'three']\n"
     ]
    }
   ],
   "source": [
    "mix_list = [1, [1, \"one\", 2, \"two\", 3, \"three\"], 4]  # bu satırdaki string rakamları tek komutla çıkar bakalım hacı\n",
    "print(mix_list[1][1::2])"
   ]
  },
  {
   "cell_type": "code",
   "execution_count": 99,
   "metadata": {},
   "outputs": [
    {
     "name": "stdout",
     "output_type": "stream",
     "text": [
      "London \n",
      "\n",
      "['Seoul', 'Sydney', 'Addis Ababa'] \n",
      "\n",
      "['Newyork', 'London', 'Istanbul', 'Seoul'] \n",
      "\n",
      "['Addis Ababa', 'Sydney', 'Seoul', 'Istanbul', 'London', 'Newyork'] \n",
      "\n",
      "['Addis Ababa', 'Seoul', 'London'] \n",
      "\n",
      "['Addis Ababa', 'Istanbul']\n"
     ]
    }
   ],
   "source": [
    "city = [\"Newyork\", \"London\", \"Istanbul\", \"Seoul\", \"Sydney\", \"Addis Ababa\"]\n",
    "print(city[-5],\"\\n\")\n",
    "\n",
    "print(city[-3:],\"\\n\")\n",
    "\n",
    "print(city[:-2],\"\\n\")\n",
    "\n",
    "print(city[::-1], \"\\n\")\n",
    "\n",
    "print(city[::-2],\"\\n\")\n",
    "\n",
    "print(city[::-3])"
   ]
  },
  {
   "cell_type": "code",
   "execution_count": 102,
   "metadata": {},
   "outputs": [
    {
     "name": "stdout",
     "output_type": "stream",
     "text": [
      "[8, 7, 6, 5]\n",
      "[]\n"
     ]
    }
   ],
   "source": [
    "odd_no = [1, 2, 3, 4, 5, 6, 7, 8, 9, 10]\n",
    "\n",
    "print(odd_no[7:3:-1])\n",
    "print(odd_no[2:6:-1])  # no way to reach. So the output is an empty list"
   ]
  }
 ],
 "metadata": {
  "kernelspec": {
   "display_name": "Python 3",
   "language": "python",
   "name": "python3"
  },
  "language_info": {
   "codemirror_mode": {
    "name": "ipython",
    "version": 3
   },
   "file_extension": ".py",
   "mimetype": "text/x-python",
   "name": "python",
   "nbconvert_exporter": "python",
   "pygments_lexer": "ipython3",
   "version": "3.7.6"
  }
 },
 "nbformat": 4,
 "nbformat_minor": 4
}
