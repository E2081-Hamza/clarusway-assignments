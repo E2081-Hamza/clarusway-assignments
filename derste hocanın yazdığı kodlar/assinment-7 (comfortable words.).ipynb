{
 "cells": [
  {
   "cell_type": "code",
   "execution_count": null,
   "metadata": {},
   "outputs": [],
   "source": [
    "word = set(input(\"comfortable olup olmadığını öğrenmek istediğiniz kelime\\ cümleyi giriniz: \\n\"))\n",
    "left_hand = {'q', 'w', 'e', 'r', 't', 'a','s', 'd', 'f', 'g', 'z', 'x', 'c', 'v', 'b'}\n",
    "right_hand = {'y', 'u', 'i', 'o', 'p', 'h','j', 'k', 'l', 'n', 'm'}\n",
    "x = bool(word.difference(left_hand))\n",
    "y = bool(word.difference(right_hand))\n",
    "print(((x and y) and \"\\ngirdiğiniz kelime/cümle:  comfortable\") or ((x and y) or \"girdiğiniz kelime/cümle: uncomfortable\"))"
   ]
  }
 ],
 "metadata": {
  "kernelspec": {
   "display_name": "Python 3",
   "language": "python",
   "name": "python3"
  },
  "language_info": {
   "codemirror_mode": {
    "name": "ipython",
    "version": 3
   },
   "file_extension": ".py",
   "mimetype": "text/x-python",
   "name": "python",
   "nbconvert_exporter": "python",
   "pygments_lexer": "ipython3",
   "version": "3.7.6"
  }
 },
 "nbformat": 4,
 "nbformat_minor": 4
}
