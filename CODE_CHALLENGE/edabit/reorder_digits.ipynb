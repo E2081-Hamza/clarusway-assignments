{
 "cells": [
  {
   "cell_type": "code",
   "execution_count": null,
   "metadata": {},
   "outputs": [],
   "source": [
    "#reorder_digits([515, 341, 98, 44, 211], \"asc\") ➞ [155, 134, 89, 44, 112]\n",
    "\n",
    "def reorder_digits(lst,order):\n",
    "    if order == \"asc\":\n",
    "        return [int(''.join(sorted(list(str(i)),reverse=True))) for i in lst]            \n",
    "    elif order == \"desc\":\n",
    "        return [int(''.join(sorted(list(str(i))))) for i in lst] \n",
    "    \n",
    "    \n",
    "reorder_digits([515, 341, 98, 44, 211], \"asc\")\n",
    "\n",
    "#reorder_digits([1, 2, 3, 4], \"asc\")"
   ]
  }
 ],
 "metadata": {
  "kernelspec": {
   "display_name": "Python 3",
   "language": "python",
   "name": "python3"
  },
  "language_info": {
   "codemirror_mode": {
    "name": "ipython",
    "version": 3
   },
   "file_extension": ".py",
   "mimetype": "text/x-python",
   "name": "python",
   "nbconvert_exporter": "python",
   "pygments_lexer": "ipython3",
   "version": "3.7.6"
  }
 },
 "nbformat": 4,
 "nbformat_minor": 4
}
